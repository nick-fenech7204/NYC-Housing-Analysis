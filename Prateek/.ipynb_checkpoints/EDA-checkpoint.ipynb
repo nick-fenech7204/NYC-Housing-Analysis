{
 "cells": [
  {
   "cell_type": "code",
   "execution_count": 59,
   "metadata": {},
   "outputs": [],
   "source": [
    "import pandas as pd\n",
    "import matplotlib.pyplot as plt"
   ]
  },
  {
   "cell_type": "code",
   "execution_count": 89,
   "metadata": {},
   "outputs": [],
   "source": [
    "manhattan = pd.read_csv('../Data/2022_manhattan.csv')\n",
    "bronx = pd.read_csv('../Data/2022_bronx.csv')\n",
    "brooklyn = pd.read_csv('../Data/2022_brooklyn.csv')\n",
    "queens = pd.read_csv('../Data/2022_queens.csv')\n",
    "statenisland = pd.read_csv('../Data/2022_staten_island.csv')\n",
    "pd.set_option('display.max_columns', None)"
   ]
  },
  {
   "cell_type": "code",
   "execution_count": 90,
   "metadata": {},
   "outputs": [],
   "source": [
    "x = pd.concat([manhattan,bronx,brooklyn,queens,statenisland])\n",
    "# x.head()"
   ]
  },
  {
   "cell_type": "code",
   "execution_count": 91,
   "metadata": {},
   "outputs": [],
   "source": [
    "x.drop(['EASE-MENT','APARTMENT NUMBER','BUILDING CLASS AT PRESENT','BUILDING CLASS\\nAT TIME OF SALE','ADDRESS'],axis=1,inplace=True);\n",
    "# x.info()"
   ]
  },
  {
   "cell_type": "code",
   "execution_count": 94,
   "metadata": {},
   "outputs": [
    {
     "data": {
      "text/html": [
       "<div>\n",
       "<style scoped>\n",
       "    .dataframe tbody tr th:only-of-type {\n",
       "        vertical-align: middle;\n",
       "    }\n",
       "\n",
       "    .dataframe tbody tr th {\n",
       "        vertical-align: top;\n",
       "    }\n",
       "\n",
       "    .dataframe thead th {\n",
       "        text-align: right;\n",
       "    }\n",
       "</style>\n",
       "<table border=\"1\" class=\"dataframe\">\n",
       "  <thead>\n",
       "    <tr style=\"text-align: right;\">\n",
       "      <th></th>\n",
       "      <th>BOROUGH</th>\n",
       "      <th>NEIGHBORHOOD</th>\n",
       "      <th>BUILDING_CLASS_CATEGORY</th>\n",
       "      <th>TAX_CLASS_AT_PRESENT</th>\n",
       "      <th>BLOCK</th>\n",
       "      <th>LOT</th>\n",
       "      <th>ZIP_CODE</th>\n",
       "      <th>RESIDENTIALUNITS</th>\n",
       "      <th>COMMERCIALUNITS</th>\n",
       "      <th>TOTAL_UNITS</th>\n",
       "      <th>LAND_SQUARE_FEET</th>\n",
       "      <th>GROSS_SQUARE_FEET</th>\n",
       "      <th>YEAR_BUILT</th>\n",
       "      <th>TAX_CLASS_AT_TIME_OF_SALE</th>\n",
       "      <th>SALE_PRICE</th>\n",
       "      <th>SALE_DATE</th>\n",
       "    </tr>\n",
       "  </thead>\n",
       "  <tbody>\n",
       "    <tr>\n",
       "      <th>0</th>\n",
       "      <td>1</td>\n",
       "      <td>ALPHABET CITY</td>\n",
       "      <td>01 ONE FAMILY DWELLINGS</td>\n",
       "      <td>1</td>\n",
       "      <td>374</td>\n",
       "      <td>46</td>\n",
       "      <td>10009.0</td>\n",
       "      <td>1</td>\n",
       "      <td>0.0</td>\n",
       "      <td>1</td>\n",
       "      <td>2116.0</td>\n",
       "      <td>4400.0</td>\n",
       "      <td>1900.0</td>\n",
       "      <td>1</td>\n",
       "      <td>399000.0</td>\n",
       "      <td>9/29/2022</td>\n",
       "    </tr>\n",
       "    <tr>\n",
       "      <th>1</th>\n",
       "      <td>1</td>\n",
       "      <td>ALPHABET CITY</td>\n",
       "      <td>02 TWO FAMILY DWELLINGS</td>\n",
       "      <td>1</td>\n",
       "      <td>377</td>\n",
       "      <td>1</td>\n",
       "      <td>10009.0</td>\n",
       "      <td>2</td>\n",
       "      <td>1.0</td>\n",
       "      <td>3</td>\n",
       "      <td>1502.0</td>\n",
       "      <td>2790.0</td>\n",
       "      <td>1901.0</td>\n",
       "      <td>1</td>\n",
       "      <td>2999999.0</td>\n",
       "      <td>9/15/2022</td>\n",
       "    </tr>\n",
       "    <tr>\n",
       "      <th>2</th>\n",
       "      <td>1</td>\n",
       "      <td>ALPHABET CITY</td>\n",
       "      <td>07 RENTALS - WALKUP APARTMENTS</td>\n",
       "      <td>2B</td>\n",
       "      <td>373</td>\n",
       "      <td>16</td>\n",
       "      <td>10009.0</td>\n",
       "      <td>10</td>\n",
       "      <td>0.0</td>\n",
       "      <td>10</td>\n",
       "      <td>2204.0</td>\n",
       "      <td>8625.0</td>\n",
       "      <td>1899.0</td>\n",
       "      <td>2</td>\n",
       "      <td>16800000.0</td>\n",
       "      <td>8/4/2022</td>\n",
       "    </tr>\n",
       "    <tr>\n",
       "      <th>3</th>\n",
       "      <td>1</td>\n",
       "      <td>ALPHABET CITY</td>\n",
       "      <td>07 RENTALS - WALKUP APARTMENTS</td>\n",
       "      <td>2B</td>\n",
       "      <td>373</td>\n",
       "      <td>17</td>\n",
       "      <td>10009.0</td>\n",
       "      <td>10</td>\n",
       "      <td>0.0</td>\n",
       "      <td>10</td>\n",
       "      <td>2204.0</td>\n",
       "      <td>8625.0</td>\n",
       "      <td>1900.0</td>\n",
       "      <td>2</td>\n",
       "      <td>16800000.0</td>\n",
       "      <td>8/4/2022</td>\n",
       "    </tr>\n",
       "    <tr>\n",
       "      <th>4</th>\n",
       "      <td>1</td>\n",
       "      <td>ALPHABET CITY</td>\n",
       "      <td>07 RENTALS - WALKUP APARTMENTS</td>\n",
       "      <td>2</td>\n",
       "      <td>376</td>\n",
       "      <td>54</td>\n",
       "      <td>10009.0</td>\n",
       "      <td>20</td>\n",
       "      <td>0.0</td>\n",
       "      <td>20</td>\n",
       "      <td>2302.0</td>\n",
       "      <td>9750.0</td>\n",
       "      <td>1900.0</td>\n",
       "      <td>2</td>\n",
       "      <td>158822.0</td>\n",
       "      <td>9/27/2022</td>\n",
       "    </tr>\n",
       "  </tbody>\n",
       "</table>\n",
       "</div>"
      ],
      "text/plain": [
       "   BOROUGH   NEIGHBORHOOD         BUILDING_CLASS_CATEGORY  \\\n",
       "0        1  ALPHABET CITY         01 ONE FAMILY DWELLINGS   \n",
       "1        1  ALPHABET CITY         02 TWO FAMILY DWELLINGS   \n",
       "2        1  ALPHABET CITY  07 RENTALS - WALKUP APARTMENTS   \n",
       "3        1  ALPHABET CITY  07 RENTALS - WALKUP APARTMENTS   \n",
       "4        1  ALPHABET CITY  07 RENTALS - WALKUP APARTMENTS   \n",
       "\n",
       "  TAX_CLASS_AT_PRESENT  BLOCK  LOT  ZIP_CODE RESIDENTIALUNITS COMMERCIALUNITS  \\\n",
       "0                    1    374   46   10009.0                1             0.0   \n",
       "1                    1    377    1   10009.0                2             1.0   \n",
       "2                   2B    373   16   10009.0               10             0.0   \n",
       "3                   2B    373   17   10009.0               10             0.0   \n",
       "4                    2    376   54   10009.0               20             0.0   \n",
       "\n",
       "  TOTAL_UNITS  LAND_SQUARE_FEET  GROSS_SQUARE_FEET  YEAR_BUILT  \\\n",
       "0           1            2116.0             4400.0      1900.0   \n",
       "1           3            1502.0             2790.0      1901.0   \n",
       "2          10            2204.0             8625.0      1899.0   \n",
       "3          10            2204.0             8625.0      1900.0   \n",
       "4          20            2302.0             9750.0      1900.0   \n",
       "\n",
       "   TAX_CLASS_AT_TIME_OF_SALE  SALE_PRICE  SALE_DATE  \n",
       "0                          1    399000.0  9/29/2022  \n",
       "1                          1   2999999.0  9/15/2022  \n",
       "2                          2  16800000.0   8/4/2022  \n",
       "3                          2  16800000.0   8/4/2022  \n",
       "4                          2    158822.0  9/27/2022  "
      ]
     },
     "execution_count": 94,
     "metadata": {},
     "output_type": "execute_result"
    }
   ],
   "source": [
    "x.head()"
   ]
  },
  {
   "cell_type": "code",
   "execution_count": 93,
   "metadata": {},
   "outputs": [],
   "source": [
    "x.columns = x.columns.str.replace(' ', '_')\n",
    "x.columns = x.columns.str.replace('\\n', '')\n",
    "x['LAND_SQUARE_FEET']=x['LAND_SQUARE_FEET'].str.replace(',','')\n",
    "x['GROSS_SQUARE_FEET']=x['GROSS_SQUARE_FEET'].str.replace(',','')\n",
    "x['SALE_PRICE']=x['SALE_PRICE'].str.replace(',','')\n",
    "x = x.astype({'LAND_SQUARE_FEET': float})\n",
    "x = x.astype({'GROSS_SQUARE_FEET': float})\n",
    "x = x.astype({'SALE_PRICE': float})"
   ]
  },
  {
   "cell_type": "code",
   "execution_count": 95,
   "metadata": {},
   "outputs": [
    {
     "data": {
      "image/png": "[encoded data removed]",
      "text/plain": [
       "<Figure size 432x288 with 1 Axes>"
      ]
     },
     "metadata": {
      "needs_background": "light"
     },
     "output_type": "display_data"
    }
   ],
   "source": [
    "y = x[['BOROUGH','SALE_PRICE']]\n",
    "y.groupby(['BOROUGH']).mean().plot.bar(rot = 0);"
   ]
  },
  {
   "cell_type": "code",
   "execution_count": 97,
   "metadata": {},
   "outputs": [
    {
     "name": "stdout",
     "output_type": "stream",
     "text": [
      "<class 'pandas.core.frame.DataFrame'>\n",
      "Int64Index: 93427 entries, 0 to 8644\n",
      "Data columns (total 16 columns):\n",
      " #   Column                     Non-Null Count  Dtype  \n",
      "---  ------                     --------------  -----  \n",
      " 0   BOROUGH                    93427 non-null  int64  \n",
      " 1   NEIGHBORHOOD               93427 non-null  object \n",
      " 2   BUILDING_CLASS_CATEGORY    93427 non-null  object \n",
      " 3   TAX_CLASS_AT_PRESENT       93315 non-null  object \n",
      " 4   BLOCK                      93427 non-null  int64  \n",
      " 5   LOT                        93427 non-null  int64  \n",
      " 6   ZIP_CODE                   93420 non-null  float64\n",
      " 7   RESIDENTIALUNITS           70301 non-null  object \n",
      " 8   COMMERCIALUNITS            52559 non-null  object \n",
      " 9   TOTAL_UNITS                73268 non-null  object \n",
      " 10  LAND_SQUARE_FEET           49592 non-null  float64\n",
      " 11  GROSS_SQUARE_FEET          49592 non-null  float64\n",
      " 12  YEAR_BUILT                 87318 non-null  float64\n",
      " 13  TAX_CLASS_AT_TIME_OF_SALE  93427 non-null  int64  \n",
      " 14  SALE_PRICE                 93427 non-null  float64\n",
      " 15  SALE_DATE                  93427 non-null  object \n",
      "dtypes: float64(5), int64(4), object(7)\n",
      "memory usage: 12.1+ MB\n"
     ]
    }
   ],
   "source": [
    "x.info()"
   ]
  },
  {
   "cell_type": "code",
   "execution_count": 100,
   "metadata": {},
   "outputs": [],
   "source": [
    "x.to_csv('../Data/2022Boroughs.csv')"
   ]
  },
  {
   "cell_type": "code",
   "execution_count": null,
   "metadata": {},
   "outputs": [],
   "source": []
  }
 ],
 "metadata": {
  "kernelspec": {
   "display_name": "Python 3",
   "language": "python",
   "name": "python3"
  },
  "language_info": {
   "codemirror_mode": {
    "name": "ipython",
    "version": 3
   },
   "file_extension": ".py",
   "mimetype": "text/x-python",
   "name": "python",
   "nbconvert_exporter": "python",
   "pygments_lexer": "ipython3",
   "version": "3.7.1"
  }
 },
 "nbformat": 4,
 "nbformat_minor": 2
}
