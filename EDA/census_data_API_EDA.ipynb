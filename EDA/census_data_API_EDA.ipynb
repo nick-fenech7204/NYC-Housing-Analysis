{
 "cells": [
  {
   "attachments": {},
   "cell_type": "markdown",
   "metadata": {},
   "source": [
    "# EDA of Census Data"
   ]
  },
  {
   "attachments": {},
   "cell_type": "markdown",
   "metadata": {},
   "source": [
    "### Cells 1 through 3 are the API Pull to Aquire the Data From the EDA"
   ]
  },
  {
   "cell_type": "code",
   "execution_count": 94,
   "metadata": {},
   "outputs": [],
   "source": [
    "import requests\n",
    "import pandas as pd\n",
    "import matplotlib.pyplot  as plt\n",
    "import numpy as np\n",
    "import plotly.express as px\n",
    "\n",
    "base_url = \"https://api.census.gov/data/\"\n",
    "variables = \"NAME,B25106_002E,B25106_036E,B25087_001E,B25087_002E,B25087_019E,B25087_018E,B25087_017E,B25087_016E,B25087_015E,B25087_014E,B25087_013E,B25087_012E,B25105_001E,B25079_005E,B25079_004E,B25079_003E,B25063_002E,B25063_019E,B25063_020E,B25063_021E,B25063_022E,B25063_023E,B25063_024E,B25063_025E,B25063_026E,B01003_001E,B02001_002E,B02001_003E,B02001_004E,B02001_005E,B02001_006E,B02001_007E,B02001_008E,B01002_001E,B01002A_001E,B01002B_001E,B01002C_001E,B01002D_001E,B01002E_001E,B01002F_001E,B01002G_001E\"\n",
    "geo_location = \"&for=county:005,047,061,081,085&in=state:36\"\n",
    "years = [\"2016\", \"2021\"]\n",
    "\n",
    "for i in years:\n",
    "  \n",
    "    url = base_url + i + \"/acs/acs5?get=\" + variables + geo_location\n",
    "    response = requests.get(url)\n",
    "    df = pd.DataFrame(response.json()[1:], columns=response.json()[0])\n",
    "    df.to_csv(f\"{i}_data.csv\", index=False)\n",
    "    \n",
    "\n"
   ]
  },
  {
   "cell_type": "code",
   "execution_count": 95,
   "metadata": {},
   "outputs": [],
   "source": [
    "file_paths = [\"../M11-Capstone/2016_data.csv\", \"../M11-Capstone/2021_data.csv\"]\n",
    "\n",
    "for x in file_paths:\n",
    "    census = pd.read_csv(x)\n",
    "    pd.options.display.max_columns = 999\n",
    "    new_columns = {'B25106_002E': 'Housing Cost: Total Survey Population', 'B25106_036E': 'Housing Cost 30 percent or more of income', 'B25087_001E' : 'Mortgage Status: Total Survey Population',\n",
    "               'B25087_002E': 'Housing units with a Mortgage', 'B25087_019E': 'Mortgage Cost over $4,000 per Month', 'B25105_001E': 'Median Monthly Housing Cost', 'B25079_005E': 'Aggregate Value of Home: Owner Age 65 annd Over',\n",
    "               'B25079_004E': 'Aggregate Value of Home: Owner Age 35 to 64 Years Old', 'B25079_003E' : 'Aggregate Value of Home: Owner Age 25 to 34 Years Old', 'B25087_012E': 'Mortgage Cost between $1,000 to $1,249',\n",
    "               'B25087_018E': 'Mortgage Cost between $3,500 to $3,999','B25087_017E': 'Mortgage Cost between $3,000 to $3,499','B25087_016E': 'Mortgage Cost between $2,999 to $2,500','B25087_015E': 'Mortgage Cost between $2,000 to $2,499',\n",
    "               'B25087_014E': 'Mortgage Cost between $1,500 to $1,999','B25087_013E': 'Mortgage Cost between $1,250 to $1,499','B25063_002E' : 'Gross Rent: Total Survey Population', 'B25063_019E': 'Rent Cost between $900 to $999',\n",
    "               'B25063_020E': 'Rent Cost between $1,000 to $1,249', 'B25063_021E':' Rent Cost between $1,250 to $1,499' , 'B25063_022E': 'Rent Cost between $1,500 to $1,999','B25063_023E': 'Rent Cost between $2,000 to $2,499',\n",
    "               'B25063_024E': 'Rent Cost between $2,500 to $2,999', 'B25063_025E': 'Rent Cost between $3,000 to $3,499', 'B25063_026E': 'Rent Cost between $3,500 or More','B01003_001E': 'Total Population',\n",
    "               'B02001_002E': 'Race: White','B02001_003E': 'Race: Black or African American ','B02001_004E': 'Race: American Indian and Alaska Native','B02001_005E': 'Race: Asian','B02001_006E': 'Race: Native Hawaiian and Other Pacific Islander',\n",
    "               'B02001_007E': 'Race: Other Race Alone', 'B02001_008E': 'Race: Two or More Races', 'B01002_001E': 'Median Age of Total Population','B01002A_001E': 'Median Age: White', 'B01002B_001E': 'Median Age: Black or African American',\n",
    "               'B01002C_001E': 'Median Age: American Indian and Alaska Native', 'B01002D_001E': 'Median Age: Asian', 'B01002E_001E': 'Median Age: Native Hawaiian and Other Pacific Islander', 'B01002F_001E': 'Median Age: Other Race Alone',\n",
    "               'B01002G_001E': 'Median Age: Two or More Races', 'NAME': 'Borough'}\n",
    "    df2 = census.rename(columns=new_columns)\n",
    "    cleaned_file_path = x.replace(\".csv\", \"_cleaned_and_final.csv\")\n",
    "    df2.to_csv(cleaned_file_path, index=False)\n"
   ]
  },
  {
   "cell_type": "code",
   "execution_count": 104,
   "metadata": {},
   "outputs": [
    {
     "data": {
      "text/html": [
       "<div>\n",
       "<style scoped>\n",
       "    .dataframe tbody tr th:only-of-type {\n",
       "        vertical-align: middle;\n",
       "    }\n",
       "\n",
       "    .dataframe tbody tr th {\n",
       "        vertical-align: top;\n",
       "    }\n",
       "\n",
       "    .dataframe thead th {\n",
       "        text-align: right;\n",
       "    }\n",
       "</style>\n",
       "<table border=\"1\" class=\"dataframe\">\n",
       "  <thead>\n",
       "    <tr style=\"text-align: right;\">\n",
       "      <th></th>\n",
       "      <th>Borough</th>\n",
       "      <th>Housing Cost: Total Survey Population</th>\n",
       "      <th>Housing Cost 30 percent or more of income</th>\n",
       "      <th>Mortgage Status: Total Survey Population</th>\n",
       "      <th>Housing units with a Mortgage</th>\n",
       "      <th>Mortgage Cost over $4,000 per Month</th>\n",
       "      <th>Mortgage Cost between $3,500 to $3,999</th>\n",
       "      <th>Mortgage Cost between $3,000 to $3,499</th>\n",
       "      <th>Mortgage Cost between $2,999 to $2,500</th>\n",
       "      <th>Mortgage Cost between $2,000 to $2,499</th>\n",
       "      <th>Mortgage Cost between $1,500 to $1,999</th>\n",
       "      <th>Mortgage Cost between $1,250 to $1,499</th>\n",
       "      <th>Mortgage Cost between $1,000 to $1,249</th>\n",
       "      <th>Median Monthly Housing Cost</th>\n",
       "      <th>Aggregate Value of Home: Owner Age 65 annd Over</th>\n",
       "      <th>Aggregate Value of Home: Owner Age 35 to 64 Years Old</th>\n",
       "      <th>Aggregate Value of Home: Owner Age 25 to 34 Years Old</th>\n",
       "      <th>Gross Rent: Total Survey Population</th>\n",
       "      <th>Rent Cost between $900 to $999</th>\n",
       "      <th>Rent Cost between $1,000 to $1,249</th>\n",
       "      <th>Rent Cost between $1,250 to $1,499</th>\n",
       "      <th>Rent Cost between $1,500 to $1,999</th>\n",
       "      <th>Rent Cost between $2,000 to $2,499</th>\n",
       "      <th>Rent Cost between $2,500 to $2,999</th>\n",
       "      <th>Rent Cost between $3,000 to $3,499</th>\n",
       "      <th>Rent Cost between $3,500 or More</th>\n",
       "      <th>Total Population</th>\n",
       "      <th>Race: White</th>\n",
       "      <th>Race: Black or African American</th>\n",
       "      <th>Race: American Indian and Alaska Native</th>\n",
       "      <th>Race: Asian</th>\n",
       "      <th>Race: Native Hawaiian and Other Pacific Islander</th>\n",
       "      <th>Race: Other Race Alone</th>\n",
       "      <th>Race: Two or More Races</th>\n",
       "      <th>Median Age of Total Population</th>\n",
       "      <th>Median Age: White</th>\n",
       "      <th>Median Age: Black or African American</th>\n",
       "      <th>Median Age: American Indian and Alaska Native</th>\n",
       "      <th>Median Age: Asian</th>\n",
       "      <th>Median Age: Native Hawaiian and Other Pacific Islander</th>\n",
       "      <th>Median Age: Other Race Alone</th>\n",
       "      <th>Median Age: Two or More Races</th>\n",
       "      <th>Survey Range (Years)</th>\n",
       "    </tr>\n",
       "  </thead>\n",
       "  <tbody>\n",
       "    <tr>\n",
       "      <th>0</th>\n",
       "      <td>Queens County, New York</td>\n",
       "      <td>341363</td>\n",
       "      <td>47228</td>\n",
       "      <td>341363</td>\n",
       "      <td>206653</td>\n",
       "      <td>20422</td>\n",
       "      <td>15598</td>\n",
       "      <td>26111</td>\n",
       "      <td>36403</td>\n",
       "      <td>38417</td>\n",
       "      <td>31495</td>\n",
       "      <td>11449</td>\n",
       "      <td>10359</td>\n",
       "      <td>1434</td>\n",
       "      <td>51786055000</td>\n",
       "      <td>106334986700</td>\n",
       "      <td>10432823700</td>\n",
       "      <td>422289</td>\n",
       "      <td>20322</td>\n",
       "      <td>73334</td>\n",
       "      <td>90050</td>\n",
       "      <td>126203</td>\n",
       "      <td>35891</td>\n",
       "      <td>8034</td>\n",
       "      <td>3678</td>\n",
       "      <td>1823</td>\n",
       "      <td>2310011</td>\n",
       "      <td>936414</td>\n",
       "      <td>423451</td>\n",
       "      <td>8976</td>\n",
       "      <td>572759</td>\n",
       "      <td>1091</td>\n",
       "      <td>288733</td>\n",
       "      <td>78587</td>\n",
       "      <td>37.9</td>\n",
       "      <td>40.3</td>\n",
       "      <td>37.9</td>\n",
       "      <td>36.7</td>\n",
       "      <td>38.3</td>\n",
       "      <td>37.8</td>\n",
       "      <td>32.6</td>\n",
       "      <td>28.2</td>\n",
       "      <td>2011-2015</td>\n",
       "    </tr>\n",
       "    <tr>\n",
       "      <th>1</th>\n",
       "      <td>New York County, New York</td>\n",
       "      <td>174361</td>\n",
       "      <td>30782</td>\n",
       "      <td>174361</td>\n",
       "      <td>91128</td>\n",
       "      <td>30316</td>\n",
       "      <td>6901</td>\n",
       "      <td>8714</td>\n",
       "      <td>9865</td>\n",
       "      <td>10233</td>\n",
       "      <td>11314</td>\n",
       "      <td>4387</td>\n",
       "      <td>4025</td>\n",
       "      <td>1641</td>\n",
       "      <td>78396853400</td>\n",
       "      <td>149233670500</td>\n",
       "      <td>17035589500</td>\n",
       "      <td>567096</td>\n",
       "      <td>25609</td>\n",
       "      <td>56327</td>\n",
       "      <td>46558</td>\n",
       "      <td>83186</td>\n",
       "      <td>69878</td>\n",
       "      <td>54210</td>\n",
       "      <td>44261</td>\n",
       "      <td>44475</td>\n",
       "      <td>1634989</td>\n",
       "      <td>928883</td>\n",
       "      <td>244787</td>\n",
       "      <td>6173</td>\n",
       "      <td>192573</td>\n",
       "      <td>946</td>\n",
       "      <td>192292</td>\n",
       "      <td>69335</td>\n",
       "      <td>36.7</td>\n",
       "      <td>38.3</td>\n",
       "      <td>38.2</td>\n",
       "      <td>39.1</td>\n",
       "      <td>35.8</td>\n",
       "      <td>39.6</td>\n",
       "      <td>32.8</td>\n",
       "      <td>29.0</td>\n",
       "      <td>2011-2015</td>\n",
       "    </tr>\n",
       "    <tr>\n",
       "      <th>2</th>\n",
       "      <td>Bronx County, New York</td>\n",
       "      <td>93569</td>\n",
       "      <td>33440</td>\n",
       "      <td>93569</td>\n",
       "      <td>56795</td>\n",
       "      <td>4419</td>\n",
       "      <td>4503</td>\n",
       "      <td>7561</td>\n",
       "      <td>9649</td>\n",
       "      <td>9339</td>\n",
       "      <td>8204</td>\n",
       "      <td>3489</td>\n",
       "      <td>3013</td>\n",
       "      <td>1122</td>\n",
       "      <td>10378417400</td>\n",
       "      <td>21045511900</td>\n",
       "      <td>1636090800</td>\n",
       "      <td>387705</td>\n",
       "      <td>29798</td>\n",
       "      <td>95798</td>\n",
       "      <td>68412</td>\n",
       "      <td>54158</td>\n",
       "      <td>10298</td>\n",
       "      <td>1687</td>\n",
       "      <td>638</td>\n",
       "      <td>223</td>\n",
       "      <td>1436785</td>\n",
       "      <td>295351</td>\n",
       "      <td>476525</td>\n",
       "      <td>8375</td>\n",
       "      <td>52462</td>\n",
       "      <td>706</td>\n",
       "      <td>551787</td>\n",
       "      <td>51579</td>\n",
       "      <td>33.3</td>\n",
       "      <td>41.9</td>\n",
       "      <td>34.5</td>\n",
       "      <td>32.2</td>\n",
       "      <td>35.6</td>\n",
       "      <td>33.8</td>\n",
       "      <td>29.5</td>\n",
       "      <td>26.6</td>\n",
       "      <td>2011-2015</td>\n",
       "    </tr>\n",
       "  </tbody>\n",
       "</table>\n",
       "</div>"
      ],
      "text/plain": [
       "                     Borough  Housing Cost: Total Survey Population   \n",
       "0    Queens County, New York                                 341363  \\\n",
       "1  New York County, New York                                 174361   \n",
       "2     Bronx County, New York                                  93569   \n",
       "\n",
       "   Housing Cost 30 percent or more of income   \n",
       "0                                      47228  \\\n",
       "1                                      30782   \n",
       "2                                      33440   \n",
       "\n",
       "   Mortgage Status: Total Survey Population  Housing units with a Mortgage   \n",
       "0                                    341363                         206653  \\\n",
       "1                                    174361                          91128   \n",
       "2                                     93569                          56795   \n",
       "\n",
       "   Mortgage Cost over $4,000 per Month   \n",
       "0                                20422  \\\n",
       "1                                30316   \n",
       "2                                 4419   \n",
       "\n",
       "   Mortgage Cost between $3,500 to $3,999   \n",
       "0                                   15598  \\\n",
       "1                                    6901   \n",
       "2                                    4503   \n",
       "\n",
       "   Mortgage Cost between $3,000 to $3,499   \n",
       "0                                   26111  \\\n",
       "1                                    8714   \n",
       "2                                    7561   \n",
       "\n",
       "   Mortgage Cost between $2,999 to $2,500   \n",
       "0                                   36403  \\\n",
       "1                                    9865   \n",
       "2                                    9649   \n",
       "\n",
       "   Mortgage Cost between $2,000 to $2,499   \n",
       "0                                   38417  \\\n",
       "1                                   10233   \n",
       "2                                    9339   \n",
       "\n",
       "   Mortgage Cost between $1,500 to $1,999   \n",
       "0                                   31495  \\\n",
       "1                                   11314   \n",
       "2                                    8204   \n",
       "\n",
       "   Mortgage Cost between $1,250 to $1,499   \n",
       "0                                   11449  \\\n",
       "1                                    4387   \n",
       "2                                    3489   \n",
       "\n",
       "   Mortgage Cost between $1,000 to $1,249  Median Monthly Housing Cost   \n",
       "0                                   10359                         1434  \\\n",
       "1                                    4025                         1641   \n",
       "2                                    3013                         1122   \n",
       "\n",
       "   Aggregate Value of Home: Owner Age 65 annd Over   \n",
       "0                                      51786055000  \\\n",
       "1                                      78396853400   \n",
       "2                                      10378417400   \n",
       "\n",
       "   Aggregate Value of Home: Owner Age 35 to 64 Years Old   \n",
       "0                                       106334986700      \\\n",
       "1                                       149233670500       \n",
       "2                                        21045511900       \n",
       "\n",
       "   Aggregate Value of Home: Owner Age 25 to 34 Years Old   \n",
       "0                                        10432823700      \\\n",
       "1                                        17035589500       \n",
       "2                                         1636090800       \n",
       "\n",
       "   Gross Rent: Total Survey Population  Rent Cost between $900 to $999   \n",
       "0                               422289                           20322  \\\n",
       "1                               567096                           25609   \n",
       "2                               387705                           29798   \n",
       "\n",
       "   Rent Cost between $1,000 to $1,249   Rent Cost between $1,250 to $1,499   \n",
       "0                               73334                                90050  \\\n",
       "1                               56327                                46558   \n",
       "2                               95798                                68412   \n",
       "\n",
       "   Rent Cost between $1,500 to $1,999  Rent Cost between $2,000 to $2,499   \n",
       "0                              126203                               35891  \\\n",
       "1                               83186                               69878   \n",
       "2                               54158                               10298   \n",
       "\n",
       "   Rent Cost between $2,500 to $2,999  Rent Cost between $3,000 to $3,499   \n",
       "0                                8034                                3678  \\\n",
       "1                               54210                               44261   \n",
       "2                                1687                                 638   \n",
       "\n",
       "   Rent Cost between $3,500 or More  Total Population  Race: White   \n",
       "0                              1823           2310011       936414  \\\n",
       "1                             44475           1634989       928883   \n",
       "2                               223           1436785       295351   \n",
       "\n",
       "   Race: Black or African American   Race: American Indian and Alaska Native   \n",
       "0                            423451                                     8976  \\\n",
       "1                            244787                                     6173   \n",
       "2                            476525                                     8375   \n",
       "\n",
       "   Race: Asian  Race: Native Hawaiian and Other Pacific Islander   \n",
       "0       572759                                              1091  \\\n",
       "1       192573                                               946   \n",
       "2        52462                                               706   \n",
       "\n",
       "   Race: Other Race Alone  Race: Two or More Races   \n",
       "0                  288733                    78587  \\\n",
       "1                  192292                    69335   \n",
       "2                  551787                    51579   \n",
       "\n",
       "   Median Age of Total Population  Median Age: White   \n",
       "0                            37.9               40.3  \\\n",
       "1                            36.7               38.3   \n",
       "2                            33.3               41.9   \n",
       "\n",
       "   Median Age: Black or African American   \n",
       "0                                   37.9  \\\n",
       "1                                   38.2   \n",
       "2                                   34.5   \n",
       "\n",
       "   Median Age: American Indian and Alaska Native  Median Age: Asian   \n",
       "0                                           36.7               38.3  \\\n",
       "1                                           39.1               35.8   \n",
       "2                                           32.2               35.6   \n",
       "\n",
       "   Median Age: Native Hawaiian and Other Pacific Islander   \n",
       "0                                               37.8       \\\n",
       "1                                               39.6        \n",
       "2                                               33.8        \n",
       "\n",
       "   Median Age: Other Race Alone  Median Age: Two or More Races   \n",
       "0                          32.6                           28.2  \\\n",
       "1                          32.8                           29.0   \n",
       "2                          29.5                           26.6   \n",
       "\n",
       "  Survey Range (Years)  \n",
       "0            2011-2015  \n",
       "1            2011-2015  \n",
       "2            2011-2015  "
      ]
     },
     "execution_count": 104,
     "metadata": {},
     "output_type": "execute_result"
    }
   ],
   "source": [
    "y2016 = pd.read_csv('../M11-Capstone/2016_data_cleaned_and_final.csv')\n",
    "y2016 = y2016.assign(Z = '2011-2015')\n",
    "y2016 = y2016.rename(columns={'Z':'Survey Range (Years)'})\n",
    "y2016 = y2016.drop(['state', 'county'], axis =1)\n",
    "\n",
    "y2021 = pd.read_csv('../M11-Capstone/2021_data_cleaned_and_final.csv')\n",
    "y2021 = y2021.assign(W = '2016-2020')\n",
    "y2021 = y2021.rename(columns={'W':'Survey Range (Years)'})\n",
    "y2021 = y2021.drop(['state', 'county'], axis =1)\n",
    "\n",
    "dataframes = [y2016,y2021]\n",
    "census_bureau_dataframe = pd.concat(dataframes)\n",
    "census_bureau_dataframe.to_csv('../M11-Capstone/data/census_bureau_dataframe.csv')\n",
    "census_bureau_dataframe.head(3)"
   ]
  },
  {
   "attachments": {},
   "cell_type": "markdown",
   "metadata": {},
   "source": [
    "### Using Describe() to gather information on the Set"
   ]
  },
  {
   "cell_type": "code",
   "execution_count": 98,
   "metadata": {},
   "outputs": [
    {
     "data": {
      "text/html": [
       "<div>\n",
       "<style scoped>\n",
       "    .dataframe tbody tr th:only-of-type {\n",
       "        vertical-align: middle;\n",
       "    }\n",
       "\n",
       "    .dataframe tbody tr th {\n",
       "        vertical-align: top;\n",
       "    }\n",
       "\n",
       "    .dataframe thead th {\n",
       "        text-align: right;\n",
       "    }\n",
       "</style>\n",
       "<table border=\"1\" class=\"dataframe\">\n",
       "  <thead>\n",
       "    <tr style=\"text-align: right;\">\n",
       "      <th></th>\n",
       "      <th>Housing Cost: Total Survey Population</th>\n",
       "      <th>Housing Cost 30 percent or more of income</th>\n",
       "      <th>Mortgage Status: Total Survey Population</th>\n",
       "      <th>Housing units with a Mortgage</th>\n",
       "      <th>Mortgage Cost over $4,000 per Month</th>\n",
       "      <th>Mortgage Cost between $3,500 to $3,999</th>\n",
       "      <th>Mortgage Cost between $3,000 to $3,499</th>\n",
       "      <th>Mortgage Cost between $2,999 to $2,500</th>\n",
       "      <th>Mortgage Cost between $2,000 to $2,499</th>\n",
       "      <th>Mortgage Cost between $1,500 to $1,999</th>\n",
       "      <th>Mortgage Cost between $1,250 to $1,499</th>\n",
       "      <th>Mortgage Cost between $1,000 to $1,249</th>\n",
       "      <th>Median Monthly Housing Cost</th>\n",
       "      <th>Aggregate Value of Home: Owner Age 65 annd Over</th>\n",
       "      <th>Aggregate Value of Home: Owner Age 35 to 64 Years Old</th>\n",
       "      <th>Aggregate Value of Home: Owner Age 25 to 34 Years Old</th>\n",
       "      <th>Gross Rent: Total Survey Population</th>\n",
       "      <th>Rent Cost between $900 to $999</th>\n",
       "      <th>Rent Cost between $1,000 to $1,249</th>\n",
       "      <th>Rent Cost between $1,250 to $1,499</th>\n",
       "      <th>Rent Cost between $1,500 to $1,999</th>\n",
       "      <th>Rent Cost between $2,000 to $2,499</th>\n",
       "      <th>Rent Cost between $2,500 to $2,999</th>\n",
       "      <th>Rent Cost between $3,000 to $3,499</th>\n",
       "      <th>Rent Cost between $3,500 or More</th>\n",
       "      <th>Total Population</th>\n",
       "      <th>Race: White</th>\n",
       "      <th>Race: Black or African American</th>\n",
       "      <th>Race: American Indian and Alaska Native</th>\n",
       "      <th>Race: Asian</th>\n",
       "      <th>Race: Native Hawaiian and Other Pacific Islander</th>\n",
       "      <th>Race: Other Race Alone</th>\n",
       "      <th>Race: Two or More Races</th>\n",
       "      <th>Median Age of Total Population</th>\n",
       "      <th>Median Age: White</th>\n",
       "      <th>Median Age: Black or African American</th>\n",
       "      <th>Median Age: American Indian and Alaska Native</th>\n",
       "      <th>Median Age: Asian</th>\n",
       "      <th>Median Age: Native Hawaiian and Other Pacific Islander</th>\n",
       "      <th>Median Age: Other Race Alone</th>\n",
       "      <th>Median Age: Two or More Races</th>\n",
       "    </tr>\n",
       "  </thead>\n",
       "  <tbody>\n",
       "    <tr>\n",
       "      <th>count</th>\n",
       "      <td>10.000000</td>\n",
       "      <td>10.000000</td>\n",
       "      <td>10.000000</td>\n",
       "      <td>10.000000</td>\n",
       "      <td>10.000000</td>\n",
       "      <td>10.000000</td>\n",
       "      <td>10.000000</td>\n",
       "      <td>10.00000</td>\n",
       "      <td>10.000000</td>\n",
       "      <td>10.000000</td>\n",
       "      <td>10.000000</td>\n",
       "      <td>10.00000</td>\n",
       "      <td>10.0000</td>\n",
       "      <td>1.000000e+01</td>\n",
       "      <td>1.000000e+01</td>\n",
       "      <td>1.000000e+01</td>\n",
       "      <td>10.000000</td>\n",
       "      <td>10.000000</td>\n",
       "      <td>10.000000</td>\n",
       "      <td>10.000000</td>\n",
       "      <td>10.000000</td>\n",
       "      <td>10.000000</td>\n",
       "      <td>10.000000</td>\n",
       "      <td>10.000000</td>\n",
       "      <td>10.000000</td>\n",
       "      <td>1.000000e+01</td>\n",
       "      <td>1.000000e+01</td>\n",
       "      <td>10.000000</td>\n",
       "      <td>10.00000</td>\n",
       "      <td>10.000000</td>\n",
       "      <td>10.000000</td>\n",
       "      <td>10.000000</td>\n",
       "      <td>10.000000</td>\n",
       "      <td>10.000000</td>\n",
       "      <td>10.000000</td>\n",
       "      <td>10.000000</td>\n",
       "      <td>10.000000</td>\n",
       "      <td>10.000000</td>\n",
       "      <td>10.000000</td>\n",
       "      <td>10.000000</td>\n",
       "      <td>10.00000</td>\n",
       "    </tr>\n",
       "    <tr>\n",
       "      <th>mean</th>\n",
       "      <td>207803.800000</td>\n",
       "      <td>34982.000000</td>\n",
       "      <td>207803.800000</td>\n",
       "      <td>122454.600000</td>\n",
       "      <td>23003.600000</td>\n",
       "      <td>11374.100000</td>\n",
       "      <td>15934.800000</td>\n",
       "      <td>19885.40000</td>\n",
       "      <td>19232.000000</td>\n",
       "      <td>15541.800000</td>\n",
       "      <td>5739.100000</td>\n",
       "      <td>4878.30000</td>\n",
       "      <td>1544.7000</td>\n",
       "      <td>5.154511e+10</td>\n",
       "      <td>1.012363e+11</td>\n",
       "      <td>1.071493e+10</td>\n",
       "      <td>418729.400000</td>\n",
       "      <td>18781.800000</td>\n",
       "      <td>59435.700000</td>\n",
       "      <td>60327.000000</td>\n",
       "      <td>89208.000000</td>\n",
       "      <td>44962.300000</td>\n",
       "      <td>22401.600000</td>\n",
       "      <td>14907.000000</td>\n",
       "      <td>18877.900000</td>\n",
       "      <td>1.719801e+06</td>\n",
       "      <td>7.119787e+05</td>\n",
       "      <td>410748.700000</td>\n",
       "      <td>7917.20000</td>\n",
       "      <td>240439.300000</td>\n",
       "      <td>959.500000</td>\n",
       "      <td>257905.000000</td>\n",
       "      <td>89852.400000</td>\n",
       "      <td>37.060000</td>\n",
       "      <td>39.700000</td>\n",
       "      <td>36.290000</td>\n",
       "      <td>34.940000</td>\n",
       "      <td>37.770000</td>\n",
       "      <td>36.350000</td>\n",
       "      <td>32.540000</td>\n",
       "      <td>28.96000</td>\n",
       "    </tr>\n",
       "    <tr>\n",
       "      <th>std</th>\n",
       "      <td>104946.969368</td>\n",
       "      <td>18906.534896</td>\n",
       "      <td>104946.969368</td>\n",
       "      <td>61608.580647</td>\n",
       "      <td>16170.606415</td>\n",
       "      <td>6557.101756</td>\n",
       "      <td>9253.170217</td>\n",
       "      <td>11062.29228</td>\n",
       "      <td>10762.098721</td>\n",
       "      <td>8217.450589</td>\n",
       "      <td>2898.177107</td>\n",
       "      <td>2870.61848</td>\n",
       "      <td>243.2918</td>\n",
       "      <td>3.424011e+10</td>\n",
       "      <td>6.366206e+10</td>\n",
       "      <td>7.176031e+09</td>\n",
       "      <td>218436.076444</td>\n",
       "      <td>10608.496477</td>\n",
       "      <td>34588.792411</td>\n",
       "      <td>34090.238111</td>\n",
       "      <td>52546.665834</td>\n",
       "      <td>32255.842896</td>\n",
       "      <td>22023.977177</td>\n",
       "      <td>18270.066813</td>\n",
       "      <td>29670.796617</td>\n",
       "      <td>8.017424e+05</td>\n",
       "      <td>3.513823e+05</td>\n",
       "      <td>282504.412076</td>\n",
       "      <td>4117.46769</td>\n",
       "      <td>214064.520799</td>\n",
       "      <td>551.568924</td>\n",
       "      <td>171253.104539</td>\n",
       "      <td>56034.040093</td>\n",
       "      <td>2.440947</td>\n",
       "      <td>2.867442</td>\n",
       "      <td>2.559709</td>\n",
       "      <td>2.160864</td>\n",
       "      <td>1.913722</td>\n",
       "      <td>8.888101</td>\n",
       "      <td>2.423588</td>\n",
       "      <td>4.23273</td>\n",
       "    </tr>\n",
       "    <tr>\n",
       "      <th>min</th>\n",
       "      <td>93569.000000</td>\n",
       "      <td>3827.000000</td>\n",
       "      <td>93569.000000</td>\n",
       "      <td>56795.000000</td>\n",
       "      <td>4419.000000</td>\n",
       "      <td>4503.000000</td>\n",
       "      <td>7561.000000</td>\n",
       "      <td>9649.00000</td>\n",
       "      <td>8487.000000</td>\n",
       "      <td>7375.000000</td>\n",
       "      <td>2841.000000</td>\n",
       "      <td>2132.00000</td>\n",
       "      <td>1122.0000</td>\n",
       "      <td>1.037842e+10</td>\n",
       "      <td>2.104551e+10</td>\n",
       "      <td>1.636091e+09</td>\n",
       "      <td>49143.000000</td>\n",
       "      <td>1809.000000</td>\n",
       "      <td>6431.000000</td>\n",
       "      <td>8456.000000</td>\n",
       "      <td>9047.000000</td>\n",
       "      <td>3279.000000</td>\n",
       "      <td>814.000000</td>\n",
       "      <td>172.000000</td>\n",
       "      <td>88.000000</td>\n",
       "      <td>4.733240e+05</td>\n",
       "      <td>2.925770e+05</td>\n",
       "      <td>48941.000000</td>\n",
       "      <td>1134.00000</td>\n",
       "      <td>38052.000000</td>\n",
       "      <td>190.000000</td>\n",
       "      <td>18584.000000</td>\n",
       "      <td>10955.000000</td>\n",
       "      <td>33.300000</td>\n",
       "      <td>34.800000</td>\n",
       "      <td>32.200000</td>\n",
       "      <td>32.100000</td>\n",
       "      <td>35.400000</td>\n",
       "      <td>25.900000</td>\n",
       "      <td>29.500000</td>\n",
       "      <td>20.60000</td>\n",
       "    </tr>\n",
       "    <tr>\n",
       "      <th>25%</th>\n",
       "      <td>114985.250000</td>\n",
       "      <td>29835.500000</td>\n",
       "      <td>114985.250000</td>\n",
       "      <td>77913.250000</td>\n",
       "      <td>8288.000000</td>\n",
       "      <td>6235.000000</td>\n",
       "      <td>8770.750000</td>\n",
       "      <td>9991.50000</td>\n",
       "      <td>9562.500000</td>\n",
       "      <td>8823.250000</td>\n",
       "      <td>3531.000000</td>\n",
       "      <td>2746.75000</td>\n",
       "      <td>1357.5000</td>\n",
       "      <td>1.680913e+10</td>\n",
       "      <td>3.776943e+10</td>\n",
       "      <td>3.627659e+09</td>\n",
       "      <td>392957.250000</td>\n",
       "      <td>13484.750000</td>\n",
       "      <td>45870.250000</td>\n",
       "      <td>46261.750000</td>\n",
       "      <td>59365.000000</td>\n",
       "      <td>15310.250000</td>\n",
       "      <td>3344.250000</td>\n",
       "      <td>1352.750000</td>\n",
       "      <td>521.250000</td>\n",
       "      <td>1.444654e+06</td>\n",
       "      <td>3.454050e+05</td>\n",
       "      <td>237067.250000</td>\n",
       "      <td>6478.50000</td>\n",
       "      <td>53419.250000</td>\n",
       "      <td>714.000000</td>\n",
       "      <td>195812.500000</td>\n",
       "      <td>55450.500000</td>\n",
       "      <td>35.025000</td>\n",
       "      <td>38.475000</td>\n",
       "      <td>34.650000</td>\n",
       "      <td>33.775000</td>\n",
       "      <td>36.150000</td>\n",
       "      <td>29.225000</td>\n",
       "      <td>30.975000</td>\n",
       "      <td>26.85000</td>\n",
       "    </tr>\n",
       "    <tr>\n",
       "      <th>50%</th>\n",
       "      <td>181740.000000</td>\n",
       "      <td>37034.500000</td>\n",
       "      <td>181740.000000</td>\n",
       "      <td>91508.000000</td>\n",
       "      <td>24560.500000</td>\n",
       "      <td>8084.500000</td>\n",
       "      <td>10658.000000</td>\n",
       "      <td>15373.00000</td>\n",
       "      <td>17113.000000</td>\n",
       "      <td>12682.000000</td>\n",
       "      <td>4706.500000</td>\n",
       "      <td>3534.00000</td>\n",
       "      <td>1591.0000</td>\n",
       "      <td>5.296932e+10</td>\n",
       "      <td>1.162493e+11</td>\n",
       "      <td>1.244467e+10</td>\n",
       "      <td>423810.000000</td>\n",
       "      <td>20210.500000</td>\n",
       "      <td>59836.000000</td>\n",
       "      <td>62557.500000</td>\n",
       "      <td>93097.500000</td>\n",
       "      <td>42366.500000</td>\n",
       "      <td>14301.500000</td>\n",
       "      <td>7097.500000</td>\n",
       "      <td>4725.500000</td>\n",
       "      <td>1.652058e+06</td>\n",
       "      <td>8.490990e+05</td>\n",
       "      <td>424739.500000</td>\n",
       "      <td>8552.50000</td>\n",
       "      <td>196067.000000</td>\n",
       "      <td>973.500000</td>\n",
       "      <td>239042.000000</td>\n",
       "      <td>73961.000000</td>\n",
       "      <td>37.300000</td>\n",
       "      <td>40.250000</td>\n",
       "      <td>36.950000</td>\n",
       "      <td>34.700000</td>\n",
       "      <td>37.400000</td>\n",
       "      <td>36.450000</td>\n",
       "      <td>32.550000</td>\n",
       "      <td>28.60000</td>\n",
       "    </tr>\n",
       "    <tr>\n",
       "      <th>75%</th>\n",
       "      <td>295840.500000</td>\n",
       "      <td>46417.250000</td>\n",
       "      <td>295840.500000</td>\n",
       "      <td>179865.250000</td>\n",
       "      <td>32599.750000</td>\n",
       "      <td>15748.750000</td>\n",
       "      <td>24502.250000</td>\n",
       "      <td>28241.75000</td>\n",
       "      <td>27706.250000</td>\n",
       "      <td>21759.250000</td>\n",
       "      <td>7502.000000</td>\n",
       "      <td>6887.00000</td>\n",
       "      <td>1690.5000</td>\n",
       "      <td>8.088987e+10</td>\n",
       "      <td>1.470865e+11</td>\n",
       "      <td>1.647916e+10</td>\n",
       "      <td>567064.500000</td>\n",
       "      <td>24425.500000</td>\n",
       "      <td>73318.000000</td>\n",
       "      <td>85343.500000</td>\n",
       "      <td>126093.250000</td>\n",
       "      <td>72659.750000</td>\n",
       "      <td>43782.500000</td>\n",
       "      <td>23150.000000</td>\n",
       "      <td>27380.500000</td>\n",
       "      <td>2.372331e+06</td>\n",
       "      <td>9.345312e+05</td>\n",
       "      <td>498696.500000</td>\n",
       "      <td>10980.75000</td>\n",
       "      <td>316474.250000</td>\n",
       "      <td>1134.500000</td>\n",
       "      <td>334910.500000</td>\n",
       "      <td>126691.500000</td>\n",
       "      <td>39.225000</td>\n",
       "      <td>41.850000</td>\n",
       "      <td>38.175000</td>\n",
       "      <td>36.300000</td>\n",
       "      <td>39.575000</td>\n",
       "      <td>39.425000</td>\n",
       "      <td>32.875000</td>\n",
       "      <td>32.02500</td>\n",
       "    </tr>\n",
       "    <tr>\n",
       "      <th>max</th>\n",
       "      <td>366494.000000</td>\n",
       "      <td>58087.000000</td>\n",
       "      <td>366494.000000</td>\n",
       "      <td>206653.000000</td>\n",
       "      <td>50340.000000</td>\n",
       "      <td>22230.000000</td>\n",
       "      <td>31379.000000</td>\n",
       "      <td>36403.00000</td>\n",
       "      <td>38417.000000</td>\n",
       "      <td>31495.000000</td>\n",
       "      <td>11449.000000</td>\n",
       "      <td>10359.00000</td>\n",
       "      <td>1946.0000</td>\n",
       "      <td>9.878871e+10</td>\n",
       "      <td>1.832119e+11</td>\n",
       "      <td>2.053799e+10</td>\n",
       "      <td>666366.000000</td>\n",
       "      <td>34860.000000</td>\n",
       "      <td>118813.000000</td>\n",
       "      <td>112082.000000</td>\n",
       "      <td>165832.000000</td>\n",
       "      <td>85402.000000</td>\n",
       "      <td>54210.000000</td>\n",
       "      <td>47647.000000</td>\n",
       "      <td>90769.000000</td>\n",
       "      <td>2.712360e+06</td>\n",
       "      <td>1.141959e+06</td>\n",
       "      <td>871223.000000</td>\n",
       "      <td>13210.00000</td>\n",
       "      <td>616702.000000</td>\n",
       "      <td>2069.000000</td>\n",
       "      <td>551787.000000</td>\n",
       "      <td>181461.000000</td>\n",
       "      <td>40.400000</td>\n",
       "      <td>43.000000</td>\n",
       "      <td>39.600000</td>\n",
       "      <td>39.100000</td>\n",
       "      <td>40.400000</td>\n",
       "      <td>56.300000</td>\n",
       "      <td>37.600000</td>\n",
       "      <td>35.20000</td>\n",
       "    </tr>\n",
       "  </tbody>\n",
       "</table>\n",
       "</div>"
      ],
      "text/plain": [
       "       Housing Cost: Total Survey Population   \n",
       "count                              10.000000  \\\n",
       "mean                           207803.800000   \n",
       "std                            104946.969368   \n",
       "min                             93569.000000   \n",
       "25%                            114985.250000   \n",
       "50%                            181740.000000   \n",
       "75%                            295840.500000   \n",
       "max                            366494.000000   \n",
       "\n",
       "       Housing Cost 30 percent or more of income   \n",
       "count                                  10.000000  \\\n",
       "mean                                34982.000000   \n",
       "std                                 18906.534896   \n",
       "min                                  3827.000000   \n",
       "25%                                 29835.500000   \n",
       "50%                                 37034.500000   \n",
       "75%                                 46417.250000   \n",
       "max                                 58087.000000   \n",
       "\n",
       "       Mortgage Status: Total Survey Population   \n",
       "count                                 10.000000  \\\n",
       "mean                              207803.800000   \n",
       "std                               104946.969368   \n",
       "min                                93569.000000   \n",
       "25%                               114985.250000   \n",
       "50%                               181740.000000   \n",
       "75%                               295840.500000   \n",
       "max                               366494.000000   \n",
       "\n",
       "       Housing units with a Mortgage  Mortgage Cost over $4,000 per Month   \n",
       "count                      10.000000                            10.000000  \\\n",
       "mean                   122454.600000                         23003.600000   \n",
       "std                     61608.580647                         16170.606415   \n",
       "min                     56795.000000                          4419.000000   \n",
       "25%                     77913.250000                          8288.000000   \n",
       "50%                     91508.000000                         24560.500000   \n",
       "75%                    179865.250000                         32599.750000   \n",
       "max                    206653.000000                         50340.000000   \n",
       "\n",
       "       Mortgage Cost between $3,500 to $3,999   \n",
       "count                               10.000000  \\\n",
       "mean                             11374.100000   \n",
       "std                               6557.101756   \n",
       "min                               4503.000000   \n",
       "25%                               6235.000000   \n",
       "50%                               8084.500000   \n",
       "75%                              15748.750000   \n",
       "max                              22230.000000   \n",
       "\n",
       "       Mortgage Cost between $3,000 to $3,499   \n",
       "count                               10.000000  \\\n",
       "mean                             15934.800000   \n",
       "std                               9253.170217   \n",
       "min                               7561.000000   \n",
       "25%                               8770.750000   \n",
       "50%                              10658.000000   \n",
       "75%                              24502.250000   \n",
       "max                              31379.000000   \n",
       "\n",
       "       Mortgage Cost between $2,999 to $2,500   \n",
       "count                                10.00000  \\\n",
       "mean                              19885.40000   \n",
       "std                               11062.29228   \n",
       "min                                9649.00000   \n",
       "25%                                9991.50000   \n",
       "50%                               15373.00000   \n",
       "75%                               28241.75000   \n",
       "max                               36403.00000   \n",
       "\n",
       "       Mortgage Cost between $2,000 to $2,499   \n",
       "count                               10.000000  \\\n",
       "mean                             19232.000000   \n",
       "std                              10762.098721   \n",
       "min                               8487.000000   \n",
       "25%                               9562.500000   \n",
       "50%                              17113.000000   \n",
       "75%                              27706.250000   \n",
       "max                              38417.000000   \n",
       "\n",
       "       Mortgage Cost between $1,500 to $1,999   \n",
       "count                               10.000000  \\\n",
       "mean                             15541.800000   \n",
       "std                               8217.450589   \n",
       "min                               7375.000000   \n",
       "25%                               8823.250000   \n",
       "50%                              12682.000000   \n",
       "75%                              21759.250000   \n",
       "max                              31495.000000   \n",
       "\n",
       "       Mortgage Cost between $1,250 to $1,499   \n",
       "count                               10.000000  \\\n",
       "mean                              5739.100000   \n",
       "std                               2898.177107   \n",
       "min                               2841.000000   \n",
       "25%                               3531.000000   \n",
       "50%                               4706.500000   \n",
       "75%                               7502.000000   \n",
       "max                              11449.000000   \n",
       "\n",
       "       Mortgage Cost between $1,000 to $1,249  Median Monthly Housing Cost   \n",
       "count                                10.00000                      10.0000  \\\n",
       "mean                               4878.30000                    1544.7000   \n",
       "std                                2870.61848                     243.2918   \n",
       "min                                2132.00000                    1122.0000   \n",
       "25%                                2746.75000                    1357.5000   \n",
       "50%                                3534.00000                    1591.0000   \n",
       "75%                                6887.00000                    1690.5000   \n",
       "max                               10359.00000                    1946.0000   \n",
       "\n",
       "       Aggregate Value of Home: Owner Age 65 annd Over   \n",
       "count                                     1.000000e+01  \\\n",
       "mean                                      5.154511e+10   \n",
       "std                                       3.424011e+10   \n",
       "min                                       1.037842e+10   \n",
       "25%                                       1.680913e+10   \n",
       "50%                                       5.296932e+10   \n",
       "75%                                       8.088987e+10   \n",
       "max                                       9.878871e+10   \n",
       "\n",
       "       Aggregate Value of Home: Owner Age 35 to 64 Years Old   \n",
       "count                                       1.000000e+01      \\\n",
       "mean                                        1.012363e+11       \n",
       "std                                         6.366206e+10       \n",
       "min                                         2.104551e+10       \n",
       "25%                                         3.776943e+10       \n",
       "50%                                         1.162493e+11       \n",
       "75%                                         1.470865e+11       \n",
       "max                                         1.832119e+11       \n",
       "\n",
       "       Aggregate Value of Home: Owner Age 25 to 34 Years Old   \n",
       "count                                       1.000000e+01      \\\n",
       "mean                                        1.071493e+10       \n",
       "std                                         7.176031e+09       \n",
       "min                                         1.636091e+09       \n",
       "25%                                         3.627659e+09       \n",
       "50%                                         1.244467e+10       \n",
       "75%                                         1.647916e+10       \n",
       "max                                         2.053799e+10       \n",
       "\n",
       "       Gross Rent: Total Survey Population  Rent Cost between $900 to $999   \n",
       "count                            10.000000                       10.000000  \\\n",
       "mean                         418729.400000                    18781.800000   \n",
       "std                          218436.076444                    10608.496477   \n",
       "min                           49143.000000                     1809.000000   \n",
       "25%                          392957.250000                    13484.750000   \n",
       "50%                          423810.000000                    20210.500000   \n",
       "75%                          567064.500000                    24425.500000   \n",
       "max                          666366.000000                    34860.000000   \n",
       "\n",
       "       Rent Cost between $1,000 to $1,249   \n",
       "count                           10.000000  \\\n",
       "mean                         59435.700000   \n",
       "std                          34588.792411   \n",
       "min                           6431.000000   \n",
       "25%                          45870.250000   \n",
       "50%                          59836.000000   \n",
       "75%                          73318.000000   \n",
       "max                         118813.000000   \n",
       "\n",
       "        Rent Cost between $1,250 to $1,499   \n",
       "count                            10.000000  \\\n",
       "mean                          60327.000000   \n",
       "std                           34090.238111   \n",
       "min                            8456.000000   \n",
       "25%                           46261.750000   \n",
       "50%                           62557.500000   \n",
       "75%                           85343.500000   \n",
       "max                          112082.000000   \n",
       "\n",
       "       Rent Cost between $1,500 to $1,999  Rent Cost between $2,000 to $2,499   \n",
       "count                           10.000000                           10.000000  \\\n",
       "mean                         89208.000000                        44962.300000   \n",
       "std                          52546.665834                        32255.842896   \n",
       "min                           9047.000000                         3279.000000   \n",
       "25%                          59365.000000                        15310.250000   \n",
       "50%                          93097.500000                        42366.500000   \n",
       "75%                         126093.250000                        72659.750000   \n",
       "max                         165832.000000                        85402.000000   \n",
       "\n",
       "       Rent Cost between $2,500 to $2,999  Rent Cost between $3,000 to $3,499   \n",
       "count                           10.000000                           10.000000  \\\n",
       "mean                         22401.600000                        14907.000000   \n",
       "std                          22023.977177                        18270.066813   \n",
       "min                            814.000000                          172.000000   \n",
       "25%                           3344.250000                         1352.750000   \n",
       "50%                          14301.500000                         7097.500000   \n",
       "75%                          43782.500000                        23150.000000   \n",
       "max                          54210.000000                        47647.000000   \n",
       "\n",
       "       Rent Cost between $3,500 or More  Total Population   Race: White   \n",
       "count                         10.000000      1.000000e+01  1.000000e+01  \\\n",
       "mean                       18877.900000      1.719801e+06  7.119787e+05   \n",
       "std                        29670.796617      8.017424e+05  3.513823e+05   \n",
       "min                           88.000000      4.733240e+05  2.925770e+05   \n",
       "25%                          521.250000      1.444654e+06  3.454050e+05   \n",
       "50%                         4725.500000      1.652058e+06  8.490990e+05   \n",
       "75%                        27380.500000      2.372331e+06  9.345312e+05   \n",
       "max                        90769.000000      2.712360e+06  1.141959e+06   \n",
       "\n",
       "       Race: Black or African American    \n",
       "count                         10.000000  \\\n",
       "mean                      410748.700000   \n",
       "std                       282504.412076   \n",
       "min                        48941.000000   \n",
       "25%                       237067.250000   \n",
       "50%                       424739.500000   \n",
       "75%                       498696.500000   \n",
       "max                       871223.000000   \n",
       "\n",
       "       Race: American Indian and Alaska Native    Race: Asian   \n",
       "count                                 10.00000      10.000000  \\\n",
       "mean                                7917.20000  240439.300000   \n",
       "std                                 4117.46769  214064.520799   \n",
       "min                                 1134.00000   38052.000000   \n",
       "25%                                 6478.50000   53419.250000   \n",
       "50%                                 8552.50000  196067.000000   \n",
       "75%                                10980.75000  316474.250000   \n",
       "max                                13210.00000  616702.000000   \n",
       "\n",
       "       Race: Native Hawaiian and Other Pacific Islander   \n",
       "count                                         10.000000  \\\n",
       "mean                                         959.500000   \n",
       "std                                          551.568924   \n",
       "min                                          190.000000   \n",
       "25%                                          714.000000   \n",
       "50%                                          973.500000   \n",
       "75%                                         1134.500000   \n",
       "max                                         2069.000000   \n",
       "\n",
       "       Race: Other Race Alone  Race: Two or More Races   \n",
       "count               10.000000                10.000000  \\\n",
       "mean            257905.000000             89852.400000   \n",
       "std             171253.104539             56034.040093   \n",
       "min              18584.000000             10955.000000   \n",
       "25%             195812.500000             55450.500000   \n",
       "50%             239042.000000             73961.000000   \n",
       "75%             334910.500000            126691.500000   \n",
       "max             551787.000000            181461.000000   \n",
       "\n",
       "       Median Age of Total Population  Median Age: White   \n",
       "count                       10.000000          10.000000  \\\n",
       "mean                        37.060000          39.700000   \n",
       "std                          2.440947           2.867442   \n",
       "min                         33.300000          34.800000   \n",
       "25%                         35.025000          38.475000   \n",
       "50%                         37.300000          40.250000   \n",
       "75%                         39.225000          41.850000   \n",
       "max                         40.400000          43.000000   \n",
       "\n",
       "       Median Age: Black or African American   \n",
       "count                              10.000000  \\\n",
       "mean                               36.290000   \n",
       "std                                 2.559709   \n",
       "min                                32.200000   \n",
       "25%                                34.650000   \n",
       "50%                                36.950000   \n",
       "75%                                38.175000   \n",
       "max                                39.600000   \n",
       "\n",
       "       Median Age: American Indian and Alaska Native  Median Age: Asian   \n",
       "count                                      10.000000          10.000000  \\\n",
       "mean                                       34.940000          37.770000   \n",
       "std                                         2.160864           1.913722   \n",
       "min                                        32.100000          35.400000   \n",
       "25%                                        33.775000          36.150000   \n",
       "50%                                        34.700000          37.400000   \n",
       "75%                                        36.300000          39.575000   \n",
       "max                                        39.100000          40.400000   \n",
       "\n",
       "       Median Age: Native Hawaiian and Other Pacific Islander   \n",
       "count                                          10.000000       \\\n",
       "mean                                           36.350000        \n",
       "std                                             8.888101        \n",
       "min                                            25.900000        \n",
       "25%                                            29.225000        \n",
       "50%                                            36.450000        \n",
       "75%                                            39.425000        \n",
       "max                                            56.300000        \n",
       "\n",
       "       Median Age: Other Race Alone  Median Age: Two or More Races  \n",
       "count                     10.000000                       10.00000  \n",
       "mean                      32.540000                       28.96000  \n",
       "std                        2.423588                        4.23273  \n",
       "min                       29.500000                       20.60000  \n",
       "25%                       30.975000                       26.85000  \n",
       "50%                       32.550000                       28.60000  \n",
       "75%                       32.875000                       32.02500  \n",
       "max                       37.600000                       35.20000  "
      ]
     },
     "execution_count": 98,
     "metadata": {},
     "output_type": "execute_result"
    }
   ],
   "source": [
    "census_bureau_dataframe.describe()"
   ]
  },
  {
   "attachments": {},
   "cell_type": "markdown",
   "metadata": {},
   "source": [
    "### Using Info() to check see data types and Null allowance "
   ]
  },
  {
   "cell_type": "code",
   "execution_count": 99,
   "metadata": {},
   "outputs": [
    {
     "name": "stdout",
     "output_type": "stream",
     "text": [
      "<class 'pandas.core.frame.DataFrame'>\n",
      "Index: 10 entries, 0 to 4\n",
      "Data columns (total 43 columns):\n",
      " #   Column                                                  Non-Null Count  Dtype  \n",
      "---  ------                                                  --------------  -----  \n",
      " 0   Borough                                                 10 non-null     object \n",
      " 1   Housing Cost: Total Survey Population                   10 non-null     int64  \n",
      " 2   Housing Cost 30 percent or more of income               10 non-null     int64  \n",
      " 3   Mortgage Status: Total Survey Population                10 non-null     int64  \n",
      " 4   Housing units with a Mortgage                           10 non-null     int64  \n",
      " 5   Mortgage Cost over $4,000 per Month                     10 non-null     int64  \n",
      " 6   Mortgage Cost between $3,500 to $3,999                  10 non-null     int64  \n",
      " 7   Mortgage Cost between $3,000 to $3,499                  10 non-null     int64  \n",
      " 8   Mortgage Cost between $2,999 to $2,500                  10 non-null     int64  \n",
      " 9   Mortgage Cost between $2,000 to $2,499                  10 non-null     int64  \n",
      " 10  Mortgage Cost between $1,500 to $1,999                  10 non-null     int64  \n",
      " 11  Mortgage Cost between $1,250 to $1,499                  10 non-null     int64  \n",
      " 12  Mortgage Cost between $1,000 to $1,249                  10 non-null     int64  \n",
      " 13  Median Monthly Housing Cost                             10 non-null     int64  \n",
      " 14  Aggregate Value of Home: Owner Age 65 annd Over         10 non-null     int64  \n",
      " 15  Aggregate Value of Home: Owner Age 35 to 64 Years Old   10 non-null     int64  \n",
      " 16  Aggregate Value of Home: Owner Age 25 to 34 Years Old   10 non-null     int64  \n",
      " 17  Gross Rent: Total Survey Population                     10 non-null     int64  \n",
      " 18  Rent Cost between $900 to $999                          10 non-null     int64  \n",
      " 19  Rent Cost between $1,000 to $1,249                      10 non-null     int64  \n",
      " 20   Rent Cost between $1,250 to $1,499                     10 non-null     int64  \n",
      " 21  Rent Cost between $1,500 to $1,999                      10 non-null     int64  \n",
      " 22  Rent Cost between $2,000 to $2,499                      10 non-null     int64  \n",
      " 23  Rent Cost between $2,500 to $2,999                      10 non-null     int64  \n",
      " 24  Rent Cost between $3,000 to $3,499                      10 non-null     int64  \n",
      " 25  Rent Cost between $3,500 or More                        10 non-null     int64  \n",
      " 26  Total Population                                        10 non-null     int64  \n",
      " 27  Race: White                                             10 non-null     int64  \n",
      " 28  Race: Black or African American                         10 non-null     int64  \n",
      " 29  Race: American Indian and Alaska Native                 10 non-null     int64  \n",
      " 30  Race: Asian                                             10 non-null     int64  \n",
      " 31  Race: Native Hawaiian and Other Pacific Islander        10 non-null     int64  \n",
      " 32  Race: Other Race Alone                                  10 non-null     int64  \n",
      " 33  Race: Two or More Races                                 10 non-null     int64  \n",
      " 34  Median Age of Total Population                          10 non-null     float64\n",
      " 35  Median Age: White                                       10 non-null     float64\n",
      " 36  Median Age: Black or African American                   10 non-null     float64\n",
      " 37  Median Age: American Indian and Alaska Native           10 non-null     float64\n",
      " 38  Median Age: Asian                                       10 non-null     float64\n",
      " 39  Median Age: Native Hawaiian and Other Pacific Islander  10 non-null     float64\n",
      " 40  Median Age: Other Race Alone                            10 non-null     float64\n",
      " 41  Median Age: Two or More Races                           10 non-null     float64\n",
      " 42  Survey Range (Years)                                    10 non-null     object \n",
      "dtypes: float64(8), int64(33), object(2)\n",
      "memory usage: 3.4+ KB\n"
     ]
    }
   ],
   "source": [
    "census_bureau_dataframe.info()"
   ]
  },
  {
   "cell_type": "code",
   "execution_count": 100,
   "metadata": {},
   "outputs": [
    {
     "data": {
      "text/html": [
       "<div>\n",
       "<style scoped>\n",
       "    .dataframe tbody tr th:only-of-type {\n",
       "        vertical-align: middle;\n",
       "    }\n",
       "\n",
       "    .dataframe tbody tr th {\n",
       "        vertical-align: top;\n",
       "    }\n",
       "\n",
       "    .dataframe thead th {\n",
       "        text-align: right;\n",
       "    }\n",
       "</style>\n",
       "<table border=\"1\" class=\"dataframe\">\n",
       "  <thead>\n",
       "    <tr style=\"text-align: right;\">\n",
       "      <th></th>\n",
       "      <th>Housing Cost: Total Survey Population</th>\n",
       "      <th>Housing Cost 30 percent or more of income</th>\n",
       "      <th>Mortgage Status: Total Survey Population</th>\n",
       "      <th>Housing units with a Mortgage</th>\n",
       "      <th>Mortgage Cost over $4,000 per Month</th>\n",
       "      <th>Mortgage Cost between $3,500 to $3,999</th>\n",
       "      <th>Mortgage Cost between $3,000 to $3,499</th>\n",
       "      <th>Mortgage Cost between $2,999 to $2,500</th>\n",
       "      <th>Mortgage Cost between $2,000 to $2,499</th>\n",
       "      <th>Mortgage Cost between $1,500 to $1,999</th>\n",
       "      <th>Mortgage Cost between $1,250 to $1,499</th>\n",
       "      <th>Mortgage Cost between $1,000 to $1,249</th>\n",
       "      <th>Median Monthly Housing Cost</th>\n",
       "      <th>Aggregate Value of Home: Owner Age 65 annd Over</th>\n",
       "      <th>Aggregate Value of Home: Owner Age 35 to 64 Years Old</th>\n",
       "      <th>Aggregate Value of Home: Owner Age 25 to 34 Years Old</th>\n",
       "      <th>Gross Rent: Total Survey Population</th>\n",
       "      <th>Rent Cost between $900 to $999</th>\n",
       "      <th>Rent Cost between $1,000 to $1,249</th>\n",
       "      <th>Rent Cost between $1,250 to $1,499</th>\n",
       "      <th>Rent Cost between $1,500 to $1,999</th>\n",
       "      <th>Rent Cost between $2,000 to $2,499</th>\n",
       "      <th>Rent Cost between $2,500 to $2,999</th>\n",
       "      <th>Rent Cost between $3,000 to $3,499</th>\n",
       "      <th>Rent Cost between $3,500 or More</th>\n",
       "      <th>Total Population</th>\n",
       "      <th>Race: White</th>\n",
       "      <th>Race: Black or African American</th>\n",
       "      <th>Race: American Indian and Alaska Native</th>\n",
       "      <th>Race: Asian</th>\n",
       "      <th>Race: Native Hawaiian and Other Pacific Islander</th>\n",
       "      <th>Race: Other Race Alone</th>\n",
       "      <th>Race: Two or More Races</th>\n",
       "      <th>Median Age of Total Population</th>\n",
       "      <th>Median Age: White</th>\n",
       "      <th>Median Age: Black or African American</th>\n",
       "      <th>Median Age: American Indian and Alaska Native</th>\n",
       "      <th>Median Age: Asian</th>\n",
       "      <th>Median Age: Native Hawaiian and Other Pacific Islander</th>\n",
       "      <th>Median Age: Other Race Alone</th>\n",
       "      <th>Median Age: Two or More Races</th>\n",
       "    </tr>\n",
       "  </thead>\n",
       "  <tbody>\n",
       "    <tr>\n",
       "      <th>Housing Cost: Total Survey Population</th>\n",
       "      <td>1.000000</td>\n",
       "      <td>0.686521</td>\n",
       "      <td>1.000000</td>\n",
       "      <td>0.985446</td>\n",
       "      <td>0.678282</td>\n",
       "      <td>0.937488</td>\n",
       "      <td>0.937890</td>\n",
       "      <td>0.917683</td>\n",
       "      <td>0.843351</td>\n",
       "      <td>0.861917</td>\n",
       "      <td>0.882216</td>\n",
       "      <td>0.901968</td>\n",
       "      <td>0.198128</td>\n",
       "      <td>0.663242</td>\n",
       "      <td>0.690090</td>\n",
       "      <td>0.674934</td>\n",
       "      <td>0.510745</td>\n",
       "      <td>0.173333</td>\n",
       "      <td>0.299185</td>\n",
       "      <td>0.527556</td>\n",
       "      <td>0.802748</td>\n",
       "      <td>0.679385</td>\n",
       "      <td>0.373293</td>\n",
       "      <td>0.159767</td>\n",
       "      <td>0.068182</td>\n",
       "      <td>0.833394</td>\n",
       "      <td>0.788360</td>\n",
       "      <td>0.498858</td>\n",
       "      <td>0.586808</td>\n",
       "      <td>0.965699</td>\n",
       "      <td>0.290588</td>\n",
       "      <td>0.044877</td>\n",
       "      <td>0.593174</td>\n",
       "      <td>0.141764</td>\n",
       "      <td>-0.354239</td>\n",
       "      <td>0.750885</td>\n",
       "      <td>0.150648</td>\n",
       "      <td>0.064805</td>\n",
       "      <td>-0.192121</td>\n",
       "      <td>0.351131</td>\n",
       "      <td>0.39710</td>\n",
       "    </tr>\n",
       "    <tr>\n",
       "      <th>Housing Cost 30 percent or more of income</th>\n",
       "      <td>0.686521</td>\n",
       "      <td>1.000000</td>\n",
       "      <td>0.686521</td>\n",
       "      <td>0.669414</td>\n",
       "      <td>0.590157</td>\n",
       "      <td>0.661426</td>\n",
       "      <td>0.634147</td>\n",
       "      <td>0.559648</td>\n",
       "      <td>0.447936</td>\n",
       "      <td>0.509657</td>\n",
       "      <td>0.515621</td>\n",
       "      <td>0.646796</td>\n",
       "      <td>-0.290268</td>\n",
       "      <td>0.472872</td>\n",
       "      <td>0.529857</td>\n",
       "      <td>0.546912</td>\n",
       "      <td>0.860448</td>\n",
       "      <td>0.720025</td>\n",
       "      <td>0.816278</td>\n",
       "      <td>0.949589</td>\n",
       "      <td>0.951298</td>\n",
       "      <td>0.622264</td>\n",
       "      <td>0.368215</td>\n",
       "      <td>0.179125</td>\n",
       "      <td>0.071823</td>\n",
       "      <td>0.962711</td>\n",
       "      <td>0.692605</td>\n",
       "      <td>0.923352</td>\n",
       "      <td>0.872492</td>\n",
       "      <td>0.614533</td>\n",
       "      <td>0.732527</td>\n",
       "      <td>0.558405</td>\n",
       "      <td>0.650519</td>\n",
       "      <td>-0.592205</td>\n",
       "      <td>-0.678052</td>\n",
       "      <td>0.672526</td>\n",
       "      <td>-0.172952</td>\n",
       "      <td>-0.568422</td>\n",
       "      <td>-0.686330</td>\n",
       "      <td>0.120120</td>\n",
       "      <td>0.44637</td>\n",
       "    </tr>\n",
       "    <tr>\n",
       "      <th>Mortgage Status: Total Survey Population</th>\n",
       "      <td>1.000000</td>\n",
       "      <td>0.686521</td>\n",
       "      <td>1.000000</td>\n",
       "      <td>0.985446</td>\n",
       "      <td>0.678282</td>\n",
       "      <td>0.937488</td>\n",
       "      <td>0.937890</td>\n",
       "      <td>0.917683</td>\n",
       "      <td>0.843351</td>\n",
       "      <td>0.861917</td>\n",
       "      <td>0.882216</td>\n",
       "      <td>0.901968</td>\n",
       "      <td>0.198128</td>\n",
       "      <td>0.663242</td>\n",
       "      <td>0.690090</td>\n",
       "      <td>0.674934</td>\n",
       "      <td>0.510745</td>\n",
       "      <td>0.173333</td>\n",
       "      <td>0.299185</td>\n",
       "      <td>0.527556</td>\n",
       "      <td>0.802748</td>\n",
       "      <td>0.679385</td>\n",
       "      <td>0.373293</td>\n",
       "      <td>0.159767</td>\n",
       "      <td>0.068182</td>\n",
       "      <td>0.833394</td>\n",
       "      <td>0.788360</td>\n",
       "      <td>0.498858</td>\n",
       "      <td>0.586808</td>\n",
       "      <td>0.965699</td>\n",
       "      <td>0.290588</td>\n",
       "      <td>0.044877</td>\n",
       "      <td>0.593174</td>\n",
       "      <td>0.141764</td>\n",
       "      <td>-0.354239</td>\n",
       "      <td>0.750885</td>\n",
       "      <td>0.150648</td>\n",
       "      <td>0.064805</td>\n",
       "      <td>-0.192121</td>\n",
       "      <td>0.351131</td>\n",
       "      <td>0.39710</td>\n",
       "    </tr>\n",
       "  </tbody>\n",
       "</table>\n",
       "</div>"
      ],
      "text/plain": [
       "                                           Housing Cost: Total Survey Population   \n",
       "Housing Cost: Total Survey Population                                   1.000000  \\\n",
       "Housing Cost 30 percent or more of income                               0.686521   \n",
       "Mortgage Status: Total Survey Population                                1.000000   \n",
       "\n",
       "                                           Housing Cost 30 percent or more of income   \n",
       "Housing Cost: Total Survey Population                                       0.686521  \\\n",
       "Housing Cost 30 percent or more of income                                   1.000000   \n",
       "Mortgage Status: Total Survey Population                                    0.686521   \n",
       "\n",
       "                                           Mortgage Status: Total Survey Population   \n",
       "Housing Cost: Total Survey Population                                      1.000000  \\\n",
       "Housing Cost 30 percent or more of income                                  0.686521   \n",
       "Mortgage Status: Total Survey Population                                   1.000000   \n",
       "\n",
       "                                           Housing units with a Mortgage   \n",
       "Housing Cost: Total Survey Population                           0.985446  \\\n",
       "Housing Cost 30 percent or more of income                       0.669414   \n",
       "Mortgage Status: Total Survey Population                        0.985446   \n",
       "\n",
       "                                           Mortgage Cost over $4,000 per Month   \n",
       "Housing Cost: Total Survey Population                                 0.678282  \\\n",
       "Housing Cost 30 percent or more of income                             0.590157   \n",
       "Mortgage Status: Total Survey Population                              0.678282   \n",
       "\n",
       "                                           Mortgage Cost between $3,500 to $3,999   \n",
       "Housing Cost: Total Survey Population                                    0.937488  \\\n",
       "Housing Cost 30 percent or more of income                                0.661426   \n",
       "Mortgage Status: Total Survey Population                                 0.937488   \n",
       "\n",
       "                                           Mortgage Cost between $3,000 to $3,499   \n",
       "Housing Cost: Total Survey Population                                    0.937890  \\\n",
       "Housing Cost 30 percent or more of income                                0.634147   \n",
       "Mortgage Status: Total Survey Population                                 0.937890   \n",
       "\n",
       "                                           Mortgage Cost between $2,999 to $2,500   \n",
       "Housing Cost: Total Survey Population                                    0.917683  \\\n",
       "Housing Cost 30 percent or more of income                                0.559648   \n",
       "Mortgage Status: Total Survey Population                                 0.917683   \n",
       "\n",
       "                                           Mortgage Cost between $2,000 to $2,499   \n",
       "Housing Cost: Total Survey Population                                    0.843351  \\\n",
       "Housing Cost 30 percent or more of income                                0.447936   \n",
       "Mortgage Status: Total Survey Population                                 0.843351   \n",
       "\n",
       "                                           Mortgage Cost between $1,500 to $1,999   \n",
       "Housing Cost: Total Survey Population                                    0.861917  \\\n",
       "Housing Cost 30 percent or more of income                                0.509657   \n",
       "Mortgage Status: Total Survey Population                                 0.861917   \n",
       "\n",
       "                                           Mortgage Cost between $1,250 to $1,499   \n",
       "Housing Cost: Total Survey Population                                    0.882216  \\\n",
       "Housing Cost 30 percent or more of income                                0.515621   \n",
       "Mortgage Status: Total Survey Population                                 0.882216   \n",
       "\n",
       "                                           Mortgage Cost between $1,000 to $1,249   \n",
       "Housing Cost: Total Survey Population                                    0.901968  \\\n",
       "Housing Cost 30 percent or more of income                                0.646796   \n",
       "Mortgage Status: Total Survey Population                                 0.901968   \n",
       "\n",
       "                                           Median Monthly Housing Cost   \n",
       "Housing Cost: Total Survey Population                         0.198128  \\\n",
       "Housing Cost 30 percent or more of income                    -0.290268   \n",
       "Mortgage Status: Total Survey Population                      0.198128   \n",
       "\n",
       "                                           Aggregate Value of Home: Owner Age 65 annd Over   \n",
       "Housing Cost: Total Survey Population                                             0.663242  \\\n",
       "Housing Cost 30 percent or more of income                                         0.472872   \n",
       "Mortgage Status: Total Survey Population                                          0.663242   \n",
       "\n",
       "                                           Aggregate Value of Home: Owner Age 35 to 64 Years Old   \n",
       "Housing Cost: Total Survey Population                                               0.690090      \\\n",
       "Housing Cost 30 percent or more of income                                           0.529857       \n",
       "Mortgage Status: Total Survey Population                                            0.690090       \n",
       "\n",
       "                                           Aggregate Value of Home: Owner Age 25 to 34 Years Old   \n",
       "Housing Cost: Total Survey Population                                               0.674934      \\\n",
       "Housing Cost 30 percent or more of income                                           0.546912       \n",
       "Mortgage Status: Total Survey Population                                            0.674934       \n",
       "\n",
       "                                           Gross Rent: Total Survey Population   \n",
       "Housing Cost: Total Survey Population                                 0.510745  \\\n",
       "Housing Cost 30 percent or more of income                             0.860448   \n",
       "Mortgage Status: Total Survey Population                              0.510745   \n",
       "\n",
       "                                           Rent Cost between $900 to $999   \n",
       "Housing Cost: Total Survey Population                            0.173333  \\\n",
       "Housing Cost 30 percent or more of income                        0.720025   \n",
       "Mortgage Status: Total Survey Population                         0.173333   \n",
       "\n",
       "                                           Rent Cost between $1,000 to $1,249   \n",
       "Housing Cost: Total Survey Population                                0.299185  \\\n",
       "Housing Cost 30 percent or more of income                            0.816278   \n",
       "Mortgage Status: Total Survey Population                             0.299185   \n",
       "\n",
       "                                            Rent Cost between $1,250 to $1,499   \n",
       "Housing Cost: Total Survey Population                                 0.527556  \\\n",
       "Housing Cost 30 percent or more of income                             0.949589   \n",
       "Mortgage Status: Total Survey Population                              0.527556   \n",
       "\n",
       "                                           Rent Cost between $1,500 to $1,999   \n",
       "Housing Cost: Total Survey Population                                0.802748  \\\n",
       "Housing Cost 30 percent or more of income                            0.951298   \n",
       "Mortgage Status: Total Survey Population                             0.802748   \n",
       "\n",
       "                                           Rent Cost between $2,000 to $2,499   \n",
       "Housing Cost: Total Survey Population                                0.679385  \\\n",
       "Housing Cost 30 percent or more of income                            0.622264   \n",
       "Mortgage Status: Total Survey Population                             0.679385   \n",
       "\n",
       "                                           Rent Cost between $2,500 to $2,999   \n",
       "Housing Cost: Total Survey Population                                0.373293  \\\n",
       "Housing Cost 30 percent or more of income                            0.368215   \n",
       "Mortgage Status: Total Survey Population                             0.373293   \n",
       "\n",
       "                                           Rent Cost between $3,000 to $3,499   \n",
       "Housing Cost: Total Survey Population                                0.159767  \\\n",
       "Housing Cost 30 percent or more of income                            0.179125   \n",
       "Mortgage Status: Total Survey Population                             0.159767   \n",
       "\n",
       "                                           Rent Cost between $3,500 or More   \n",
       "Housing Cost: Total Survey Population                              0.068182  \\\n",
       "Housing Cost 30 percent or more of income                          0.071823   \n",
       "Mortgage Status: Total Survey Population                           0.068182   \n",
       "\n",
       "                                           Total Population  Race: White   \n",
       "Housing Cost: Total Survey Population              0.833394     0.788360  \\\n",
       "Housing Cost 30 percent or more of income          0.962711     0.692605   \n",
       "Mortgage Status: Total Survey Population           0.833394     0.788360   \n",
       "\n",
       "                                           Race: Black or African American    \n",
       "Housing Cost: Total Survey Population                              0.498858  \\\n",
       "Housing Cost 30 percent or more of income                          0.923352   \n",
       "Mortgage Status: Total Survey Population                           0.498858   \n",
       "\n",
       "                                           Race: American Indian and Alaska Native   \n",
       "Housing Cost: Total Survey Population                                     0.586808  \\\n",
       "Housing Cost 30 percent or more of income                                 0.872492   \n",
       "Mortgage Status: Total Survey Population                                  0.586808   \n",
       "\n",
       "                                           Race: Asian   \n",
       "Housing Cost: Total Survey Population         0.965699  \\\n",
       "Housing Cost 30 percent or more of income     0.614533   \n",
       "Mortgage Status: Total Survey Population      0.965699   \n",
       "\n",
       "                                           Race: Native Hawaiian and Other Pacific Islander   \n",
       "Housing Cost: Total Survey Population                                              0.290588  \\\n",
       "Housing Cost 30 percent or more of income                                          0.732527   \n",
       "Mortgage Status: Total Survey Population                                           0.290588   \n",
       "\n",
       "                                           Race: Other Race Alone   \n",
       "Housing Cost: Total Survey Population                    0.044877  \\\n",
       "Housing Cost 30 percent or more of income                0.558405   \n",
       "Mortgage Status: Total Survey Population                 0.044877   \n",
       "\n",
       "                                           Race: Two or More Races   \n",
       "Housing Cost: Total Survey Population                     0.593174  \\\n",
       "Housing Cost 30 percent or more of income                 0.650519   \n",
       "Mortgage Status: Total Survey Population                  0.593174   \n",
       "\n",
       "                                           Median Age of Total Population   \n",
       "Housing Cost: Total Survey Population                            0.141764  \\\n",
       "Housing Cost 30 percent or more of income                       -0.592205   \n",
       "Mortgage Status: Total Survey Population                         0.141764   \n",
       "\n",
       "                                           Median Age: White   \n",
       "Housing Cost: Total Survey Population              -0.354239  \\\n",
       "Housing Cost 30 percent or more of income          -0.678052   \n",
       "Mortgage Status: Total Survey Population           -0.354239   \n",
       "\n",
       "                                           Median Age: Black or African American   \n",
       "Housing Cost: Total Survey Population                                   0.750885  \\\n",
       "Housing Cost 30 percent or more of income                               0.672526   \n",
       "Mortgage Status: Total Survey Population                                0.750885   \n",
       "\n",
       "                                           Median Age: American Indian and Alaska Native   \n",
       "Housing Cost: Total Survey Population                                           0.150648  \\\n",
       "Housing Cost 30 percent or more of income                                      -0.172952   \n",
       "Mortgage Status: Total Survey Population                                        0.150648   \n",
       "\n",
       "                                           Median Age: Asian   \n",
       "Housing Cost: Total Survey Population               0.064805  \\\n",
       "Housing Cost 30 percent or more of income          -0.568422   \n",
       "Mortgage Status: Total Survey Population            0.064805   \n",
       "\n",
       "                                           Median Age: Native Hawaiian and Other Pacific Islander   \n",
       "Housing Cost: Total Survey Population                                              -0.192121       \\\n",
       "Housing Cost 30 percent or more of income                                          -0.686330        \n",
       "Mortgage Status: Total Survey Population                                           -0.192121        \n",
       "\n",
       "                                           Median Age: Other Race Alone   \n",
       "Housing Cost: Total Survey Population                          0.351131  \\\n",
       "Housing Cost 30 percent or more of income                      0.120120   \n",
       "Mortgage Status: Total Survey Population                       0.351131   \n",
       "\n",
       "                                           Median Age: Two or More Races  \n",
       "Housing Cost: Total Survey Population                            0.39710  \n",
       "Housing Cost 30 percent or more of income                        0.44637  \n",
       "Mortgage Status: Total Survey Population                         0.39710  "
      ]
     },
     "execution_count": 100,
     "metadata": {},
     "output_type": "execute_result"
    }
   ],
   "source": [
    "matrix_df = census_bureau_dataframe.drop(['Survey Range (Years)', 'Borough'], axis =1)\n",
    "\n",
    "co_matrix = matrix_df.corr()\n",
    "\n",
    "co_matrix.head(3)"
   ]
  },
  {
   "attachments": {},
   "cell_type": "markdown",
   "metadata": {},
   "source": [
    "### Looking Through Mortgage Cost by Boroughs (All years)"
   ]
  },
  {
   "cell_type": "code",
   "execution_count": 101,
   "metadata": {},
   "outputs": [
    {
     "data": {
      "application/vnd.plotly.v1+json": {
       "config": {
        "plotlyServerURL": "https://plot.ly"
       },
       "data": [
        {
         "alignmentgroup": "True",
         "hovertemplate": "variable=Mortgage Cost over $4,000 per Month<br>Borough=%{x}<br>value=%{y}<extra></extra>",
         "legendgroup": "Mortgage Cost over $4,000 per Month",
         "marker": {
          "color": "#636efa",
          "pattern": {
           "shape": ""
          }
         },
         "name": "Mortgage Cost over $4,000 per Month",
         "offsetgroup": "Mortgage Cost over $4,000 per Month",
         "orientation": "v",
         "showlegend": true,
         "textposition": "auto",
         "type": "bar",
         "x": [
          "Queens County, New York",
          "New York County, New York",
          "Bronx County, New York",
          "Kings County, New York",
          "Richmond County, New York",
          "Bronx County, New York",
          "Kings County, New York",
          "New York County, New York",
          "Queens County, New York",
          "Richmond County, New York"
         ],
         "xaxis": "x",
         "y": [
          20422,
          30316,
          4419,
          28699,
          4772,
          8028,
          50340,
          40611,
          33361,
          9068
         ],
         "yaxis": "y"
        },
        {
         "alignmentgroup": "True",
         "hovertemplate": "variable=Mortgage Cost between $3,500 to $3,999<br>Borough=%{x}<br>value=%{y}<extra></extra>",
         "legendgroup": "Mortgage Cost between $3,500 to $3,999",
         "marker": {
          "color": "#EF553B",
          "pattern": {
           "shape": ""
          }
         },
         "name": "Mortgage Cost between $3,500 to $3,999",
         "offsetgroup": "Mortgage Cost between $3,500 to $3,999",
         "orientation": "v",
         "showlegend": true,
         "textposition": "auto",
         "type": "bar",
         "x": [
          "Queens County, New York",
          "New York County, New York",
          "Bronx County, New York",
          "Kings County, New York",
          "Richmond County, New York",
          "Bronx County, New York",
          "Kings County, New York",
          "New York County, New York",
          "Queens County, New York",
          "Richmond County, New York"
         ],
         "xaxis": "x",
         "y": [
          15598,
          6901,
          4503,
          15799,
          6013,
          5955,
          20573,
          7864,
          22230,
          8305
         ],
         "yaxis": "y"
        },
        {
         "alignmentgroup": "True",
         "hovertemplate": "variable=Mortgage Cost between $3,000 to $3,499<br>Borough=%{x}<br>value=%{y}<extra></extra>",
         "legendgroup": "Mortgage Cost between $3,000 to $3,499",
         "marker": {
          "color": "#00cc96",
          "pattern": {
           "shape": ""
          }
         },
         "name": "Mortgage Cost between $3,000 to $3,499",
         "offsetgroup": "Mortgage Cost between $3,000 to $3,499",
         "orientation": "v",
         "showlegend": true,
         "textposition": "auto",
         "type": "bar",
         "x": [
          "Queens County, New York",
          "New York County, New York",
          "Bronx County, New York",
          "Kings County, New York",
          "Richmond County, New York",
          "Bronx County, New York",
          "Kings County, New York",
          "New York County, New York",
          "Queens County, New York",
          "Richmond County, New York"
         ],
         "xaxis": "x",
         "y": [
          26111,
          8714,
          7561,
          22583,
          9388,
          8941,
          25142,
          7601,
          31379,
          11928
         ],
         "yaxis": "y"
        },
        {
         "alignmentgroup": "True",
         "hovertemplate": "variable=Mortgage Cost between $2,999 to $2,500<br>Borough=%{x}<br>value=%{y}<extra></extra>",
         "legendgroup": "Mortgage Cost between $2,999 to $2,500",
         "marker": {
          "color": "#ab63fa",
          "pattern": {
           "shape": ""
          }
         },
         "name": "Mortgage Cost between $2,999 to $2,500",
         "offsetgroup": "Mortgage Cost between $2,999 to $2,500",
         "orientation": "v",
         "showlegend": true,
         "textposition": "auto",
         "type": "bar",
         "x": [
          "Queens County, New York",
          "New York County, New York",
          "Bronx County, New York",
          "Kings County, New York",
          "Richmond County, New York",
          "Bronx County, New York",
          "Kings County, New York",
          "New York County, New York",
          "Queens County, New York",
          "Richmond County, New York"
         ],
         "xaxis": "x",
         "y": [
          36403,
          9865,
          9649,
          28393,
          15880,
          10371,
          27788,
          9790,
          35849,
          14866
         ],
         "yaxis": "y"
        },
        {
         "alignmentgroup": "True",
         "hovertemplate": "variable=Mortgage Cost between $2,000 to $2,499<br>Borough=%{x}<br>value=%{y}<extra></extra>",
         "legendgroup": "Mortgage Cost between $2,000 to $2,499",
         "marker": {
          "color": "#FFA15A",
          "pattern": {
           "shape": ""
          }
         },
         "name": "Mortgage Cost between $2,000 to $2,499",
         "offsetgroup": "Mortgage Cost between $2,000 to $2,499",
         "orientation": "v",
         "showlegend": true,
         "textposition": "auto",
         "type": "bar",
         "x": [
          "Queens County, New York",
          "New York County, New York",
          "Bronx County, New York",
          "Kings County, New York",
          "Richmond County, New York",
          "Bronx County, New York",
          "Kings County, New York",
          "New York County, New York",
          "Queens County, New York",
          "Richmond County, New York"
         ],
         "xaxis": "x",
         "y": [
          38417,
          10233,
          9339,
          29484,
          18895,
          8487,
          22373,
          8725,
          31036,
          15331
         ],
         "yaxis": "y"
        },
        {
         "alignmentgroup": "True",
         "hovertemplate": "variable=Mortgage Cost between $1,500 to $1,999<br>Borough=%{x}<br>value=%{y}<extra></extra>",
         "legendgroup": "Mortgage Cost between $1,500 to $1,999",
         "marker": {
          "color": "#19d3f3",
          "pattern": {
           "shape": ""
          }
         },
         "name": "Mortgage Cost between $1,500 to $1,999",
         "offsetgroup": "Mortgage Cost between $1,500 to $1,999",
         "orientation": "v",
         "showlegend": true,
         "textposition": "auto",
         "type": "bar",
         "x": [
          "Queens County, New York",
          "New York County, New York",
          "Bronx County, New York",
          "Kings County, New York",
          "Richmond County, New York",
          "Bronx County, New York",
          "Kings County, New York",
          "New York County, New York",
          "Queens County, New York",
          "Richmond County, New York"
         ],
         "xaxis": "x",
         "y": [
          31495,
          11314,
          8204,
          23036,
          14050,
          7696,
          17929,
          7375,
          23638,
          10681
         ],
         "yaxis": "y"
        },
        {
         "alignmentgroup": "True",
         "hovertemplate": "variable=Mortgage Cost between $1,250 to $1,499<br>Borough=%{x}<br>value=%{y}<extra></extra>",
         "legendgroup": "Mortgage Cost between $1,250 to $1,499",
         "marker": {
          "color": "#FF6692",
          "pattern": {
           "shape": ""
          }
         },
         "name": "Mortgage Cost between $1,250 to $1,499",
         "offsetgroup": "Mortgage Cost between $1,250 to $1,499",
         "orientation": "v",
         "showlegend": true,
         "textposition": "auto",
         "type": "bar",
         "x": [
          "Queens County, New York",
          "New York County, New York",
          "Bronx County, New York",
          "Kings County, New York",
          "Richmond County, New York",
          "Bronx County, New York",
          "Kings County, New York",
          "New York County, New York",
          "Queens County, New York",
          "Richmond County, New York"
         ],
         "xaxis": "x",
         "y": [
          11449,
          4387,
          3489,
          8021,
          5026,
          2841,
          5945,
          3657,
          9204,
          3372
         ],
         "yaxis": "y"
        },
        {
         "alignmentgroup": "True",
         "hovertemplate": "variable=Mortgage Cost between $1,000 to $1,249<br>Borough=%{x}<br>value=%{y}<extra></extra>",
         "legendgroup": "Mortgage Cost between $1,000 to $1,249",
         "marker": {
          "color": "#B6E880",
          "pattern": {
           "shape": ""
          }
         },
         "name": "Mortgage Cost between $1,000 to $1,249",
         "offsetgroup": "Mortgage Cost between $1,000 to $1,249",
         "orientation": "v",
         "showlegend": true,
         "textposition": "auto",
         "type": "bar",
         "x": [
          "Queens County, New York",
          "New York County, New York",
          "Bronx County, New York",
          "Kings County, New York",
          "Richmond County, New York",
          "Bronx County, New York",
          "Kings County, New York",
          "New York County, New York",
          "Queens County, New York",
          "Richmond County, New York"
         ],
         "xaxis": "x",
         "y": [
          10359,
          4025,
          3013,
          7313,
          3043,
          2658,
          5609,
          2380,
          8251,
          2132
         ],
         "yaxis": "y"
        }
       ],
       "layout": {
        "barmode": "relative",
        "legend": {
         "title": {
          "text": "variable"
         },
         "tracegroupgap": 0
        },
        "margin": {
         "t": 60
        },
        "template": {
         "data": {
          "bar": [
           {
            "error_x": {
             "color": "#2a3f5f"
            },
            "error_y": {
             "color": "#2a3f5f"
            },
            "marker": {
             "line": {
              "color": "#E5ECF6",
              "width": 0.5
             },
             "pattern": {
              "fillmode": "overlay",
              "size": 10,
              "solidity": 0.2
             }
            },
            "type": "bar"
           }
          ],
          "barpolar": [
           {
            "marker": {
             "line": {
              "color": "#E5ECF6",
              "width": 0.5
             },
             "pattern": {
              "fillmode": "overlay",
              "size": 10,
              "solidity": 0.2
             }
            },
            "type": "barpolar"
           }
          ],
          "carpet": [
           {
            "aaxis": {
             "endlinecolor": "#2a3f5f",
             "gridcolor": "white",
             "linecolor": "white",
             "minorgridcolor": "white",
             "startlinecolor": "#2a3f5f"
            },
            "baxis": {
             "endlinecolor": "#2a3f5f",
             "gridcolor": "white",
             "linecolor": "white",
             "minorgridcolor": "white",
             "startlinecolor": "#2a3f5f"
            },
            "type": "carpet"
           }
          ],
          "choropleth": [
           {
            "colorbar": {
             "outlinewidth": 0,
             "ticks": ""
            },
            "type": "choropleth"
           }
          ],
          "contour": [
           {
            "colorbar": {
             "outlinewidth": 0,
             "ticks": ""
            },
            "colorscale": [
             [
              0,
              "#0d0887"
             ],
             [
              0.1111111111111111,
              "#46039f"
             ],
             [
              0.2222222222222222,
              "#7201a8"
             ],
             [
              0.3333333333333333,
              "#9c179e"
             ],
             [
              0.4444444444444444,
              "#bd3786"
             ],
             [
              0.5555555555555556,
              "#d8576b"
             ],
             [
              0.6666666666666666,
              "#ed7953"
             ],
             [
              0.7777777777777778,
              "#fb9f3a"
             ],
             [
              0.8888888888888888,
              "#fdca26"
             ],
             [
              1,
              "#f0f921"
             ]
            ],
            "type": "contour"
           }
          ],
          "contourcarpet": [
           {
            "colorbar": {
             "outlinewidth": 0,
             "ticks": ""
            },
            "type": "contourcarpet"
           }
          ],
          "heatmap": [
           {
            "colorbar": {
             "outlinewidth": 0,
             "ticks": ""
            },
            "colorscale": [
             [
              0,
              "#0d0887"
             ],
             [
              0.1111111111111111,
              "#46039f"
             ],
             [
              0.2222222222222222,
              "#7201a8"
             ],
             [
              0.3333333333333333,
              "#9c179e"
             ],
             [
              0.4444444444444444,
              "#bd3786"
             ],
             [
              0.5555555555555556,
              "#d8576b"
             ],
             [
              0.6666666666666666,
              "#ed7953"
             ],
             [
              0.7777777777777778,
              "#fb9f3a"
             ],
             [
              0.8888888888888888,
              "#fdca26"
             ],
             [
              1,
              "#f0f921"
             ]
            ],
            "type": "heatmap"
           }
          ],
          "heatmapgl": [
           {
            "colorbar": {
             "outlinewidth": 0,
             "ticks": ""
            },
            "colorscale": [
             [
              0,
              "#0d0887"
             ],
             [
              0.1111111111111111,
              "#46039f"
             ],
             [
              0.2222222222222222,
              "#7201a8"
             ],
             [
              0.3333333333333333,
              "#9c179e"
             ],
             [
              0.4444444444444444,
              "#bd3786"
             ],
             [
              0.5555555555555556,
              "#d8576b"
             ],
             [
              0.6666666666666666,
              "#ed7953"
             ],
             [
              0.7777777777777778,
              "#fb9f3a"
             ],
             [
              0.8888888888888888,
              "#fdca26"
             ],
             [
              1,
              "#f0f921"
             ]
            ],
            "type": "heatmapgl"
           }
          ],
          "histogram": [
           {
            "marker": {
             "pattern": {
              "fillmode": "overlay",
              "size": 10,
              "solidity": 0.2
             }
            },
            "type": "histogram"
           }
          ],
          "histogram2d": [
           {
            "colorbar": {
             "outlinewidth": 0,
             "ticks": ""
            },
            "colorscale": [
             [
              0,
              "#0d0887"
             ],
             [
              0.1111111111111111,
              "#46039f"
             ],
             [
              0.2222222222222222,
              "#7201a8"
             ],
             [
              0.3333333333333333,
              "#9c179e"
             ],
             [
              0.4444444444444444,
              "#bd3786"
             ],
             [
              0.5555555555555556,
              "#d8576b"
             ],
             [
              0.6666666666666666,
              "#ed7953"
             ],
             [
              0.7777777777777778,
              "#fb9f3a"
             ],
             [
              0.8888888888888888,
              "#fdca26"
             ],
             [
              1,
              "#f0f921"
             ]
            ],
            "type": "histogram2d"
           }
          ],
          "histogram2dcontour": [
           {
            "colorbar": {
             "outlinewidth": 0,
             "ticks": ""
            },
            "colorscale": [
             [
              0,
              "#0d0887"
             ],
             [
              0.1111111111111111,
              "#46039f"
             ],
             [
              0.2222222222222222,
              "#7201a8"
             ],
             [
              0.3333333333333333,
              "#9c179e"
             ],
             [
              0.4444444444444444,
              "#bd3786"
             ],
             [
              0.5555555555555556,
              "#d8576b"
             ],
             [
              0.6666666666666666,
              "#ed7953"
             ],
             [
              0.7777777777777778,
              "#fb9f3a"
             ],
             [
              0.8888888888888888,
              "#fdca26"
             ],
             [
              1,
              "#f0f921"
             ]
            ],
            "type": "histogram2dcontour"
           }
          ],
          "mesh3d": [
           {
            "colorbar": {
             "outlinewidth": 0,
             "ticks": ""
            },
            "type": "mesh3d"
           }
          ],
          "parcoords": [
           {
            "line": {
             "colorbar": {
              "outlinewidth": 0,
              "ticks": ""
             }
            },
            "type": "parcoords"
           }
          ],
          "pie": [
           {
            "automargin": true,
            "type": "pie"
           }
          ],
          "scatter": [
           {
            "fillpattern": {
             "fillmode": "overlay",
             "size": 10,
             "solidity": 0.2
            },
            "type": "scatter"
           }
          ],
          "scatter3d": [
           {
            "line": {
             "colorbar": {
              "outlinewidth": 0,
              "ticks": ""
             }
            },
            "marker": {
             "colorbar": {
              "outlinewidth": 0,
              "ticks": ""
             }
            },
            "type": "scatter3d"
           }
          ],
          "scattercarpet": [
           {
            "marker": {
             "colorbar": {
              "outlinewidth": 0,
              "ticks": ""
             }
            },
            "type": "scattercarpet"
           }
          ],
          "scattergeo": [
           {
            "marker": {
             "colorbar": {
              "outlinewidth": 0,
              "ticks": ""
             }
            },
            "type": "scattergeo"
           }
          ],
          "scattergl": [
           {
            "marker": {
             "colorbar": {
              "outlinewidth": 0,
              "ticks": ""
             }
            },
            "type": "scattergl"
           }
          ],
          "scattermapbox": [
           {
            "marker": {
             "colorbar": {
              "outlinewidth": 0,
              "ticks": ""
             }
            },
            "type": "scattermapbox"
           }
          ],
          "scatterpolar": [
           {
            "marker": {
             "colorbar": {
              "outlinewidth": 0,
              "ticks": ""
             }
            },
            "type": "scatterpolar"
           }
          ],
          "scatterpolargl": [
           {
            "marker": {
             "colorbar": {
              "outlinewidth": 0,
              "ticks": ""
             }
            },
            "type": "scatterpolargl"
           }
          ],
          "scatterternary": [
           {
            "marker": {
             "colorbar": {
              "outlinewidth": 0,
              "ticks": ""
             }
            },
            "type": "scatterternary"
           }
          ],
          "surface": [
           {
            "colorbar": {
             "outlinewidth": 0,
             "ticks": ""
            },
            "colorscale": [
             [
              0,
              "#0d0887"
             ],
             [
              0.1111111111111111,
              "#46039f"
             ],
             [
              0.2222222222222222,
              "#7201a8"
             ],
             [
              0.3333333333333333,
              "#9c179e"
             ],
             [
              0.4444444444444444,
              "#bd3786"
             ],
             [
              0.5555555555555556,
              "#d8576b"
             ],
             [
              0.6666666666666666,
              "#ed7953"
             ],
             [
              0.7777777777777778,
              "#fb9f3a"
             ],
             [
              0.8888888888888888,
              "#fdca26"
             ],
             [
              1,
              "#f0f921"
             ]
            ],
            "type": "surface"
           }
          ],
          "table": [
           {
            "cells": {
             "fill": {
              "color": "#EBF0F8"
             },
             "line": {
              "color": "white"
             }
            },
            "header": {
             "fill": {
              "color": "#C8D4E3"
             },
             "line": {
              "color": "white"
             }
            },
            "type": "table"
           }
          ]
         },
         "layout": {
          "annotationdefaults": {
           "arrowcolor": "#2a3f5f",
           "arrowhead": 0,
           "arrowwidth": 1
          },
          "autotypenumbers": "strict",
          "coloraxis": {
           "colorbar": {
            "outlinewidth": 0,
            "ticks": ""
           }
          },
          "colorscale": {
           "diverging": [
            [
             0,
             "#8e0152"
            ],
            [
             0.1,
             "#c51b7d"
            ],
            [
             0.2,
             "#de77ae"
            ],
            [
             0.3,
             "#f1b6da"
            ],
            [
             0.4,
             "#fde0ef"
            ],
            [
             0.5,
             "#f7f7f7"
            ],
            [
             0.6,
             "#e6f5d0"
            ],
            [
             0.7,
             "#b8e186"
            ],
            [
             0.8,
             "#7fbc41"
            ],
            [
             0.9,
             "#4d9221"
            ],
            [
             1,
             "#276419"
            ]
           ],
           "sequential": [
            [
             0,
             "#0d0887"
            ],
            [
             0.1111111111111111,
             "#46039f"
            ],
            [
             0.2222222222222222,
             "#7201a8"
            ],
            [
             0.3333333333333333,
             "#9c179e"
            ],
            [
             0.4444444444444444,
             "#bd3786"
            ],
            [
             0.5555555555555556,
             "#d8576b"
            ],
            [
             0.6666666666666666,
             "#ed7953"
            ],
            [
             0.7777777777777778,
             "#fb9f3a"
            ],
            [
             0.8888888888888888,
             "#fdca26"
            ],
            [
             1,
             "#f0f921"
            ]
           ],
           "sequentialminus": [
            [
             0,
             "#0d0887"
            ],
            [
             0.1111111111111111,
             "#46039f"
            ],
            [
             0.2222222222222222,
             "#7201a8"
            ],
            [
             0.3333333333333333,
             "#9c179e"
            ],
            [
             0.4444444444444444,
             "#bd3786"
            ],
            [
             0.5555555555555556,
             "#d8576b"
            ],
            [
             0.6666666666666666,
             "#ed7953"
            ],
            [
             0.7777777777777778,
             "#fb9f3a"
            ],
            [
             0.8888888888888888,
             "#fdca26"
            ],
            [
             1,
             "#f0f921"
            ]
           ]
          },
          "colorway": [
           "#636efa",
           "#EF553B",
           "#00cc96",
           "#ab63fa",
           "#FFA15A",
           "#19d3f3",
           "#FF6692",
           "#B6E880",
           "#FF97FF",
           "#FECB52"
          ],
          "font": {
           "color": "#2a3f5f"
          },
          "geo": {
           "bgcolor": "white",
           "lakecolor": "white",
           "landcolor": "#E5ECF6",
           "showlakes": true,
           "showland": true,
           "subunitcolor": "white"
          },
          "hoverlabel": {
           "align": "left"
          },
          "hovermode": "closest",
          "mapbox": {
           "style": "light"
          },
          "paper_bgcolor": "white",
          "plot_bgcolor": "#E5ECF6",
          "polar": {
           "angularaxis": {
            "gridcolor": "white",
            "linecolor": "white",
            "ticks": ""
           },
           "bgcolor": "#E5ECF6",
           "radialaxis": {
            "gridcolor": "white",
            "linecolor": "white",
            "ticks": ""
           }
          },
          "scene": {
           "xaxis": {
            "backgroundcolor": "#E5ECF6",
            "gridcolor": "white",
            "gridwidth": 2,
            "linecolor": "white",
            "showbackground": true,
            "ticks": "",
            "zerolinecolor": "white"
           },
           "yaxis": {
            "backgroundcolor": "#E5ECF6",
            "gridcolor": "white",
            "gridwidth": 2,
            "linecolor": "white",
            "showbackground": true,
            "ticks": "",
            "zerolinecolor": "white"
           },
           "zaxis": {
            "backgroundcolor": "#E5ECF6",
            "gridcolor": "white",
            "gridwidth": 2,
            "linecolor": "white",
            "showbackground": true,
            "ticks": "",
            "zerolinecolor": "white"
           }
          },
          "shapedefaults": {
           "line": {
            "color": "#2a3f5f"
           }
          },
          "ternary": {
           "aaxis": {
            "gridcolor": "white",
            "linecolor": "white",
            "ticks": ""
           },
           "baxis": {
            "gridcolor": "white",
            "linecolor": "white",
            "ticks": ""
           },
           "bgcolor": "#E5ECF6",
           "caxis": {
            "gridcolor": "white",
            "linecolor": "white",
            "ticks": ""
           }
          },
          "title": {
           "x": 0.05
          },
          "xaxis": {
           "automargin": true,
           "gridcolor": "white",
           "linecolor": "white",
           "ticks": "",
           "title": {
            "standoff": 15
           },
           "zerolinecolor": "white",
           "zerolinewidth": 2
          },
          "yaxis": {
           "automargin": true,
           "gridcolor": "white",
           "linecolor": "white",
           "ticks": "",
           "title": {
            "standoff": 15
           },
           "zerolinecolor": "white",
           "zerolinewidth": 2
          }
         }
        },
        "title": {
         "text": "Mortgage Cost per Month By Boroughs"
        },
        "xaxis": {
         "anchor": "y",
         "domain": [
          0,
          1
         ],
         "title": {
          "text": "Borough"
         }
        },
        "yaxis": {
         "anchor": "x",
         "domain": [
          0,
          1
         ],
         "title": {
          "text": "Hosuing Units with Mortgage"
         }
        }
       }
      }
     },
     "metadata": {},
     "output_type": "display_data"
    }
   ],
   "source": [
    "import matplotlib.pyplot as plt\n",
    "\n",
    "fig = px.bar(census_bureau_dataframe, x='Borough', y=['Mortgage Cost over $4,000 per Month',\n",
    "                                                      'Mortgage Cost between $3,500 to $3,999',\n",
    "                                                      'Mortgage Cost between $3,000 to $3,499',\n",
    "                                                      'Mortgage Cost between $2,999 to $2,500',\n",
    "                                                      'Mortgage Cost between $2,000 to $2,499',\n",
    "                                                      'Mortgage Cost between $1,500 to $1,999',\n",
    "                                                      'Mortgage Cost between $1,250 to $1,499',\n",
    "                                                      'Mortgage Cost between $1,000 to $1,249'])\n",
    "fig.update_layout(\n",
    "    xaxis_title=\"Borough\",\n",
    "    yaxis_title=\"Hosuing Units with Mortgage\"\n",
    ")\n",
    "fig.update_layout(title=\"Mortgage Cost per Month By Boroughs\")\n",
    "fig.show()\n",
    "\n"
   ]
  },
  {
   "attachments": {},
   "cell_type": "markdown",
   "metadata": {},
   "source": [
    "### Seeing Home Value Ownership Amoung Age in Each Borough"
   ]
  },
  {
   "cell_type": "code",
   "execution_count": 102,
   "metadata": {},
   "outputs": [
    {
     "data": {
      "application/vnd.plotly.v1+json": {
       "config": {
        "plotlyServerURL": "https://plot.ly"
       },
       "data": [
        {
         "alignmentgroup": "True",
         "hovertemplate": "variable=Aggregate Value of Home: Owner Age 65 annd Over<br>Borough=%{x}<br>value=%{y}<extra></extra>",
         "legendgroup": "Aggregate Value of Home: Owner Age 65 annd Over",
         "marker": {
          "color": "#636efa",
          "pattern": {
           "shape": ""
          }
         },
         "name": "Aggregate Value of Home: Owner Age 65 annd Over",
         "offsetgroup": "Aggregate Value of Home: Owner Age 65 annd Over",
         "orientation": "v",
         "showlegend": true,
         "textposition": "auto",
         "type": "bar",
         "x": [
          "Queens County, New York",
          "New York County, New York",
          "Bronx County, New York",
          "Kings County, New York",
          "Richmond County, New York",
          "Bronx County, New York",
          "Kings County, New York",
          "New York County, New York",
          "Queens County, New York",
          "Richmond County, New York"
         ],
         "xaxis": "x",
         "y": [
          51786055000,
          78396853400,
          10378417400,
          54152594700,
          15195121600,
          15610092300,
          89016195200,
          98788708700,
          81720874500,
          20406233400
         ],
         "yaxis": "y"
        },
        {
         "alignmentgroup": "True",
         "hovertemplate": "variable=Aggregate Value of Home: Owner Age 35 to 64 Years Old<br>Borough=%{x}<br>value=%{y}<extra></extra>",
         "legendgroup": "Aggregate Value of Home: Owner Age 35 to 64 Years Old",
         "marker": {
          "color": "#EF553B",
          "pattern": {
           "shape": ""
          }
         },
         "name": "Aggregate Value of Home: Owner Age 35 to 64 Years Old",
         "offsetgroup": "Aggregate Value of Home: Owner Age 35 to 64 Years Old",
         "orientation": "v",
         "showlegend": true,
         "textposition": "auto",
         "type": "bar",
         "x": [
          "Queens County, New York",
          "New York County, New York",
          "Bronx County, New York",
          "Kings County, New York",
          "Richmond County, New York",
          "Bronx County, New York",
          "Kings County, New York",
          "New York County, New York",
          "Queens County, New York",
          "Richmond County, New York"
         ],
         "xaxis": "x",
         "y": [
          106334986700,
          149233670500,
          21045511900,
          126163701500,
          36027620800,
          28627372200,
          183211928500,
          178078414300,
          140644823700,
          42994853000
         ],
         "yaxis": "y"
        },
        {
         "alignmentgroup": "True",
         "hovertemplate": "variable=Aggregate Value of Home: Owner Age 25 to 34 Years Old<br>Borough=%{x}<br>value=%{y}<extra></extra>",
         "legendgroup": "Aggregate Value of Home: Owner Age 25 to 34 Years Old",
         "marker": {
          "color": "#00cc96",
          "pattern": {
           "shape": ""
          }
         },
         "name": "Aggregate Value of Home: Owner Age 25 to 34 Years Old",
         "offsetgroup": "Aggregate Value of Home: Owner Age 25 to 34 Years Old",
         "orientation": "v",
         "showlegend": true,
         "textposition": "auto",
         "type": "bar",
         "x": [
          "Queens County, New York",
          "New York County, New York",
          "Bronx County, New York",
          "Kings County, New York",
          "Richmond County, New York",
          "Bronx County, New York",
          "Kings County, New York",
          "New York County, New York",
          "Queens County, New York",
          "Richmond County, New York"
         ],
         "xaxis": "x",
         "y": [
          10432823700,
          17035589500,
          1636090800,
          14809864100,
          3359499500,
          2488600000,
          20537991500,
          17960218900,
          14456519900,
          4432136400
         ],
         "yaxis": "y"
        }
       ],
       "layout": {
        "barmode": "relative",
        "legend": {
         "title": {
          "text": "variable"
         },
         "tracegroupgap": 0
        },
        "margin": {
         "t": 60
        },
        "template": {
         "data": {
          "bar": [
           {
            "error_x": {
             "color": "#2a3f5f"
            },
            "error_y": {
             "color": "#2a3f5f"
            },
            "marker": {
             "line": {
              "color": "#E5ECF6",
              "width": 0.5
             },
             "pattern": {
              "fillmode": "overlay",
              "size": 10,
              "solidity": 0.2
             }
            },
            "type": "bar"
           }
          ],
          "barpolar": [
           {
            "marker": {
             "line": {
              "color": "#E5ECF6",
              "width": 0.5
             },
             "pattern": {
              "fillmode": "overlay",
              "size": 10,
              "solidity": 0.2
             }
            },
            "type": "barpolar"
           }
          ],
          "carpet": [
           {
            "aaxis": {
             "endlinecolor": "#2a3f5f",
             "gridcolor": "white",
             "linecolor": "white",
             "minorgridcolor": "white",
             "startlinecolor": "#2a3f5f"
            },
            "baxis": {
             "endlinecolor": "#2a3f5f",
             "gridcolor": "white",
             "linecolor": "white",
             "minorgridcolor": "white",
             "startlinecolor": "#2a3f5f"
            },
            "type": "carpet"
           }
          ],
          "choropleth": [
           {
            "colorbar": {
             "outlinewidth": 0,
             "ticks": ""
            },
            "type": "choropleth"
           }
          ],
          "contour": [
           {
            "colorbar": {
             "outlinewidth": 0,
             "ticks": ""
            },
            "colorscale": [
             [
              0,
              "#0d0887"
             ],
             [
              0.1111111111111111,
              "#46039f"
             ],
             [
              0.2222222222222222,
              "#7201a8"
             ],
             [
              0.3333333333333333,
              "#9c179e"
             ],
             [
              0.4444444444444444,
              "#bd3786"
             ],
             [
              0.5555555555555556,
              "#d8576b"
             ],
             [
              0.6666666666666666,
              "#ed7953"
             ],
             [
              0.7777777777777778,
              "#fb9f3a"
             ],
             [
              0.8888888888888888,
              "#fdca26"
             ],
             [
              1,
              "#f0f921"
             ]
            ],
            "type": "contour"
           }
          ],
          "contourcarpet": [
           {
            "colorbar": {
             "outlinewidth": 0,
             "ticks": ""
            },
            "type": "contourcarpet"
           }
          ],
          "heatmap": [
           {
            "colorbar": {
             "outlinewidth": 0,
             "ticks": ""
            },
            "colorscale": [
             [
              0,
              "#0d0887"
             ],
             [
              0.1111111111111111,
              "#46039f"
             ],
             [
              0.2222222222222222,
              "#7201a8"
             ],
             [
              0.3333333333333333,
              "#9c179e"
             ],
             [
              0.4444444444444444,
              "#bd3786"
             ],
             [
              0.5555555555555556,
              "#d8576b"
             ],
             [
              0.6666666666666666,
              "#ed7953"
             ],
             [
              0.7777777777777778,
              "#fb9f3a"
             ],
             [
              0.8888888888888888,
              "#fdca26"
             ],
             [
              1,
              "#f0f921"
             ]
            ],
            "type": "heatmap"
           }
          ],
          "heatmapgl": [
           {
            "colorbar": {
             "outlinewidth": 0,
             "ticks": ""
            },
            "colorscale": [
             [
              0,
              "#0d0887"
             ],
             [
              0.1111111111111111,
              "#46039f"
             ],
             [
              0.2222222222222222,
              "#7201a8"
             ],
             [
              0.3333333333333333,
              "#9c179e"
             ],
             [
              0.4444444444444444,
              "#bd3786"
             ],
             [
              0.5555555555555556,
              "#d8576b"
             ],
             [
              0.6666666666666666,
              "#ed7953"
             ],
             [
              0.7777777777777778,
              "#fb9f3a"
             ],
             [
              0.8888888888888888,
              "#fdca26"
             ],
             [
              1,
              "#f0f921"
             ]
            ],
            "type": "heatmapgl"
           }
          ],
          "histogram": [
           {
            "marker": {
             "pattern": {
              "fillmode": "overlay",
              "size": 10,
              "solidity": 0.2
             }
            },
            "type": "histogram"
           }
          ],
          "histogram2d": [
           {
            "colorbar": {
             "outlinewidth": 0,
             "ticks": ""
            },
            "colorscale": [
             [
              0,
              "#0d0887"
             ],
             [
              0.1111111111111111,
              "#46039f"
             ],
             [
              0.2222222222222222,
              "#7201a8"
             ],
             [
              0.3333333333333333,
              "#9c179e"
             ],
             [
              0.4444444444444444,
              "#bd3786"
             ],
             [
              0.5555555555555556,
              "#d8576b"
             ],
             [
              0.6666666666666666,
              "#ed7953"
             ],
             [
              0.7777777777777778,
              "#fb9f3a"
             ],
             [
              0.8888888888888888,
              "#fdca26"
             ],
             [
              1,
              "#f0f921"
             ]
            ],
            "type": "histogram2d"
           }
          ],
          "histogram2dcontour": [
           {
            "colorbar": {
             "outlinewidth": 0,
             "ticks": ""
            },
            "colorscale": [
             [
              0,
              "#0d0887"
             ],
             [
              0.1111111111111111,
              "#46039f"
             ],
             [
              0.2222222222222222,
              "#7201a8"
             ],
             [
              0.3333333333333333,
              "#9c179e"
             ],
             [
              0.4444444444444444,
              "#bd3786"
             ],
             [
              0.5555555555555556,
              "#d8576b"
             ],
             [
              0.6666666666666666,
              "#ed7953"
             ],
             [
              0.7777777777777778,
              "#fb9f3a"
             ],
             [
              0.8888888888888888,
              "#fdca26"
             ],
             [
              1,
              "#f0f921"
             ]
            ],
            "type": "histogram2dcontour"
           }
          ],
          "mesh3d": [
           {
            "colorbar": {
             "outlinewidth": 0,
             "ticks": ""
            },
            "type": "mesh3d"
           }
          ],
          "parcoords": [
           {
            "line": {
             "colorbar": {
              "outlinewidth": 0,
              "ticks": ""
             }
            },
            "type": "parcoords"
           }
          ],
          "pie": [
           {
            "automargin": true,
            "type": "pie"
           }
          ],
          "scatter": [
           {
            "fillpattern": {
             "fillmode": "overlay",
             "size": 10,
             "solidity": 0.2
            },
            "type": "scatter"
           }
          ],
          "scatter3d": [
           {
            "line": {
             "colorbar": {
              "outlinewidth": 0,
              "ticks": ""
             }
            },
            "marker": {
             "colorbar": {
              "outlinewidth": 0,
              "ticks": ""
             }
            },
            "type": "scatter3d"
           }
          ],
          "scattercarpet": [
           {
            "marker": {
             "colorbar": {
              "outlinewidth": 0,
              "ticks": ""
             }
            },
            "type": "scattercarpet"
           }
          ],
          "scattergeo": [
           {
            "marker": {
             "colorbar": {
              "outlinewidth": 0,
              "ticks": ""
             }
            },
            "type": "scattergeo"
           }
          ],
          "scattergl": [
           {
            "marker": {
             "colorbar": {
              "outlinewidth": 0,
              "ticks": ""
             }
            },
            "type": "scattergl"
           }
          ],
          "scattermapbox": [
           {
            "marker": {
             "colorbar": {
              "outlinewidth": 0,
              "ticks": ""
             }
            },
            "type": "scattermapbox"
           }
          ],
          "scatterpolar": [
           {
            "marker": {
             "colorbar": {
              "outlinewidth": 0,
              "ticks": ""
             }
            },
            "type": "scatterpolar"
           }
          ],
          "scatterpolargl": [
           {
            "marker": {
             "colorbar": {
              "outlinewidth": 0,
              "ticks": ""
             }
            },
            "type": "scatterpolargl"
           }
          ],
          "scatterternary": [
           {
            "marker": {
             "colorbar": {
              "outlinewidth": 0,
              "ticks": ""
             }
            },
            "type": "scatterternary"
           }
          ],
          "surface": [
           {
            "colorbar": {
             "outlinewidth": 0,
             "ticks": ""
            },
            "colorscale": [
             [
              0,
              "#0d0887"
             ],
             [
              0.1111111111111111,
              "#46039f"
             ],
             [
              0.2222222222222222,
              "#7201a8"
             ],
             [
              0.3333333333333333,
              "#9c179e"
             ],
             [
              0.4444444444444444,
              "#bd3786"
             ],
             [
              0.5555555555555556,
              "#d8576b"
             ],
             [
              0.6666666666666666,
              "#ed7953"
             ],
             [
              0.7777777777777778,
              "#fb9f3a"
             ],
             [
              0.8888888888888888,
              "#fdca26"
             ],
             [
              1,
              "#f0f921"
             ]
            ],
            "type": "surface"
           }
          ],
          "table": [
           {
            "cells": {
             "fill": {
              "color": "#EBF0F8"
             },
             "line": {
              "color": "white"
             }
            },
            "header": {
             "fill": {
              "color": "#C8D4E3"
             },
             "line": {
              "color": "white"
             }
            },
            "type": "table"
           }
          ]
         },
         "layout": {
          "annotationdefaults": {
           "arrowcolor": "#2a3f5f",
           "arrowhead": 0,
           "arrowwidth": 1
          },
          "autotypenumbers": "strict",
          "coloraxis": {
           "colorbar": {
            "outlinewidth": 0,
            "ticks": ""
           }
          },
          "colorscale": {
           "diverging": [
            [
             0,
             "#8e0152"
            ],
            [
             0.1,
             "#c51b7d"
            ],
            [
             0.2,
             "#de77ae"
            ],
            [
             0.3,
             "#f1b6da"
            ],
            [
             0.4,
             "#fde0ef"
            ],
            [
             0.5,
             "#f7f7f7"
            ],
            [
             0.6,
             "#e6f5d0"
            ],
            [
             0.7,
             "#b8e186"
            ],
            [
             0.8,
             "#7fbc41"
            ],
            [
             0.9,
             "#4d9221"
            ],
            [
             1,
             "#276419"
            ]
           ],
           "sequential": [
            [
             0,
             "#0d0887"
            ],
            [
             0.1111111111111111,
             "#46039f"
            ],
            [
             0.2222222222222222,
             "#7201a8"
            ],
            [
             0.3333333333333333,
             "#9c179e"
            ],
            [
             0.4444444444444444,
             "#bd3786"
            ],
            [
             0.5555555555555556,
             "#d8576b"
            ],
            [
             0.6666666666666666,
             "#ed7953"
            ],
            [
             0.7777777777777778,
             "#fb9f3a"
            ],
            [
             0.8888888888888888,
             "#fdca26"
            ],
            [
             1,
             "#f0f921"
            ]
           ],
           "sequentialminus": [
            [
             0,
             "#0d0887"
            ],
            [
             0.1111111111111111,
             "#46039f"
            ],
            [
             0.2222222222222222,
             "#7201a8"
            ],
            [
             0.3333333333333333,
             "#9c179e"
            ],
            [
             0.4444444444444444,
             "#bd3786"
            ],
            [
             0.5555555555555556,
             "#d8576b"
            ],
            [
             0.6666666666666666,
             "#ed7953"
            ],
            [
             0.7777777777777778,
             "#fb9f3a"
            ],
            [
             0.8888888888888888,
             "#fdca26"
            ],
            [
             1,
             "#f0f921"
            ]
           ]
          },
          "colorway": [
           "#636efa",
           "#EF553B",
           "#00cc96",
           "#ab63fa",
           "#FFA15A",
           "#19d3f3",
           "#FF6692",
           "#B6E880",
           "#FF97FF",
           "#FECB52"
          ],
          "font": {
           "color": "#2a3f5f"
          },
          "geo": {
           "bgcolor": "white",
           "lakecolor": "white",
           "landcolor": "#E5ECF6",
           "showlakes": true,
           "showland": true,
           "subunitcolor": "white"
          },
          "hoverlabel": {
           "align": "left"
          },
          "hovermode": "closest",
          "mapbox": {
           "style": "light"
          },
          "paper_bgcolor": "white",
          "plot_bgcolor": "#E5ECF6",
          "polar": {
           "angularaxis": {
            "gridcolor": "white",
            "linecolor": "white",
            "ticks": ""
           },
           "bgcolor": "#E5ECF6",
           "radialaxis": {
            "gridcolor": "white",
            "linecolor": "white",
            "ticks": ""
           }
          },
          "scene": {
           "xaxis": {
            "backgroundcolor": "#E5ECF6",
            "gridcolor": "white",
            "gridwidth": 2,
            "linecolor": "white",
            "showbackground": true,
            "ticks": "",
            "zerolinecolor": "white"
           },
           "yaxis": {
            "backgroundcolor": "#E5ECF6",
            "gridcolor": "white",
            "gridwidth": 2,
            "linecolor": "white",
            "showbackground": true,
            "ticks": "",
            "zerolinecolor": "white"
           },
           "zaxis": {
            "backgroundcolor": "#E5ECF6",
            "gridcolor": "white",
            "gridwidth": 2,
            "linecolor": "white",
            "showbackground": true,
            "ticks": "",
            "zerolinecolor": "white"
           }
          },
          "shapedefaults": {
           "line": {
            "color": "#2a3f5f"
           }
          },
          "ternary": {
           "aaxis": {
            "gridcolor": "white",
            "linecolor": "white",
            "ticks": ""
           },
           "baxis": {
            "gridcolor": "white",
            "linecolor": "white",
            "ticks": ""
           },
           "bgcolor": "#E5ECF6",
           "caxis": {
            "gridcolor": "white",
            "linecolor": "white",
            "ticks": ""
           }
          },
          "title": {
           "x": 0.05
          },
          "xaxis": {
           "automargin": true,
           "gridcolor": "white",
           "linecolor": "white",
           "ticks": "",
           "title": {
            "standoff": 15
           },
           "zerolinecolor": "white",
           "zerolinewidth": 2
          },
          "yaxis": {
           "automargin": true,
           "gridcolor": "white",
           "linecolor": "white",
           "ticks": "",
           "title": {
            "standoff": 15
           },
           "zerolinecolor": "white",
           "zerolinewidth": 2
          }
         }
        },
        "title": {
         "text": "Home Ownership Value by Age Group"
        },
        "xaxis": {
         "anchor": "y",
         "domain": [
          0,
          1
         ],
         "title": {
          "text": "Borough"
         }
        },
        "yaxis": {
         "anchor": "x",
         "domain": [
          0,
          1
         ],
         "title": {
          "text": "Value (Billions)"
         }
        }
       }
      }
     },
     "metadata": {},
     "output_type": "display_data"
    }
   ],
   "source": [
    "import matplotlib.pyplot as plt\n",
    "\n",
    "fig = px.bar(census_bureau_dataframe, x='Borough', y=['Aggregate Value of Home: Owner Age 65 annd Over',\n",
    "                                                      'Aggregate Value of Home: Owner Age 35 to 64 Years Old',\n",
    "                                                    \t'Aggregate Value of Home: Owner Age 25 to 34 Years Old'])\n",
    "fig.update_layout(\n",
    "    xaxis_title=\"Borough\",\n",
    "    yaxis_title=\"Value (Billions)\"\n",
    ")\n",
    "fig.update_layout(title=\"Home Ownership Value by Age Group\")\n",
    "fig.show()"
   ]
  },
  {
   "attachments": {},
   "cell_type": "markdown",
   "metadata": {},
   "source": [
    "### Viewing the Spread of Populations in all Boroughs"
   ]
  },
  {
   "cell_type": "code",
   "execution_count": 103,
   "metadata": {},
   "outputs": [
    {
     "data": {
      "application/vnd.plotly.v1+json": {
       "config": {
        "plotlyServerURL": "https://plot.ly"
       },
       "data": [
        {
         "hovertemplate": "Race: White=%{x}<br>Total Population=%{y}<extra></extra>",
         "legendgroup": "",
         "marker": {
          "color": "blue",
          "symbol": "circle"
         },
         "mode": "markers",
         "name": "",
         "orientation": "v",
         "showlegend": false,
         "type": "scatter",
         "x": [
          936414,
          928883,
          295351,
          1128927,
          355407,
          292577,
          1141959,
          893947,
          804251,
          342071
         ],
         "xaxis": "x",
         "y": [
          2310011,
          1634989,
          1436785,
          2606852,
          473324,
          1468262,
          2712360,
          1669127,
          2393104,
          493194
         ],
         "yaxis": "y"
        },
        {
         "hovertemplate": "Race: Black or African American =%{x}<br>Total Population=%{y}<extra></extra>",
         "legendgroup": "",
         "marker": {
          "color": "black",
          "symbol": "circle"
         },
         "mode": "markers",
         "name": "",
         "orientation": "v",
         "showlegend": false,
         "type": "scatter",
         "x": [
          423451,
          244787,
          476525,
          871223,
          48941,
          506087,
          826199,
          234494,
          426028,
          49752
         ],
         "xaxis": "x",
         "y": [
          2310011,
          1634989,
          1436785,
          2606852,
          473324,
          1468262,
          2712360,
          1669127,
          2393104,
          493194
         ],
         "yaxis": "y"
        },
        {
         "hovertemplate": "Race: Asian=%{x}<br>Total Population=%{y}<extra></extra>",
         "legendgroup": "",
         "marker": {
          "color": "red",
          "symbol": "circle"
         },
         "mode": "markers",
         "name": "",
         "orientation": "v",
         "showlegend": false,
         "type": "scatter",
         "x": [
          572759,
          192573,
          52462,
          304037,
          38052,
          56291,
          320620,
          199561,
          616702,
          51336
         ],
         "xaxis": "x",
         "y": [
          2310011,
          1634989,
          1436785,
          2606852,
          473324,
          1468262,
          2712360,
          1669127,
          2393104,
          493194
         ],
         "yaxis": "y"
        },
        {
         "hovertemplate": "Race: American Indian and Alaska Native=%{x}<br>Total Population=%{y}<extra></extra>",
         "legendgroup": "",
         "marker": {
          "color": "green",
          "symbol": "circle"
         },
         "mode": "markers",
         "name": "",
         "orientation": "v",
         "showlegend": false,
         "type": "scatter",
         "x": [
          8976,
          6173,
          8375,
          8730,
          1134,
          11649,
          12088,
          7395,
          13210,
          1442
         ],
         "xaxis": "x",
         "y": [
          2310011,
          1634989,
          1436785,
          2606852,
          473324,
          1468262,
          2712360,
          1669127,
          2393104,
          493194
         ],
         "yaxis": "y"
        },
        {
         "hovertemplate": "Race: Other Race Alone=%{x}<br>Total Population=%{y}<extra></extra>",
         "legendgroup": "",
         "marker": {
          "color": "yellow",
          "symbol": "circle"
         },
         "mode": "markers",
         "name": "",
         "orientation": "v",
         "showlegend": false,
         "type": "scatter",
         "x": [
          288733,
          192292,
          551787,
          225869,
          18584,
          472873,
          252215,
          206374,
          350303,
          20020
         ],
         "xaxis": "x",
         "y": [
          2310011,
          1634989,
          1436785,
          2606852,
          473324,
          1468262,
          2712360,
          1669127,
          2393104,
          493194
         ],
         "yaxis": "y"
        },
        {
         "hovertemplate": "Race: Two or More Races=%{x}<br>Total Population=%{y}<extra></extra>",
         "legendgroup": "",
         "marker": {
          "color": "orange",
          "symbol": "circle"
         },
         "mode": "markers",
         "name": "",
         "orientation": "v",
         "showlegend": false,
         "type": "scatter",
         "x": [
          78587,
          69335,
          51579,
          67065,
          10955,
          126716,
          157825,
          126618,
          181461,
          28383
         ],
         "xaxis": "x",
         "y": [
          2310011,
          1634989,
          1436785,
          2606852,
          473324,
          1468262,
          2712360,
          1669127,
          2393104,
          493194
         ],
         "yaxis": "y"
        }
       ],
       "layout": {
        "legend": {
         "tracegroupgap": 0
        },
        "margin": {
         "t": 60
        },
        "template": {
         "data": {
          "bar": [
           {
            "error_x": {
             "color": "#2a3f5f"
            },
            "error_y": {
             "color": "#2a3f5f"
            },
            "marker": {
             "line": {
              "color": "#E5ECF6",
              "width": 0.5
             },
             "pattern": {
              "fillmode": "overlay",
              "size": 10,
              "solidity": 0.2
             }
            },
            "type": "bar"
           }
          ],
          "barpolar": [
           {
            "marker": {
             "line": {
              "color": "#E5ECF6",
              "width": 0.5
             },
             "pattern": {
              "fillmode": "overlay",
              "size": 10,
              "solidity": 0.2
             }
            },
            "type": "barpolar"
           }
          ],
          "carpet": [
           {
            "aaxis": {
             "endlinecolor": "#2a3f5f",
             "gridcolor": "white",
             "linecolor": "white",
             "minorgridcolor": "white",
             "startlinecolor": "#2a3f5f"
            },
            "baxis": {
             "endlinecolor": "#2a3f5f",
             "gridcolor": "white",
             "linecolor": "white",
             "minorgridcolor": "white",
             "startlinecolor": "#2a3f5f"
            },
            "type": "carpet"
           }
          ],
          "choropleth": [
           {
            "colorbar": {
             "outlinewidth": 0,
             "ticks": ""
            },
            "type": "choropleth"
           }
          ],
          "contour": [
           {
            "colorbar": {
             "outlinewidth": 0,
             "ticks": ""
            },
            "colorscale": [
             [
              0,
              "#0d0887"
             ],
             [
              0.1111111111111111,
              "#46039f"
             ],
             [
              0.2222222222222222,
              "#7201a8"
             ],
             [
              0.3333333333333333,
              "#9c179e"
             ],
             [
              0.4444444444444444,
              "#bd3786"
             ],
             [
              0.5555555555555556,
              "#d8576b"
             ],
             [
              0.6666666666666666,
              "#ed7953"
             ],
             [
              0.7777777777777778,
              "#fb9f3a"
             ],
             [
              0.8888888888888888,
              "#fdca26"
             ],
             [
              1,
              "#f0f921"
             ]
            ],
            "type": "contour"
           }
          ],
          "contourcarpet": [
           {
            "colorbar": {
             "outlinewidth": 0,
             "ticks": ""
            },
            "type": "contourcarpet"
           }
          ],
          "heatmap": [
           {
            "colorbar": {
             "outlinewidth": 0,
             "ticks": ""
            },
            "colorscale": [
             [
              0,
              "#0d0887"
             ],
             [
              0.1111111111111111,
              "#46039f"
             ],
             [
              0.2222222222222222,
              "#7201a8"
             ],
             [
              0.3333333333333333,
              "#9c179e"
             ],
             [
              0.4444444444444444,
              "#bd3786"
             ],
             [
              0.5555555555555556,
              "#d8576b"
             ],
             [
              0.6666666666666666,
              "#ed7953"
             ],
             [
              0.7777777777777778,
              "#fb9f3a"
             ],
             [
              0.8888888888888888,
              "#fdca26"
             ],
             [
              1,
              "#f0f921"
             ]
            ],
            "type": "heatmap"
           }
          ],
          "heatmapgl": [
           {
            "colorbar": {
             "outlinewidth": 0,
             "ticks": ""
            },
            "colorscale": [
             [
              0,
              "#0d0887"
             ],
             [
              0.1111111111111111,
              "#46039f"
             ],
             [
              0.2222222222222222,
              "#7201a8"
             ],
             [
              0.3333333333333333,
              "#9c179e"
             ],
             [
              0.4444444444444444,
              "#bd3786"
             ],
             [
              0.5555555555555556,
              "#d8576b"
             ],
             [
              0.6666666666666666,
              "#ed7953"
             ],
             [
              0.7777777777777778,
              "#fb9f3a"
             ],
             [
              0.8888888888888888,
              "#fdca26"
             ],
             [
              1,
              "#f0f921"
             ]
            ],
            "type": "heatmapgl"
           }
          ],
          "histogram": [
           {
            "marker": {
             "pattern": {
              "fillmode": "overlay",
              "size": 10,
              "solidity": 0.2
             }
            },
            "type": "histogram"
           }
          ],
          "histogram2d": [
           {
            "colorbar": {
             "outlinewidth": 0,
             "ticks": ""
            },
            "colorscale": [
             [
              0,
              "#0d0887"
             ],
             [
              0.1111111111111111,
              "#46039f"
             ],
             [
              0.2222222222222222,
              "#7201a8"
             ],
             [
              0.3333333333333333,
              "#9c179e"
             ],
             [
              0.4444444444444444,
              "#bd3786"
             ],
             [
              0.5555555555555556,
              "#d8576b"
             ],
             [
              0.6666666666666666,
              "#ed7953"
             ],
             [
              0.7777777777777778,
              "#fb9f3a"
             ],
             [
              0.8888888888888888,
              "#fdca26"
             ],
             [
              1,
              "#f0f921"
             ]
            ],
            "type": "histogram2d"
           }
          ],
          "histogram2dcontour": [
           {
            "colorbar": {
             "outlinewidth": 0,
             "ticks": ""
            },
            "colorscale": [
             [
              0,
              "#0d0887"
             ],
             [
              0.1111111111111111,
              "#46039f"
             ],
             [
              0.2222222222222222,
              "#7201a8"
             ],
             [
              0.3333333333333333,
              "#9c179e"
             ],
             [
              0.4444444444444444,
              "#bd3786"
             ],
             [
              0.5555555555555556,
              "#d8576b"
             ],
             [
              0.6666666666666666,
              "#ed7953"
             ],
             [
              0.7777777777777778,
              "#fb9f3a"
             ],
             [
              0.8888888888888888,
              "#fdca26"
             ],
             [
              1,
              "#f0f921"
             ]
            ],
            "type": "histogram2dcontour"
           }
          ],
          "mesh3d": [
           {
            "colorbar": {
             "outlinewidth": 0,
             "ticks": ""
            },
            "type": "mesh3d"
           }
          ],
          "parcoords": [
           {
            "line": {
             "colorbar": {
              "outlinewidth": 0,
              "ticks": ""
             }
            },
            "type": "parcoords"
           }
          ],
          "pie": [
           {
            "automargin": true,
            "type": "pie"
           }
          ],
          "scatter": [
           {
            "fillpattern": {
             "fillmode": "overlay",
             "size": 10,
             "solidity": 0.2
            },
            "type": "scatter"
           }
          ],
          "scatter3d": [
           {
            "line": {
             "colorbar": {
              "outlinewidth": 0,
              "ticks": ""
             }
            },
            "marker": {
             "colorbar": {
              "outlinewidth": 0,
              "ticks": ""
             }
            },
            "type": "scatter3d"
           }
          ],
          "scattercarpet": [
           {
            "marker": {
             "colorbar": {
              "outlinewidth": 0,
              "ticks": ""
             }
            },
            "type": "scattercarpet"
           }
          ],
          "scattergeo": [
           {
            "marker": {
             "colorbar": {
              "outlinewidth": 0,
              "ticks": ""
             }
            },
            "type": "scattergeo"
           }
          ],
          "scattergl": [
           {
            "marker": {
             "colorbar": {
              "outlinewidth": 0,
              "ticks": ""
             }
            },
            "type": "scattergl"
           }
          ],
          "scattermapbox": [
           {
            "marker": {
             "colorbar": {
              "outlinewidth": 0,
              "ticks": ""
             }
            },
            "type": "scattermapbox"
           }
          ],
          "scatterpolar": [
           {
            "marker": {
             "colorbar": {
              "outlinewidth": 0,
              "ticks": ""
             }
            },
            "type": "scatterpolar"
           }
          ],
          "scatterpolargl": [
           {
            "marker": {
             "colorbar": {
              "outlinewidth": 0,
              "ticks": ""
             }
            },
            "type": "scatterpolargl"
           }
          ],
          "scatterternary": [
           {
            "marker": {
             "colorbar": {
              "outlinewidth": 0,
              "ticks": ""
             }
            },
            "type": "scatterternary"
           }
          ],
          "surface": [
           {
            "colorbar": {
             "outlinewidth": 0,
             "ticks": ""
            },
            "colorscale": [
             [
              0,
              "#0d0887"
             ],
             [
              0.1111111111111111,
              "#46039f"
             ],
             [
              0.2222222222222222,
              "#7201a8"
             ],
             [
              0.3333333333333333,
              "#9c179e"
             ],
             [
              0.4444444444444444,
              "#bd3786"
             ],
             [
              0.5555555555555556,
              "#d8576b"
             ],
             [
              0.6666666666666666,
              "#ed7953"
             ],
             [
              0.7777777777777778,
              "#fb9f3a"
             ],
             [
              0.8888888888888888,
              "#fdca26"
             ],
             [
              1,
              "#f0f921"
             ]
            ],
            "type": "surface"
           }
          ],
          "table": [
           {
            "cells": {
             "fill": {
              "color": "#EBF0F8"
             },
             "line": {
              "color": "white"
             }
            },
            "header": {
             "fill": {
              "color": "#C8D4E3"
             },
             "line": {
              "color": "white"
             }
            },
            "type": "table"
           }
          ]
         },
         "layout": {
          "annotationdefaults": {
           "arrowcolor": "#2a3f5f",
           "arrowhead": 0,
           "arrowwidth": 1
          },
          "autotypenumbers": "strict",
          "coloraxis": {
           "colorbar": {
            "outlinewidth": 0,
            "ticks": ""
           }
          },
          "colorscale": {
           "diverging": [
            [
             0,
             "#8e0152"
            ],
            [
             0.1,
             "#c51b7d"
            ],
            [
             0.2,
             "#de77ae"
            ],
            [
             0.3,
             "#f1b6da"
            ],
            [
             0.4,
             "#fde0ef"
            ],
            [
             0.5,
             "#f7f7f7"
            ],
            [
             0.6,
             "#e6f5d0"
            ],
            [
             0.7,
             "#b8e186"
            ],
            [
             0.8,
             "#7fbc41"
            ],
            [
             0.9,
             "#4d9221"
            ],
            [
             1,
             "#276419"
            ]
           ],
           "sequential": [
            [
             0,
             "#0d0887"
            ],
            [
             0.1111111111111111,
             "#46039f"
            ],
            [
             0.2222222222222222,
             "#7201a8"
            ],
            [
             0.3333333333333333,
             "#9c179e"
            ],
            [
             0.4444444444444444,
             "#bd3786"
            ],
            [
             0.5555555555555556,
             "#d8576b"
            ],
            [
             0.6666666666666666,
             "#ed7953"
            ],
            [
             0.7777777777777778,
             "#fb9f3a"
            ],
            [
             0.8888888888888888,
             "#fdca26"
            ],
            [
             1,
             "#f0f921"
            ]
           ],
           "sequentialminus": [
            [
             0,
             "#0d0887"
            ],
            [
             0.1111111111111111,
             "#46039f"
            ],
            [
             0.2222222222222222,
             "#7201a8"
            ],
            [
             0.3333333333333333,
             "#9c179e"
            ],
            [
             0.4444444444444444,
             "#bd3786"
            ],
            [
             0.5555555555555556,
             "#d8576b"
            ],
            [
             0.6666666666666666,
             "#ed7953"
            ],
            [
             0.7777777777777778,
             "#fb9f3a"
            ],
            [
             0.8888888888888888,
             "#fdca26"
            ],
            [
             1,
             "#f0f921"
            ]
           ]
          },
          "colorway": [
           "#636efa",
           "#EF553B",
           "#00cc96",
           "#ab63fa",
           "#FFA15A",
           "#19d3f3",
           "#FF6692",
           "#B6E880",
           "#FF97FF",
           "#FECB52"
          ],
          "font": {
           "color": "#2a3f5f"
          },
          "geo": {
           "bgcolor": "white",
           "lakecolor": "white",
           "landcolor": "#E5ECF6",
           "showlakes": true,
           "showland": true,
           "subunitcolor": "white"
          },
          "hoverlabel": {
           "align": "left"
          },
          "hovermode": "closest",
          "mapbox": {
           "style": "light"
          },
          "paper_bgcolor": "white",
          "plot_bgcolor": "#E5ECF6",
          "polar": {
           "angularaxis": {
            "gridcolor": "white",
            "linecolor": "white",
            "ticks": ""
           },
           "bgcolor": "#E5ECF6",
           "radialaxis": {
            "gridcolor": "white",
            "linecolor": "white",
            "ticks": ""
           }
          },
          "scene": {
           "xaxis": {
            "backgroundcolor": "#E5ECF6",
            "gridcolor": "white",
            "gridwidth": 2,
            "linecolor": "white",
            "showbackground": true,
            "ticks": "",
            "zerolinecolor": "white"
           },
           "yaxis": {
            "backgroundcolor": "#E5ECF6",
            "gridcolor": "white",
            "gridwidth": 2,
            "linecolor": "white",
            "showbackground": true,
            "ticks": "",
            "zerolinecolor": "white"
           },
           "zaxis": {
            "backgroundcolor": "#E5ECF6",
            "gridcolor": "white",
            "gridwidth": 2,
            "linecolor": "white",
            "showbackground": true,
            "ticks": "",
            "zerolinecolor": "white"
           }
          },
          "shapedefaults": {
           "line": {
            "color": "#2a3f5f"
           }
          },
          "ternary": {
           "aaxis": {
            "gridcolor": "white",
            "linecolor": "white",
            "ticks": ""
           },
           "baxis": {
            "gridcolor": "white",
            "linecolor": "white",
            "ticks": ""
           },
           "bgcolor": "#E5ECF6",
           "caxis": {
            "gridcolor": "white",
            "linecolor": "white",
            "ticks": ""
           }
          },
          "title": {
           "x": 0.05
          },
          "xaxis": {
           "automargin": true,
           "gridcolor": "white",
           "linecolor": "white",
           "ticks": "",
           "title": {
            "standoff": 15
           },
           "zerolinecolor": "white",
           "zerolinewidth": 2
          },
          "yaxis": {
           "automargin": true,
           "gridcolor": "white",
           "linecolor": "white",
           "ticks": "",
           "title": {
            "standoff": 15
           },
           "zerolinecolor": "white",
           "zerolinewidth": 2
          }
         }
        },
        "title": {
         "text": "Scatter Plot on Race vs Total Population"
        },
        "xaxis": {
         "anchor": "y",
         "domain": [
          0,
          1
         ],
         "title": {
          "text": "Population of Races"
         }
        },
        "yaxis": {
         "anchor": "x",
         "domain": [
          0,
          1
         ],
         "title": {
          "text": "Total Population"
         }
        }
       }
      }
     },
     "metadata": {},
     "output_type": "display_data"
    }
   ],
   "source": [
    "import plotly.express as px\n",
    "\n",
    "fig = px.scatter(census_bureau_dataframe, y='Total Population', x='Race: White', color_discrete_sequence=['blue'])\n",
    "fig.add_trace(px.scatter(census_bureau_dataframe, y='Total Population', x='Race: Black or African American ', color_discrete_sequence=['black']).data[0])\n",
    "fig.add_trace(px.scatter(census_bureau_dataframe, y='Total Population', x='Race: Asian', color_discrete_sequence=['red']).data[0])\n",
    "fig.add_trace(px.scatter(census_bureau_dataframe, y='Total Population', x='Race: American Indian and Alaska Native', color_discrete_sequence=['green']).data[0])\n",
    "fig.add_trace(px.scatter(census_bureau_dataframe, y='Total Population', x='Race: Other Race Alone', color_discrete_sequence=['yellow']).data[0])\n",
    "fig.add_trace(px.scatter(census_bureau_dataframe, y='Total Population', x='Race: Two or More Races', color_discrete_sequence=['orange']).data[0])\n",
    "\n",
    "\n",
    "fig.update_layout(\n",
    "    xaxis_title=\"Population of Races\",\n",
    "    yaxis_title=\"Total Population\"\n",
    ")\n",
    "fig.update_layout(title=\"Scatter Plot on Race vs Total Population\")\n",
    "fig.show()\n",
    "\n"
   ]
  }
 ],
 "metadata": {
  "kernelspec": {
   "display_name": "myenviorment",
   "language": "python",
   "name": "python3"
  },
  "language_info": {
   "codemirror_mode": {
    "name": "ipython",
    "version": 3
   },
   "file_extension": ".py",
   "mimetype": "text/x-python",
   "name": "python",
   "nbconvert_exporter": "python",
   "pygments_lexer": "ipython3",
   "version": "3.11.2"
  },
  "orig_nbformat": 4
 },
 "nbformat": 4,
 "nbformat_minor": 2
}
