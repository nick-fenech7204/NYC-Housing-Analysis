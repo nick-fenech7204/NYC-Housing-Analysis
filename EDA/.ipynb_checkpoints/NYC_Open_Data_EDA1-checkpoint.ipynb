{
 "cells": [
  {
   "cell_type": "markdown",
   "metadata": {},
   "source": [
    "Importing pandas to do EDA and become searching for important data to expose"
   ]
  },
  {
   "cell_type": "code",
   "execution_count": 1,
   "metadata": {},
   "outputs": [],
   "source": [
    "import pandas as pd\n",
    "\n",
    "bronx = pd.read_csv('../Data/2022/2022_bronx.csv')\n",
    "brooklyn = pd.read_csv('../Data/2022/2022_brooklyn.csv')\n",
    "manhattan = pd.read_csv('../Data/2022/2022_manhattan.csv')\n",
    "queens = pd.read_csv('../Data/2022/2022_queens.csv')\n",
    "staten_island = pd.read_csv('../Data/2022/2022_staten_island.csv')"
   ]
  },
  {
   "cell_type": "markdown",
   "metadata": {},
   "source": [
    "Combining the all the borough CSV's, and ridding of unimportant columns inside"
   ]
  },
  {
   "cell_type": "code",
   "execution_count": 3,
   "metadata": {},
   "outputs": [],
   "source": [
    "x = pd.concat([manhattan,bronx,brooklyn,queens,staten_island])\n",
    "x.drop(x.index[0],inplace=True)\n",
    "x.drop(['APARTMENT NUMBER', 'EASE-MENT', 'ADDRESS', 'BUILDING CLASS AT PRESENT','BUILDING CLASS AT TIME OF SALE'], axis=1, inplace=True)\n"
   ]
  },
  {
   "cell_type": "markdown",
   "metadata": {},
   "source": [
    "Examining the combined data to see if anything useful jumps out"
   ]
  },
  {
   "cell_type": "code",
   "execution_count": 4,
   "metadata": {},
   "outputs": [
    {
     "data": {
      "text/html": [
       "<div>\n",
       "<style scoped>\n",
       "    .dataframe tbody tr th:only-of-type {\n",
       "        vertical-align: middle;\n",
       "    }\n",
       "\n",
       "    .dataframe tbody tr th {\n",
       "        vertical-align: top;\n",
       "    }\n",
       "\n",
       "    .dataframe thead th {\n",
       "        text-align: right;\n",
       "    }\n",
       "</style>\n",
       "<table border=\"1\" class=\"dataframe\">\n",
       "  <thead>\n",
       "    <tr style=\"text-align: right;\">\n",
       "      <th></th>\n",
       "      <th>BOROUGH</th>\n",
       "      <th>NEIGHBORHOOD</th>\n",
       "      <th>BUILDING CLASS CATEGORY</th>\n",
       "      <th>TAX CLASS AT PRESENT</th>\n",
       "      <th>BLOCK</th>\n",
       "      <th>LOT</th>\n",
       "      <th>ZIP CODE</th>\n",
       "      <th>RESIDENTIAL UNITS</th>\n",
       "      <th>COMMERCIAL UNITS</th>\n",
       "      <th>TOTAL UNITS</th>\n",
       "      <th>LAND SQUARE FEET</th>\n",
       "      <th>GROSS SQUARE FEET</th>\n",
       "      <th>YEAR BUILT</th>\n",
       "      <th>TAX CLASS AT TIME OF SALE</th>\n",
       "      <th>SALE PRICE</th>\n",
       "      <th>SALE DATE</th>\n",
       "    </tr>\n",
       "  </thead>\n",
       "  <tbody>\n",
       "    <tr>\n",
       "      <th>1</th>\n",
       "      <td>1</td>\n",
       "      <td>ALPHABET CITY</td>\n",
       "      <td>02 TWO FAMILY DWELLINGS</td>\n",
       "      <td>1</td>\n",
       "      <td>377</td>\n",
       "      <td>1</td>\n",
       "      <td>10009.0</td>\n",
       "      <td>2</td>\n",
       "      <td>1.0</td>\n",
       "      <td>3</td>\n",
       "      <td>1,502</td>\n",
       "      <td>2,790</td>\n",
       "      <td>1901.0</td>\n",
       "      <td>1</td>\n",
       "      <td>2,999,999</td>\n",
       "      <td>9/15/2022</td>\n",
       "    </tr>\n",
       "    <tr>\n",
       "      <th>2</th>\n",
       "      <td>1</td>\n",
       "      <td>ALPHABET CITY</td>\n",
       "      <td>07 RENTALS - WALKUP APARTMENTS</td>\n",
       "      <td>2B</td>\n",
       "      <td>373</td>\n",
       "      <td>16</td>\n",
       "      <td>10009.0</td>\n",
       "      <td>10</td>\n",
       "      <td>0.0</td>\n",
       "      <td>10</td>\n",
       "      <td>2,204</td>\n",
       "      <td>8,625</td>\n",
       "      <td>1899.0</td>\n",
       "      <td>2</td>\n",
       "      <td>16,800,000</td>\n",
       "      <td>8/4/2022</td>\n",
       "    </tr>\n",
       "    <tr>\n",
       "      <th>3</th>\n",
       "      <td>1</td>\n",
       "      <td>ALPHABET CITY</td>\n",
       "      <td>07 RENTALS - WALKUP APARTMENTS</td>\n",
       "      <td>2B</td>\n",
       "      <td>373</td>\n",
       "      <td>17</td>\n",
       "      <td>10009.0</td>\n",
       "      <td>10</td>\n",
       "      <td>0.0</td>\n",
       "      <td>10</td>\n",
       "      <td>2,204</td>\n",
       "      <td>8,625</td>\n",
       "      <td>1900.0</td>\n",
       "      <td>2</td>\n",
       "      <td>16,800,000</td>\n",
       "      <td>8/4/2022</td>\n",
       "    </tr>\n",
       "    <tr>\n",
       "      <th>4</th>\n",
       "      <td>1</td>\n",
       "      <td>ALPHABET CITY</td>\n",
       "      <td>07 RENTALS - WALKUP APARTMENTS</td>\n",
       "      <td>2</td>\n",
       "      <td>376</td>\n",
       "      <td>54</td>\n",
       "      <td>10009.0</td>\n",
       "      <td>20</td>\n",
       "      <td>0.0</td>\n",
       "      <td>20</td>\n",
       "      <td>2,302</td>\n",
       "      <td>9,750</td>\n",
       "      <td>1900.0</td>\n",
       "      <td>2</td>\n",
       "      <td>158,822</td>\n",
       "      <td>9/27/2022</td>\n",
       "    </tr>\n",
       "    <tr>\n",
       "      <th>5</th>\n",
       "      <td>1</td>\n",
       "      <td>ALPHABET CITY</td>\n",
       "      <td>07 RENTALS - WALKUP APARTMENTS</td>\n",
       "      <td>2A</td>\n",
       "      <td>377</td>\n",
       "      <td>52</td>\n",
       "      <td>10009.0</td>\n",
       "      <td>5</td>\n",
       "      <td>0.0</td>\n",
       "      <td>5</td>\n",
       "      <td>2,168</td>\n",
       "      <td>3,728</td>\n",
       "      <td>1900.0</td>\n",
       "      <td>2</td>\n",
       "      <td>0</td>\n",
       "      <td>8/5/2022</td>\n",
       "    </tr>\n",
       "  </tbody>\n",
       "</table>\n",
       "</div>"
      ],
      "text/plain": [
       "   BOROUGH   NEIGHBORHOOD         BUILDING CLASS CATEGORY  \\\n",
       "1        1  ALPHABET CITY         02 TWO FAMILY DWELLINGS   \n",
       "2        1  ALPHABET CITY  07 RENTALS - WALKUP APARTMENTS   \n",
       "3        1  ALPHABET CITY  07 RENTALS - WALKUP APARTMENTS   \n",
       "4        1  ALPHABET CITY  07 RENTALS - WALKUP APARTMENTS   \n",
       "5        1  ALPHABET CITY  07 RENTALS - WALKUP APARTMENTS   \n",
       "\n",
       "  TAX CLASS AT PRESENT  BLOCK  LOT  ZIP CODE RESIDENTIAL UNITS  \\\n",
       "1                    1    377    1   10009.0                 2   \n",
       "2                   2B    373   16   10009.0                10   \n",
       "3                   2B    373   17   10009.0                10   \n",
       "4                    2    376   54   10009.0                20   \n",
       "5                   2A    377   52   10009.0                 5   \n",
       "\n",
       "  COMMERCIAL UNITS TOTAL UNITS LAND SQUARE FEET GROSS SQUARE FEET  YEAR BUILT  \\\n",
       "1              1.0           3            1,502             2,790      1901.0   \n",
       "2              0.0          10            2,204             8,625      1899.0   \n",
       "3              0.0          10            2,204             8,625      1900.0   \n",
       "4              0.0          20            2,302             9,750      1900.0   \n",
       "5              0.0           5            2,168             3,728      1900.0   \n",
       "\n",
       "   TAX CLASS AT TIME OF SALE  SALE PRICE  SALE DATE  \n",
       "1                          1   2,999,999  9/15/2022  \n",
       "2                          2  16,800,000   8/4/2022  \n",
       "3                          2  16,800,000   8/4/2022  \n",
       "4                          2     158,822  9/27/2022  \n",
       "5                          2           0   8/5/2022  "
      ]
     },
     "execution_count": 4,
     "metadata": {},
     "output_type": "execute_result"
    }
   ],
   "source": [
    "x.head()"
   ]
  },
  {
   "cell_type": "markdown",
   "metadata": {},
   "source": [
    "Replacing column names to make it easier to search"
   ]
  },
  {
   "cell_type": "code",
   "execution_count": 5,
   "metadata": {},
   "outputs": [],
   "source": [
    "x.columns = x.columns.str.replace(' ', '_')\n",
    "x.columns = x.columns.str.replace('\\n', '')"
   ]
  },
  {
   "cell_type": "code",
   "execution_count": 6,
   "metadata": {},
   "outputs": [],
   "source": [
    "x['LAND_SQUARE_FEET']= x['LAND_SQUARE_FEET'].str.replace(',','')\n",
    "x['GROSS_SQUARE_FEET']= x['GROSS_SQUARE_FEET'].str.replace(',', '')\n",
    "x['SALE_PRICE']= x['SALE_PRICE'].str.replace(',', '')"
   ]
  },
  {
   "cell_type": "markdown",
   "metadata": {},
   "source": [
    "checking the what types of information I have and if anything needs to be changed"
   ]
  },
  {
   "cell_type": "code",
   "execution_count": 7,
   "metadata": {},
   "outputs": [
    {
     "name": "stdout",
     "output_type": "stream",
     "text": [
      "<class 'pandas.core.frame.DataFrame'>\n",
      "Int64Index: 93422 entries, 1 to 8644\n",
      "Data columns (total 16 columns):\n",
      " #   Column                     Non-Null Count  Dtype  \n",
      "---  ------                     --------------  -----  \n",
      " 0   BOROUGH                    93422 non-null  int64  \n",
      " 1   NEIGHBORHOOD               93422 non-null  object \n",
      " 2   BUILDING_CLASS_CATEGORY    93422 non-null  object \n",
      " 3   TAX_CLASS_AT_PRESENT       93310 non-null  object \n",
      " 4   BLOCK                      93422 non-null  int64  \n",
      " 5   LOT                        93422 non-null  int64  \n",
      " 6   ZIP_CODE                   93415 non-null  float64\n",
      " 7   RESIDENTIAL_UNITS          70296 non-null  object \n",
      " 8   COMMERCIAL_UNITS           52554 non-null  object \n",
      " 9   TOTAL_UNITS                73263 non-null  object \n",
      " 10  LAND_SQUARE_FEET           49587 non-null  object \n",
      " 11  GROSS_SQUARE_FEET          49587 non-null  object \n",
      " 12  YEAR_BUILT                 87313 non-null  float64\n",
      " 13  TAX_CLASS_AT_TIME_OF_SALE  93422 non-null  int64  \n",
      " 14  SALE_PRICE                 93422 non-null  object \n",
      " 15  SALE_DATE                  93422 non-null  object \n",
      "dtypes: float64(2), int64(4), object(10)\n",
      "memory usage: 12.1+ MB\n"
     ]
    },
    {
     "data": {
      "text/plain": [
       "pandas.core.series.Series"
      ]
     },
     "execution_count": 7,
     "metadata": {},
     "output_type": "execute_result"
    }
   ],
   "source": [
    "x.info()\n",
    "type(x['LAND_SQUARE_FEET'])\n",
    "type(x['GROSS_SQUARE_FEET'])\n",
    "type(x['SALE_PRICE'])"
   ]
  },
  {
   "cell_type": "markdown",
   "metadata": {},
   "source": [
    "Changing the types of these columns to make it more useful "
   ]
  },
  {
   "cell_type": "code",
   "execution_count": 8,
   "metadata": {},
   "outputs": [],
   "source": [
    "x = x.astype({'LAND_SQUARE_FEET': float})\n",
    "x = x.astype({'GROSS_SQUARE_FEET': float})\n",
    "x = x.astype({'SALE_PRICE': float})\n"
   ]
  },
  {
   "cell_type": "code",
   "execution_count": 9,
   "metadata": {},
   "outputs": [],
   "source": [
    "x.to_csv('2022Boroughs.csv')"
   ]
  },
  {
   "cell_type": "markdown",
   "metadata": {},
   "source": [
    "doing some prelimanary linear regression to get a sense of the correlations and what questions could be answered with this dataset"
   ]
  },
  {
   "cell_type": "markdown",
   "metadata": {},
   "source": [
    "Importing the necessities including pandas, xgboost, plotly, and train test split"
   ]
  },
  {
   "cell_type": "code",
   "execution_count": 15,
   "metadata": {},
   "outputs": [],
   "source": [
    "import pandas as pd\n",
    "import xgboost as xgb\n",
    "from sklearn.linear_model import LinearRegression\n",
    "from sklearn.model_selection import train_test_split\n",
    "import matplotlib.pyplot as plt\n",
    "\n",
    "df = pd.read_csv('2022Boroughs.csv')"
   ]
  },
  {
   "cell_type": "markdown",
   "metadata": {},
   "source": [
    "dropping my nulls"
   ]
  },
  {
   "cell_type": "code",
   "execution_count": 16,
   "metadata": {},
   "outputs": [],
   "source": [
    "df = df.dropna()"
   ]
  },
  {
   "cell_type": "markdown",
   "metadata": {},
   "source": [
    "Simple linear regression to look at sale price and borough/sq feet"
   ]
  },
  {
   "cell_type": "code",
   "execution_count": 17,
   "metadata": {},
   "outputs": [
    {
     "name": "stdout",
     "output_type": "stream",
     "text": [
      "Intercept: 6031295.154226003\n",
      "Coefficients: [-1.33544617e+06  9.56264366e+00]\n",
      "R-squared score: 0.010157347253229587\n"
     ]
    }
   ],
   "source": [
    "X = df[['BOROUGH', 'LAND_SQUARE_FEET']]\n",
    "y = df['SALE_PRICE']\n",
    "model = LinearRegression().fit(X, y)\n",
    "\n",
    "print(\"Intercept:\", model.intercept_)\n",
    "print(\"Coefficients:\", model.coef_)\n",
    "r2_score = model.score(X, y)\n",
    "print(\"R-squared score:\", r2_score)"
   ]
  },
  {
   "cell_type": "markdown",
   "metadata": {},
   "source": [
    "simple linear regression to look at sale price and year built/sq feet"
   ]
  },
  {
   "cell_type": "code",
   "execution_count": 18,
   "metadata": {},
   "outputs": [
    {
     "name": "stdout",
     "output_type": "stream",
     "text": [
      "Intercept: -518068.24793072627\n",
      "Coefficients: [ 86.23962895 713.24992802]\n",
      "R-squared score: 0.058792295336953515\n"
     ]
    }
   ],
   "source": [
    "X = df[['GROSS_SQUARE_FEET', 'YEAR_BUILT']]\n",
    "y = df['SALE_PRICE']\n",
    "model = LinearRegression().fit(X, y)\n",
    "\n",
    "print(\"Intercept:\", model.intercept_)\n",
    "print(\"Coefficients:\", model.coef_)\n",
    "r2_score = model.score(X, y)\n",
    "print(\"R-squared score:\", r2_score)"
   ]
  },
  {
   "cell_type": "markdown",
   "metadata": {},
   "source": [
    "simple linear regression comparing sale price to a host of other data"
   ]
  },
  {
   "cell_type": "code",
   "execution_count": 19,
   "metadata": {},
   "outputs": [
    {
     "name": "stdout",
     "output_type": "stream",
     "text": [
      "Intercept: -15696617.359966978\n",
      "Coefficients: [-9.21496039e+05 -2.26618871e+01  9.06324106e+01  1.02307462e+04]\n",
      "R-squared score: 0.06697830357023338\n"
     ]
    }
   ],
   "source": [
    "\n",
    "X = df[['BOROUGH', 'LAND_SQUARE_FEET', 'GROSS_SQUARE_FEET', 'YEAR_BUILT']]\n",
    "y = df['SALE_PRICE']\n",
    "model = LinearRegression().fit(X, y)\n",
    "\n",
    "print(\"Intercept:\", model.intercept_)\n",
    "print(\"Coefficients:\", model.coef_)\n",
    "r2_score = model.score(X, y)\n",
    "print(\"R-squared score:\", r2_score)"
   ]
  },
  {
   "cell_type": "markdown",
   "metadata": {},
   "source": [
    "simple xgboost training my data "
   ]
  },
  {
   "cell_type": "code",
   "execution_count": 20,
   "metadata": {},
   "outputs": [
    {
     "name": "stdout",
     "output_type": "stream",
     "text": [
      "R-squared score: 0.08951828645337799\n"
     ]
    }
   ],
   "source": [
    "X_train, X_test, y_train, y_test = train_test_split(df[['BOROUGH', 'LAND_SQUARE_FEET']], df['SALE_PRICE'], test_size=0.2, random_state=42)\n",
    "\n",
    "model = xgb.XGBRegressor(objective='reg:squarederror', n_estimators=100, max_depth=3, learning_rate=0.1)\n",
    "\n",
    "\n",
    "model.fit(X_train, y_train)\n",
    "\n",
    "\n",
    "y_pred = model.predict(X_test)\n",
    "\n",
    "\n",
    "print(\"R-squared score:\", model.score(X_test, y_test))"
   ]
  },
  {
   "cell_type": "code",
   "execution_count": 21,
   "metadata": {},
   "outputs": [
    {
     "name": "stdout",
     "output_type": "stream",
     "text": [
      "R-squared score: -0.442014182300297\n"
     ]
    }
   ],
   "source": [
    "X_train, X_test, y_train, y_test = train_test_split(df[['GROSS_SQUARE_FEET', 'YEAR_BUILT']], df['SALE_PRICE'], test_size=0.2, random_state=42)\n",
    "\n",
    "model = xgb.XGBRegressor(objective='reg:squarederror', n_estimators=100, max_depth=3, learning_rate=0.1)\n",
    "\n",
    "\n",
    "model.fit(X_train, y_train)\n",
    "\n",
    "\n",
    "y_pred = model.predict(X_test)\n",
    "\n",
    "\n",
    "print(\"R-squared score:\", model.score(X_test, y_test))"
   ]
  },
  {
   "cell_type": "code",
   "execution_count": 22,
   "metadata": {},
   "outputs": [
    {
     "name": "stdout",
     "output_type": "stream",
     "text": [
      "R-squared score: -1.2951670329414724\n"
     ]
    }
   ],
   "source": [
    "X_train, X_test, y_train, y_test = train_test_split(df[['BOROUGH', 'LAND_SQUARE_FEET', 'GROSS_SQUARE_FEET', 'YEAR_BUILT']], df['SALE_PRICE'], test_size=0.2, random_state=42)\n",
    "\n",
    "model = xgb.XGBRegressor(objective='reg:squarederror', n_estimators=100, max_depth=5, learning_rate=0.1)\n",
    "\n",
    "\n",
    "model.fit(X_train, y_train)\n",
    "\n",
    "\n",
    "y_pred = model.predict(X_test)\n",
    "\n",
    "\n",
    "print(\"R-squared score:\", model.score(X_test, y_test))"
   ]
  },
  {
   "cell_type": "markdown",
   "metadata": {},
   "source": [
    "using plotly to look at my models "
   ]
  },
  {
   "cell_type": "code",
   "execution_count": 23,
   "metadata": {},
   "outputs": [
    {
     "data": {
      "image/png": "[encoded data removed]",
      "text/plain": [
       "<Figure size 432x288 with 1 Axes>"
      ]
     },
     "metadata": {
      "needs_background": "light"
     },
     "output_type": "display_data"
    }
   ],
   "source": [
    "X_train, X_test, y_train, y_test = train_test_split(df[['BOROUGH', 'LAND_SQUARE_FEET']], df['SALE_PRICE'], test_size=0.2, random_state=42)\n",
    "\n",
    "model = xgb.XGBRegressor(objective='reg:squarederror', n_estimators=100, max_depth=3, learning_rate=0.1)\n",
    "\n",
    "model.fit(X_train, y_train)\n",
    "\n",
    "y_pred = model.predict(X_test)\n",
    "\n",
    "plt.scatter(y_test, y_pred)\n",
    "plt.xlabel(\"Actual Sale Price\")\n",
    "plt.ylabel(\"Predicted Sale Price\")\n",
    "plt.title(\"XGBoost Model Predictions vs Actual Sale Prices\")\n",
    "plt.show()\n"
   ]
  },
  {
   "cell_type": "code",
   "execution_count": 24,
   "metadata": {},
   "outputs": [
    {
     "data": {
      "image/png": "[encoded data removed]",
      "text/plain": [
       "<Figure size 432x288 with 1 Axes>"
      ]
     },
     "metadata": {
      "needs_background": "light"
     },
     "output_type": "display_data"
    }
   ],
   "source": [
    "X_train, X_test, y_train, y_test = train_test_split(df[['BOROUGH', 'LAND_SQUARE_FEET', 'GROSS_SQUARE_FEET', 'YEAR_BUILT']], df['SALE_PRICE'], test_size=0.2, random_state=42)\n",
    "\n",
    "model = xgb.XGBRegressor(objective='reg:squarederror', n_estimators=100, max_depth=5, learning_rate=0.1)\n",
    "\n",
    "model.fit(X_train, y_train)\n",
    "\n",
    "y_pred = model.predict(X_test)\n",
    "\n",
    "results = pd.DataFrame({'Actual Sale Price': y_test, 'Predicted Sale Price': y_pred})\n",
    "\n",
    "results.plot(kind='scatter', x='Actual Sale Price', y='Predicted Sale Price')\n",
    "\n",
    "plt.title('Actual vs Predicted Sale Prices')\n",
    "plt.show()"
   ]
  },
  {
   "cell_type": "code",
   "execution_count": null,
   "metadata": {},
   "outputs": [],
   "source": []
  }
 ],
 "metadata": {
  "kernelspec": {
   "display_name": "Python 3",
   "language": "python",
   "name": "python3"
  },
  "language_info": {
   "codemirror_mode": {
    "name": "ipython",
    "version": 3
   },
   "file_extension": ".py",
   "mimetype": "text/x-python",
   "name": "python",
   "nbconvert_exporter": "python",
   "pygments_lexer": "ipython3",
   "version": "3.7.1"
  }
 },
 "nbformat": 4,
 "nbformat_minor": 2
}
