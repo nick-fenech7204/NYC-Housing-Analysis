{
 "cells": [
  {
   "cell_type": "code",
   "execution_count": 144,
   "metadata": {},
   "outputs": [],
   "source": [
    "import pyodbc\n",
    "import pandas as pd\n",
    "import numpy as np\n",
    "import matplotlib.pyplot as plt\n",
    "from config import SQLusername\n",
    "from config import SQLpassword\n",
    "import xgboost as xgb\n",
    "from xgboost import XGBRegressor, XGBClassifier, plot_tree, plot_importance, cv\n",
    "from sklearn.model_selection import train_test_split, KFold\n",
    "from sklearn.preprocessing import LabelEncoder\n",
    "from sklearn.metrics import auc, accuracy_score, confusion_matrix, mean_squared_error, r2_score\n",
    "from sklearn import tree\n",
    "pd.set_option('max_columns', None)"
   ]
  },
  {
   "cell_type": "code",
   "execution_count": 2,
   "metadata": {},
   "outputs": [],
   "source": [
    "server = \"cohort50sqlserver.database.windows.net\" \n",
    "database = 'Illidans_Ingenious_Infrastructure' \n",
    "username = SQLusername \n",
    "password = SQLpassword  \n",
    "cnxn = pyodbc.connect('DRIVER={SQL Server};SERVER='+server+';DATABASE='+database+';UID='+username+';PWD='+ password)\n",
    "cursor = cnxn.cursor()\n",
    "query = \"SELECT * FROM dbo.boroughs_housing;\"\n",
    "df = pd.read_sql(query, cnxn)"
   ]
  },
  {
   "cell_type": "code",
   "execution_count": 3,
   "metadata": {},
   "outputs": [
    {
     "name": "stdout",
     "output_type": "stream",
     "text": [
      "<class 'pandas.core.frame.DataFrame'>\n",
      "RangeIndex: 1113589 entries, 0 to 1113588\n",
      "Data columns (total 16 columns):\n",
      " #   Column                     Non-Null Count    Dtype         \n",
      "---  ------                     --------------    -----         \n",
      " 0   BOROUGH                    1113589 non-null  object        \n",
      " 1   NEIGHBORHOOD               1113589 non-null  object        \n",
      " 2   BUILDING CLASS CATEGORY    1113589 non-null  object        \n",
      " 3   TAX CLASS AT PRESENT       1113589 non-null  object        \n",
      " 4   BLOCK                      1113589 non-null  object        \n",
      " 5   LOT                        1113589 non-null  object        \n",
      " 6   ZIP CODE                   1113570 non-null  object        \n",
      " 7   RESIDENTIAL UNITS          1113589 non-null  object        \n",
      " 8   COMMERCIAL UNITS           1113589 non-null  object        \n",
      " 9   TOTAL UNITS                1113589 non-null  object        \n",
      " 10  LAND SQUARE FEET           647083 non-null   float64       \n",
      " 11  GROSS SQUARE FEET          636337 non-null   float64       \n",
      " 12  YEAR BUILT                 1013407 non-null  object        \n",
      " 13  TAX CLASS AT TIME OF SALE  1113589 non-null  object        \n",
      " 14  SALE PRICE                 1113589 non-null  float64       \n",
      " 15  SALE DATE                  1113589 non-null  datetime64[ns]\n",
      "dtypes: datetime64[ns](1), float64(3), object(12)\n",
      "memory usage: 135.9+ MB\n"
     ]
    }
   ],
   "source": [
    "df.info()"
   ]
  },
  {
   "cell_type": "code",
   "execution_count": 161,
   "metadata": {},
   "outputs": [
    {
     "data": {
      "text/html": [
       "<div>\n",
       "<style scoped>\n",
       "    .dataframe tbody tr th:only-of-type {\n",
       "        vertical-align: middle;\n",
       "    }\n",
       "\n",
       "    .dataframe tbody tr th {\n",
       "        vertical-align: top;\n",
       "    }\n",
       "\n",
       "    .dataframe thead th {\n",
       "        text-align: right;\n",
       "    }\n",
       "</style>\n",
       "<table border=\"1\" class=\"dataframe\">\n",
       "  <thead>\n",
       "    <tr style=\"text-align: right;\">\n",
       "      <th></th>\n",
       "      <th>BOROUGH</th>\n",
       "      <th>NEIGHBORHOOD</th>\n",
       "      <th>BUILDING CLASS CATEGORY</th>\n",
       "      <th>TAX CLASS AT PRESENT</th>\n",
       "      <th>BLOCK</th>\n",
       "      <th>LOT</th>\n",
       "      <th>ZIP CODE</th>\n",
       "      <th>RESIDENTIAL UNITS</th>\n",
       "      <th>COMMERCIAL UNITS</th>\n",
       "      <th>TOTAL UNITS</th>\n",
       "      <th>LAND SQUARE FEET</th>\n",
       "      <th>GROSS SQUARE FEET</th>\n",
       "      <th>YEAR BUILT</th>\n",
       "      <th>TAX CLASS AT TIME OF SALE</th>\n",
       "      <th>SALE PRICE</th>\n",
       "      <th>SALE DATE</th>\n",
       "      <th>BUILDING CLASS CATEGORY NUMBER</th>\n",
       "      <th>YEAR</th>\n",
       "      <th>MONTH</th>\n",
       "      <th>DAY</th>\n",
       "    </tr>\n",
       "  </thead>\n",
       "  <tbody>\n",
       "    <tr>\n",
       "      <th>4</th>\n",
       "      <td>1</td>\n",
       "      <td>OTHER</td>\n",
       "      <td>02  TWO FAMILY HOMES</td>\n",
       "      <td>1</td>\n",
       "      <td>375</td>\n",
       "      <td>32</td>\n",
       "      <td>OTHER</td>\n",
       "      <td>2</td>\n",
       "      <td>0</td>\n",
       "      <td>2</td>\n",
       "      <td>2134.0</td>\n",
       "      <td>3542.0</td>\n",
       "      <td>1899</td>\n",
       "      <td>1</td>\n",
       "      <td>1800000.0</td>\n",
       "      <td>2003-01-22</td>\n",
       "      <td>02</td>\n",
       "      <td>2003</td>\n",
       "      <td>01</td>\n",
       "      <td>22</td>\n",
       "    </tr>\n",
       "    <tr>\n",
       "      <th>26</th>\n",
       "      <td>1</td>\n",
       "      <td>OTHER</td>\n",
       "      <td>04  TAX CLASS 1 CONDOS</td>\n",
       "      <td>1A</td>\n",
       "      <td>246</td>\n",
       "      <td>1001</td>\n",
       "      <td>10002</td>\n",
       "      <td>1</td>\n",
       "      <td>0</td>\n",
       "      <td>1</td>\n",
       "      <td>NaN</td>\n",
       "      <td>NaN</td>\n",
       "      <td>1986</td>\n",
       "      <td>1</td>\n",
       "      <td>350000.0</td>\n",
       "      <td>2003-10-23</td>\n",
       "      <td>04</td>\n",
       "      <td>2003</td>\n",
       "      <td>10</td>\n",
       "      <td>23</td>\n",
       "    </tr>\n",
       "    <tr>\n",
       "      <th>532</th>\n",
       "      <td>1</td>\n",
       "      <td>CHELSEA</td>\n",
       "      <td>02  TWO FAMILY HOMES</td>\n",
       "      <td>1</td>\n",
       "      <td>742</td>\n",
       "      <td>71</td>\n",
       "      <td>10011</td>\n",
       "      <td>2</td>\n",
       "      <td>0</td>\n",
       "      <td>2</td>\n",
       "      <td>1393.0</td>\n",
       "      <td>2340.0</td>\n",
       "      <td>1930</td>\n",
       "      <td>1</td>\n",
       "      <td>1500000.0</td>\n",
       "      <td>2003-06-02</td>\n",
       "      <td>02</td>\n",
       "      <td>2003</td>\n",
       "      <td>06</td>\n",
       "      <td>02</td>\n",
       "    </tr>\n",
       "    <tr>\n",
       "      <th>535</th>\n",
       "      <td>1</td>\n",
       "      <td>CHELSEA</td>\n",
       "      <td>02  TWO FAMILY HOMES</td>\n",
       "      <td>1</td>\n",
       "      <td>746</td>\n",
       "      <td>63</td>\n",
       "      <td>10011</td>\n",
       "      <td>2</td>\n",
       "      <td>1</td>\n",
       "      <td>3</td>\n",
       "      <td>2469.0</td>\n",
       "      <td>5400.0</td>\n",
       "      <td>1901</td>\n",
       "      <td>1</td>\n",
       "      <td>3400000.0</td>\n",
       "      <td>2003-12-09</td>\n",
       "      <td>02</td>\n",
       "      <td>2003</td>\n",
       "      <td>12</td>\n",
       "      <td>09</td>\n",
       "    </tr>\n",
       "    <tr>\n",
       "      <th>538</th>\n",
       "      <td>1</td>\n",
       "      <td>CHELSEA</td>\n",
       "      <td>03  THREE FAMILY HOMES</td>\n",
       "      <td>1</td>\n",
       "      <td>743</td>\n",
       "      <td>11</td>\n",
       "      <td>10011</td>\n",
       "      <td>3</td>\n",
       "      <td>0</td>\n",
       "      <td>3</td>\n",
       "      <td>1564.0</td>\n",
       "      <td>3264.0</td>\n",
       "      <td>1910</td>\n",
       "      <td>1</td>\n",
       "      <td>2525000.0</td>\n",
       "      <td>2003-09-10</td>\n",
       "      <td>03</td>\n",
       "      <td>2003</td>\n",
       "      <td>09</td>\n",
       "      <td>10</td>\n",
       "    </tr>\n",
       "    <tr>\n",
       "      <th>...</th>\n",
       "      <td>...</td>\n",
       "      <td>...</td>\n",
       "      <td>...</td>\n",
       "      <td>...</td>\n",
       "      <td>...</td>\n",
       "      <td>...</td>\n",
       "      <td>...</td>\n",
       "      <td>...</td>\n",
       "      <td>...</td>\n",
       "      <td>...</td>\n",
       "      <td>...</td>\n",
       "      <td>...</td>\n",
       "      <td>...</td>\n",
       "      <td>...</td>\n",
       "      <td>...</td>\n",
       "      <td>...</td>\n",
       "      <td>...</td>\n",
       "      <td>...</td>\n",
       "      <td>...</td>\n",
       "      <td>...</td>\n",
       "    </tr>\n",
       "    <tr>\n",
       "      <th>1113584</th>\n",
       "      <td>5</td>\n",
       "      <td>OTHER</td>\n",
       "      <td>02 TWO FAMILY DWELLINGS</td>\n",
       "      <td>1</td>\n",
       "      <td>1116</td>\n",
       "      <td>107</td>\n",
       "      <td>OTHER</td>\n",
       "      <td>2</td>\n",
       "      <td>0</td>\n",
       "      <td>2</td>\n",
       "      <td>3713.0</td>\n",
       "      <td>2059.0</td>\n",
       "      <td>2014</td>\n",
       "      <td>1</td>\n",
       "      <td>730000.0</td>\n",
       "      <td>2022-12-14</td>\n",
       "      <td>02</td>\n",
       "      <td>2022</td>\n",
       "      <td>12</td>\n",
       "      <td>14</td>\n",
       "    </tr>\n",
       "    <tr>\n",
       "      <th>1113585</th>\n",
       "      <td>5</td>\n",
       "      <td>OTHER</td>\n",
       "      <td>02 TWO FAMILY DWELLINGS</td>\n",
       "      <td>1</td>\n",
       "      <td>1116</td>\n",
       "      <td>108</td>\n",
       "      <td>OTHER</td>\n",
       "      <td>2</td>\n",
       "      <td>0</td>\n",
       "      <td>2</td>\n",
       "      <td>3713.0</td>\n",
       "      <td>1550.0</td>\n",
       "      <td>2018</td>\n",
       "      <td>1</td>\n",
       "      <td>700000.0</td>\n",
       "      <td>2022-03-31</td>\n",
       "      <td>02</td>\n",
       "      <td>2022</td>\n",
       "      <td>03</td>\n",
       "      <td>31</td>\n",
       "    </tr>\n",
       "    <tr>\n",
       "      <th>1113586</th>\n",
       "      <td>5</td>\n",
       "      <td>OTHER</td>\n",
       "      <td>02 TWO FAMILY DWELLINGS</td>\n",
       "      <td>1</td>\n",
       "      <td>1116</td>\n",
       "      <td>120</td>\n",
       "      <td>OTHER</td>\n",
       "      <td>2</td>\n",
       "      <td>0</td>\n",
       "      <td>2</td>\n",
       "      <td>3712.0</td>\n",
       "      <td>1550.0</td>\n",
       "      <td>2018</td>\n",
       "      <td>1</td>\n",
       "      <td>498000.0</td>\n",
       "      <td>2022-02-16</td>\n",
       "      <td>02</td>\n",
       "      <td>2022</td>\n",
       "      <td>02</td>\n",
       "      <td>16</td>\n",
       "    </tr>\n",
       "    <tr>\n",
       "      <th>1113587</th>\n",
       "      <td>5</td>\n",
       "      <td>OTHER</td>\n",
       "      <td>02 TWO FAMILY DWELLINGS</td>\n",
       "      <td>1</td>\n",
       "      <td>1116</td>\n",
       "      <td>151</td>\n",
       "      <td>OTHER</td>\n",
       "      <td>2</td>\n",
       "      <td>0</td>\n",
       "      <td>2</td>\n",
       "      <td>5231.0</td>\n",
       "      <td>2059.0</td>\n",
       "      <td>2015</td>\n",
       "      <td>1</td>\n",
       "      <td>50000.0</td>\n",
       "      <td>2022-05-16</td>\n",
       "      <td>02</td>\n",
       "      <td>2022</td>\n",
       "      <td>05</td>\n",
       "      <td>16</td>\n",
       "    </tr>\n",
       "    <tr>\n",
       "      <th>1113588</th>\n",
       "      <td>5</td>\n",
       "      <td>OTHER</td>\n",
       "      <td>02 TWO FAMILY DWELLINGS</td>\n",
       "      <td>1</td>\n",
       "      <td>1121</td>\n",
       "      <td>62</td>\n",
       "      <td>OTHER</td>\n",
       "      <td>2</td>\n",
       "      <td>0</td>\n",
       "      <td>2</td>\n",
       "      <td>6300.0</td>\n",
       "      <td>1348.0</td>\n",
       "      <td>1935</td>\n",
       "      <td>1</td>\n",
       "      <td>530000.0</td>\n",
       "      <td>2022-03-11</td>\n",
       "      <td>02</td>\n",
       "      <td>2022</td>\n",
       "      <td>03</td>\n",
       "      <td>11</td>\n",
       "    </tr>\n",
       "  </tbody>\n",
       "</table>\n",
       "<p>543455 rows × 20 columns</p>\n",
       "</div>"
      ],
      "text/plain": [
       "        BOROUGH NEIGHBORHOOD  BUILDING CLASS CATEGORY TAX CLASS AT PRESENT  \\\n",
       "4             1        OTHER     02  TWO FAMILY HOMES                    1   \n",
       "26            1        OTHER   04  TAX CLASS 1 CONDOS                   1A   \n",
       "532           1      CHELSEA     02  TWO FAMILY HOMES                    1   \n",
       "535           1      CHELSEA     02  TWO FAMILY HOMES                    1   \n",
       "538           1      CHELSEA   03  THREE FAMILY HOMES                    1   \n",
       "...         ...          ...                      ...                  ...   \n",
       "1113584       5        OTHER  02 TWO FAMILY DWELLINGS                    1   \n",
       "1113585       5        OTHER  02 TWO FAMILY DWELLINGS                    1   \n",
       "1113586       5        OTHER  02 TWO FAMILY DWELLINGS                    1   \n",
       "1113587       5        OTHER  02 TWO FAMILY DWELLINGS                    1   \n",
       "1113588       5        OTHER  02 TWO FAMILY DWELLINGS                    1   \n",
       "\n",
       "         BLOCK   LOT ZIP CODE RESIDENTIAL UNITS COMMERCIAL UNITS TOTAL UNITS  \\\n",
       "4          375    32    OTHER                 2                0           2   \n",
       "26         246  1001    10002                 1                0           1   \n",
       "532        742    71    10011                 2                0           2   \n",
       "535        746    63    10011                 2                1           3   \n",
       "538        743    11    10011                 3                0           3   \n",
       "...        ...   ...      ...               ...              ...         ...   \n",
       "1113584   1116   107    OTHER                 2                0           2   \n",
       "1113585   1116   108    OTHER                 2                0           2   \n",
       "1113586   1116   120    OTHER                 2                0           2   \n",
       "1113587   1116   151    OTHER                 2                0           2   \n",
       "1113588   1121    62    OTHER                 2                0           2   \n",
       "\n",
       "         LAND SQUARE FEET  GROSS SQUARE FEET YEAR BUILT  \\\n",
       "4                  2134.0             3542.0       1899   \n",
       "26                    NaN                NaN       1986   \n",
       "532                1393.0             2340.0       1930   \n",
       "535                2469.0             5400.0       1901   \n",
       "538                1564.0             3264.0       1910   \n",
       "...                   ...                ...        ...   \n",
       "1113584            3713.0             2059.0       2014   \n",
       "1113585            3713.0             1550.0       2018   \n",
       "1113586            3712.0             1550.0       2018   \n",
       "1113587            5231.0             2059.0       2015   \n",
       "1113588            6300.0             1348.0       1935   \n",
       "\n",
       "        TAX CLASS AT TIME OF SALE  SALE PRICE   SALE DATE  \\\n",
       "4                               1   1800000.0  2003-01-22   \n",
       "26                              1    350000.0  2003-10-23   \n",
       "532                             1   1500000.0  2003-06-02   \n",
       "535                             1   3400000.0  2003-12-09   \n",
       "538                             1   2525000.0  2003-09-10   \n",
       "...                           ...         ...         ...   \n",
       "1113584                         1    730000.0  2022-12-14   \n",
       "1113585                         1    700000.0  2022-03-31   \n",
       "1113586                         1    498000.0  2022-02-16   \n",
       "1113587                         1     50000.0  2022-05-16   \n",
       "1113588                         1    530000.0  2022-03-11   \n",
       "\n",
       "        BUILDING CLASS CATEGORY NUMBER  YEAR MONTH DAY  \n",
       "4                                   02  2003    01  22  \n",
       "26                                  04  2003    10  23  \n",
       "532                                 02  2003    06  02  \n",
       "535                                 02  2003    12  09  \n",
       "538                                 03  2003    09  10  \n",
       "...                                ...   ...   ...  ..  \n",
       "1113584                             02  2022    12  14  \n",
       "1113585                             02  2022    03  31  \n",
       "1113586                             02  2022    02  16  \n",
       "1113587                             02  2022    05  16  \n",
       "1113588                             02  2022    03  11  \n",
       "\n",
       "[543455 rows x 20 columns]"
      ]
     },
     "execution_count": 161,
     "metadata": {},
     "output_type": "execute_result"
    }
   ],
   "source": [
    "qqq"
   ]
  },
  {
   "cell_type": "code",
   "execution_count": null,
   "metadata": {},
   "outputs": [],
   "source": []
  },
  {
   "cell_type": "code",
   "execution_count": null,
   "metadata": {},
   "outputs": [],
   "source": []
  },
  {
   "cell_type": "code",
   "execution_count": null,
   "metadata": {},
   "outputs": [],
   "source": []
  },
  {
   "cell_type": "code",
   "execution_count": null,
   "metadata": {},
   "outputs": [],
   "source": []
  },
  {
   "cell_type": "code",
   "execution_count": 17,
   "metadata": {
    "scrolled": false
   },
   "outputs": [],
   "source": [
    "# qqq['BUILDING CLASS CATEGORY NUMBER'] = qqq['BUILDING CLASS CATEGORY'].str[0:2]"
   ]
  },
  {
   "cell_type": "code",
   "execution_count": 4,
   "metadata": {},
   "outputs": [],
   "source": [
    "# df['YEAR BUILT'] = pd.to_numeric(df['YEAR BUILT'])\n",
    "# df['BOROUGH'] = pd.to_numeric(df['BOROUGH'])\n"
   ]
  },
  {
   "cell_type": "code",
   "execution_count": 5,
   "metadata": {},
   "outputs": [],
   "source": [
    "# df['GROSS SQUARE FEET'].value_counts()"
   ]
  },
  {
   "cell_type": "code",
   "execution_count": 6,
   "metadata": {
    "scrolled": true
   },
   "outputs": [],
   "source": [
    "# df[df['YEAR BUILT'].isna()]"
   ]
  },
  {
   "cell_type": "code",
   "execution_count": 41,
   "metadata": {},
   "outputs": [],
   "source": [
    "qqq = df.copy()\n",
    "qqq['BLOCK'] = pd.to_numeric(qqq['BLOCK'])\n",
    "qqq['LOT'] = pd.to_numeric(qqq['LOT'])\n",
    "counts = qqq['NEIGHBORHOOD'].value_counts()\n",
    "idx = counts[counts.lt(5000)].index\n",
    "qqq.loc[qqq['NEIGHBORHOOD'].isin(idx), ['NEIGHBORHOOD']] = 'OTHER'\n",
    "# qqq[qqq['NEIGHBORHOOD']=='OTHER']\n",
    "qqq['BUILDING CLASS CATEGORY NUMBER'] = qqq['BUILDING CLASS CATEGORY'].str[0:2]\n",
    "counts = qqq['BUILDING CLASS CATEGORY NUMBER'].value_counts()\n",
    "idx = counts[counts.lt(18000)].index\n",
    "qqq.loc[qqq['BUILDING CLASS CATEGORY NUMBER'].isin(idx), ['BUILDING CLASS CATEGORY NUMBER']] = 'COMMERCIAL'\n",
    "\n",
    "# qqq[qqq['BUILDING CLASS CATEGORY']=='OTHER']\n",
    "counts = qqq['ZIP CODE'].value_counts()\n",
    "idx = counts[counts.lt(5000)].index\n",
    "qqq.loc[qqq['ZIP CODE'].isin(idx), ['ZIP CODE']] = 'OTHER'\n",
    "# qqq[qqq['ZIP CODE']=='OTHER']\n",
    "# qqq['NEIGHBORHOOD'] = qqq['NEIGHBORHOOD'].str.strip()\n",
    "qqq = qqq.astype({'SALE DATE': str})\n",
    "qqq[['YEAR', 'MONTH', 'DAY']] = qqq['SALE DATE'].str.split(\"-\", expand = True)\n",
    "qqq = qqq.astype({'YEAR': int})\n",
    "\n",
    "# Use misc/other for dummy --- feature shape mismatch\n",
    "# NEIGHBORHOOD < 100, BUILDING CLASS CATEGORY < 100, ZIP CODE < 100, maybe...YEAR BUILT\n",
    "# %10 year built for decades\n",
    "# Split sale date by year and month\n",
    "# Use actual train_test_split to see if splitting by year is the problem"
   ]
  },
  {
   "cell_type": "code",
   "execution_count": 42,
   "metadata": {},
   "outputs": [],
   "source": [
    "qqq['BUILDING CLASS CATEGORY NUMBER'] = qqq['BUILDING CLASS CATEGORY NUMBER'].replace({'10': 'COMMERCIAL',\\\n",
    "                    '13': 'COMMERCIAL','07': 'COMMERCIAL','09': 'COMMERCIAL','28': 'COMMERCIAL'}, regex=False)"
   ]
  },
  {
   "cell_type": "code",
   "execution_count": 48,
   "metadata": {
    "scrolled": true
   },
   "outputs": [
    {
     "data": {
      "text/plain": [
       "01    258063\n",
       "02    211633\n",
       "03     54086\n",
       "04     19673\n",
       "Name: BUILDING CLASS CATEGORY NUMBER, dtype: int64"
      ]
     },
     "execution_count": 48,
     "metadata": {},
     "output_type": "execute_result"
    }
   ],
   "source": [
    "qqq['BUILDING CLASS CATEGORY NUMBER'].value_counts()"
   ]
  },
  {
   "cell_type": "code",
   "execution_count": 44,
   "metadata": {},
   "outputs": [],
   "source": [
    "qqq = qqq[qqq['BUILDING CLASS CATEGORY NUMBER'] != \"COMMERCIAL\"]"
   ]
  },
  {
   "cell_type": "code",
   "execution_count": 26,
   "metadata": {},
   "outputs": [],
   "source": [
    "# qqq['TOTAL UNITS'] = qqq['TOTAL UNITS'].str.replace(',','', regex=False)\n",
    "# qqq['TOTAL UNITS'] = qqq['TOTAL UNITS'].str.replace('-','', regex=False)\n",
    "# qqq.replace(r'^\\s*$', np.nan, regex=True, inplace = True)\n",
    "# qqq = qqq.astype({'TOTAL UNITS': int})"
   ]
  },
  {
   "cell_type": "code",
   "execution_count": null,
   "metadata": {},
   "outputs": [],
   "source": []
  },
  {
   "cell_type": "code",
   "execution_count": 56,
   "metadata": {},
   "outputs": [],
   "source": [
    "training_data = qqq.loc[(qqq['SALE DATE'] < '2013-01-01')]\n",
    "test_data = qqq.loc[(qqq['SALE DATE'] >= '2013-01-01')]\n",
    "test_data.reset_index(drop=True,inplace=True)"
   ]
  },
  {
   "cell_type": "code",
   "execution_count": 154,
   "metadata": {},
   "outputs": [],
   "source": [
    "X_train = training_data[['YEAR','LAND SQUARE FEET','GROSS SQUARE FEET']]\n",
    "# X_train = training_data[['SALE DATE']]\n",
    "# tmp = pd.get_dummies(training_data['MONTH'], prefix = 'MONTH', drop_first=True)\n",
    "# X_train = pd.concat([X_train, tmp], axis=1)\n",
    "tmp = pd.get_dummies(training_data['NEIGHBORHOOD'], prefix = 'NEIGHBORHOOD', drop_first=True)\n",
    "X_train = pd.concat([X_train, tmp], axis=1)\n",
    "tmp = pd.get_dummies(training_data['BUILDING CLASS CATEGORY NUMBER'], prefix = 'BLDG', drop_first=True)\n",
    "X_train = pd.concat([X_train, tmp], axis=1)\n",
    "y_train = training_data[['SALE PRICE']]\n",
    "X_test = test_data[['YEAR','LAND SQUARE FEET','GROSS SQUARE FEET']]\n",
    "# X_test = test_data[['SALE DATE']]\n",
    "# tmp = pd.get_dummies(test_data['MONTH'], prefix = 'MONTH', drop_first=True)\n",
    "# X_test = pd.concat([X_test, tmp], axis=1)\n",
    "tmp = pd.get_dummies(test_data['NEIGHBORHOOD'], prefix = 'NEIGHBORHOOD', drop_first=True)\n",
    "X_test = pd.concat([X_test, tmp], axis=1)\n",
    "tmp = pd.get_dummies(test_data['BUILDING CLASS CATEGORY NUMBER'], prefix = 'BLDG', drop_first=True)\n",
    "X_test = pd.concat([X_test, tmp], axis=1)\n",
    "y_test = test_data[['SALE PRICE']]"
   ]
  },
  {
   "cell_type": "code",
   "execution_count": 155,
   "metadata": {},
   "outputs": [],
   "source": [
    "# X_train"
   ]
  },
  {
   "cell_type": "code",
   "execution_count": 156,
   "metadata": {
    "scrolled": true
   },
   "outputs": [],
   "source": [
    "# X_test"
   ]
  },
  {
   "cell_type": "code",
   "execution_count": 162,
   "metadata": {},
   "outputs": [
    {
     "name": "stdout",
     "output_type": "stream",
     "text": [
      "Training set accuracy score: 0.8535532637195167\n",
      "Test set accuracy score: 0.42837411662528635\n"
     ]
    }
   ],
   "source": [
    "xgb_model = XGBRegressor(n_estimators = 1000, eta = 0.1, objective='reg:squarederror',random_state=0, max_depth = 6)\n",
    "xgb_model.fit(X_train, y_train)\n",
    "print(\"Training set accuracy score:\",xgb_model.score(X_train,y_train))\n",
    "y_pred = xgb_model.predict(X_test.values)\n",
    "print(\"Test set accuracy score:\",xgb_model.score(X_test,y_test))"
   ]
  },
  {
   "cell_type": "code",
   "execution_count": 147,
   "metadata": {},
   "outputs": [
    {
     "name": "stdout",
     "output_type": "stream",
     "text": [
      "[15:17:57] WARNING: C:/Users/administrator/workspace/xgboost-win64_release_1.6.0/src/learner.cc:627: \n",
      "Parameters: { \"n_estimators\" } might not be used.\n",
      "\n",
      "  This could be a false alarm, with some parameters getting used by language bindings but\n",
      "  then being mistakenly passed down to XGBoost core, or some parameter actually being used\n",
      "  but getting flagged wrongly here. Please open an issue if you find any such cases.\n",
      "\n",
      "\n"
     ]
    }
   ],
   "source": [
    "X_train['MONTH'] = pd.Categorical(X_train['MONTH']).codes\n",
    "X_test[\"MONTH\"] = pd.Categorical(X_test[\"MONTH\"]).codes\n",
    "d_train = xgb.DMatrix(X_train, y_train, enable_categorical=True)\n",
    "d_test = xgb.DMatrix(X_test, y_test, enable_categorical=True)\n",
    "params = {'learning_rate': 0.1, 'objective': 'reg:squarederror', 'max_depth': 6, 'n_estimators': 100}\n",
    "model = xgb.train(params, d_train)"
   ]
  },
  {
   "cell_type": "code",
   "execution_count": 153,
   "metadata": {},
   "outputs": [
    {
     "name": "stdout",
     "output_type": "stream",
     "text": [
      "1218368996377.8748\n",
      "0.07896421989922464\n"
     ]
    }
   ],
   "source": [
    "preds = model.predict(d_test)\n",
    "# print(np.round(accuracy_score(y_test, preds)*100, 2), '%')\n",
    "# print(model.mean_squared_error(y_test, preds))\n",
    "print((mean_squared_error(y_test, preds)))\n",
    "print((r2_score(y_test, preds)))"
   ]
  },
  {
   "cell_type": "code",
   "execution_count": 131,
   "metadata": {},
   "outputs": [],
   "source": [
    "# params = {\"objective\":\"reg:squarederror\",'colsample_bytree': 0.3,'learning_rate': 0.1,\n",
    "#                 'max_depth': 6, 'alpha': 10}\n",
    "\n",
    "# xgb_cv = cv(dtrain=xgtrain, params=params, nfold=3,\n",
    "#                     num_boost_round=50, early_stopping_rounds=10, metrics=\"auc\", as_pandas=True, seed=123)"
   ]
  },
  {
   "cell_type": "code",
   "execution_count": null,
   "metadata": {},
   "outputs": [],
   "source": []
  },
  {
   "cell_type": "code",
   "execution_count": null,
   "metadata": {},
   "outputs": [],
   "source": []
  },
  {
   "cell_type": "code",
   "execution_count": null,
   "metadata": {},
   "outputs": [],
   "source": []
  },
  {
   "cell_type": "code",
   "execution_count": 107,
   "metadata": {},
   "outputs": [
    {
     "data": {
      "image/png": "[encoded data removed]",
      "text/plain": [
       "<Figure size 432x288 with 1 Axes>"
      ]
     },
     "metadata": {
      "needs_background": "light"
     },
     "output_type": "display_data"
    }
   ],
   "source": [
    "_ = plot_importance(xgb_model, height=1, max_num_features=10)"
   ]
  },
  {
   "cell_type": "code",
   "execution_count": null,
   "metadata": {},
   "outputs": [],
   "source": [
    "# Use for loop to concatenate the prefixes that are the same"
   ]
  }
 ],
 "metadata": {
  "kernelspec": {
   "display_name": "Python 3",
   "language": "python",
   "name": "python3"
  },
  "language_info": {
   "codemirror_mode": {
    "name": "ipython",
    "version": 3
   },
   "file_extension": ".py",
   "mimetype": "text/x-python",
   "name": "python",
   "nbconvert_exporter": "python",
   "pygments_lexer": "ipython3",
   "version": "3.7.1"
  }
 },
 "nbformat": 4,
 "nbformat_minor": 2
}
