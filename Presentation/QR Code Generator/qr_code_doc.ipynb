{
 "cells": [
  {
   "cell_type": "code",
   "execution_count": 1,
   "metadata": {},
   "outputs": [
    {
     "name": "stdout",
     "output_type": "stream",
     "text": [
      "Collecting qrcode\n",
      "  Downloading qrcode-7.4.2-py3-none-any.whl (46 kB)\n",
      "     ---------------------------------------- 0.0/46.2 kB ? eta -:--:--\n",
      "     ---------------------------------------- 46.2/46.2 kB 2.2 MB/s eta 0:00:00\n",
      "Requirement already satisfied: typing-extensions in c:\\users\\nick\\anaconda3\\envs\\myenviorment\\lib\\site-packages (from qrcode) (4.5.0)\n",
      "Collecting pypng\n",
      "  Downloading pypng-0.20220715.0-py3-none-any.whl (58 kB)\n",
      "     ---------------------------------------- 0.0/58.1 kB ? eta -:--:--\n",
      "     ---------------------------------------- 58.1/58.1 kB ? eta 0:00:00\n",
      "Requirement already satisfied: colorama in c:\\users\\nick\\appdata\\roaming\\python\\python311\\site-packages (from qrcode) (0.4.6)\n",
      "Installing collected packages: pypng, qrcode\n",
      "Successfully installed pypng-0.20220715.0 qrcode-7.4.2\n"
     ]
    }
   ],
   "source": [
    "!pip install qrcode"
   ]
  },
  {
   "cell_type": "code",
   "execution_count": 17,
   "metadata": {},
   "outputs": [],
   "source": [
    "import qrcode\n",
    "from PIL import Image\n",
    "# Create a QR code instance\n",
    "qr = qrcode.QRCode(\n",
    "    version=1,  # QR code version (1 to 40, higher value for more data)\n",
    "    error_correction=qrcode.constants.ERROR_CORRECT_L,  # Error correction level\n",
    "    box_size=10,  # Size of each box (pixel)\n",
    "    border=4,  # Border size (box count)\n",
    ")\n",
    "\n",
    "# Add data to the QR code\n",
    "data = \"https://docs.google.com/forms/d/e/1FAIpQLSd5_IlHVMjhhEINvQWJMd1CJxE2Y55EhA8phGlvblWZQF03ag/viewform?usp=sf_link\"\n",
    "qr.add_data(data)\n",
    "qr.make(fit=True)\n",
    "\n",
    "# Create an image from the QR code\n",
    "qr_image = qr.make_image(fill_color=\"purple\", back_color=\"orange\")\n",
    "\n",
    "logo_image = Image.open(\"king.png\")\n",
    "\n",
    "# Resize the logo image to fit within the QR code\n",
    "logo_size = (qr_image.size[0] // 4, qr_image.size[1] // 4)\n",
    "logo_image = logo_image.resize(logo_size)\n",
    "\n",
    "# Calculate the position to place the logo within the QR code\n",
    "logo_position = (\n",
    "    (qr_image.size[0] - logo_size[0]),\n",
    "    (qr_image.size[1] - logo_size[1]),\n",
    ")\n",
    "\n",
    "# Paste the logo onto the QR code\n",
    "qr_image.paste(logo_image, logo_position)\n",
    "\n",
    "# Save the final image with the logo\n",
    "qr_image.save(\"qrcode_with_logo.png\")\n",
    "\n",
    "# Save the image as a file\n",
    "img.save(\"qrcode.png\")"
   ]
  },
  {
   "cell_type": "code",
   "execution_count": null,
   "metadata": {},
   "outputs": [],
   "source": []
  }
 ],
 "metadata": {
  "kernelspec": {
   "display_name": "myenviorment",
   "language": "python",
   "name": "python3"
  },
  "language_info": {
   "codemirror_mode": {
    "name": "ipython",
    "version": 3
   },
   "file_extension": ".py",
   "mimetype": "text/x-python",
   "name": "python",
   "nbconvert_exporter": "python",
   "pygments_lexer": "ipython3",
   "version": "3.11.2"
  },
  "orig_nbformat": 4
 },
 "nbformat": 4,
 "nbformat_minor": 2
}
