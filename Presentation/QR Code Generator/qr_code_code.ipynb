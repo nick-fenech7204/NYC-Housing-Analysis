{
 "cells": [
  {
   "attachments": {},
   "cell_type": "markdown",
   "metadata": {},
   "source": [
    "### QR Code Creation "
   ]
  },
  {
   "attachments": {},
   "cell_type": "markdown",
   "metadata": {},
   "source": [
    "Here is a [website](https://ezgif.com/) to edit the gif for any needs "
   ]
  },
  {
   "attachments": {},
   "cell_type": "markdown",
   "metadata": {},
   "source": [
    "### Install qrcode for static qr code"
   ]
  },
  {
   "cell_type": "code",
   "execution_count": null,
   "metadata": {},
   "outputs": [],
   "source": [
    "!pip install qrcode"
   ]
  },
  {
   "attachments": {},
   "cell_type": "markdown",
   "metadata": {},
   "source": [
    "Code Below to Create Static QR Code\n"
   ]
  },
  {
   "cell_type": "code",
   "execution_count": 6,
   "metadata": {},
   "outputs": [],
   "source": [
    "import qrcode\n",
    "from PIL import Image\n",
    "# Create a QR code instance\n",
    "qr = qrcode.QRCode(\n",
    "    version=1,  # QR code version (1 to 40, higher value for more data)\n",
    "    error_correction=qrcode.constants.ERROR_CORRECT_L,  # Error correction level\n",
    "    box_size=10,  # Size of each box (pixel)\n",
    "    border=4,  # Border size (box count)\n",
    ")\n",
    "\n",
    "# Add data to the QR code\n",
    "data = \"https://docs.google.com/forms/d/e/1FAIpQLSd5_IlHVMjhhEINvQWJMd1CJxE2Y55EhA8phGlvblWZQF03ag/viewform?usp=sf_link\"\n",
    "qr.add_data(data)\n",
    "qr.make(fit=True)\n",
    "\n",
    "# Create an image from the QR code\n",
    "qr_image = qr.make_image(fill_color=\"purple\", back_color=\"orange\")\n",
    "\n",
    "logo_image = Image.open(\"image_processing20191213-6403-1j99nlm.gif\")\n",
    "\n",
    "# Resize the logo image to fit within the QR code\n",
    "logo_size = (qr_image.size[0] // 4, qr_image.size[1] // 4)\n",
    "logo_image = logo_image.resize(logo_size)\n",
    "\n",
    "# Calculate the position to place the logo within the QR code\n",
    "logo_position = (\n",
    "    (qr_image.size[0] - logo_size[0]),\n",
    "    (qr_image.size[1] - logo_size[1]),\n",
    ")\n",
    "\n",
    "# Paste the logo onto the QR code\n",
    "qr_image.paste(logo_image, logo_position)\n",
    "\n",
    "# Save the final image with the logo\n",
    "qr_image.save(\"qrcode_with_logo.png\")\n",
    "\n",
    "# Save the image as a file\n",
    "qr_image.save(\"qrcode.png\")"
   ]
  },
  {
   "attachments": {},
   "cell_type": "markdown",
   "metadata": {},
   "source": [
    "[Website](https://pypi.org/project/qrcode/) for Documentation on qrcode"
   ]
  },
  {
   "attachments": {},
   "cell_type": "markdown",
   "metadata": {},
   "source": [
    "#### Install amzqr for gif qr code "
   ]
  },
  {
   "cell_type": "code",
   "execution_count": null,
   "metadata": {},
   "outputs": [],
   "source": [
    "!pip install amzqr"
   ]
  },
  {
   "attachments": {},
   "cell_type": "markdown",
   "metadata": {},
   "source": [
    "QR Code Documentation "
   ]
  },
  {
   "cell_type": "code",
   "execution_count": null,
   "metadata": {},
   "outputs": [],
   "source": [
    "help(amzqr)"
   ]
  },
  {
   "attachments": {},
   "cell_type": "markdown",
   "metadata": {},
   "source": [
    "Code Below to create gif QR Code "
   ]
  },
  {
   "cell_type": "code",
   "execution_count": 1,
   "metadata": {},
   "outputs": [
    {
     "name": "stdout",
     "output_type": "stream",
     "text": [
      "line 16: mode: byte\n"
     ]
    }
   ],
   "source": [
    "from amzqr import amzqr\n",
    "import os\n",
    "\n",
    "data = \"https://docs.google.com/forms/d/e/1FAIpQLSd5_IlHVMjhhEINvQWJMd1CJxE2Y55EhA8phGlvblWZQF03ag/viewform?usp=sf_link\"\n",
    "\n",
    "# Generate the QR code without the picture parameter\n",
    "version, level, qr_name = amzqr.run(\n",
    "    data,\n",
    "    version=10,\n",
    "    level='H',\n",
    "    picture='illidan_love.gif',\n",
    "    colorized=True,\n",
    "    contrast=1.0,\n",
    "    brightness=1.0,\n",
    "    save_name='final_illidan.gif',\n",
    "    save_dir=os.getcwd()\n",
    ")\n",
    "\n"
   ]
  },
  {
   "attachments": {},
   "cell_type": "markdown",
   "metadata": {},
   "source": [
    "[Website](https://github.com/x-hw/amazing-qr/tree/master#animated-gif-qr-code) for Documentation on amzqr"
   ]
  }
 ],
 "metadata": {
  "kernelspec": {
   "display_name": "myenviorment",
   "language": "python",
   "name": "python3"
  },
  "language_info": {
   "codemirror_mode": {
    "name": "ipython",
    "version": 3
   },
   "file_extension": ".py",
   "mimetype": "text/x-python",
   "name": "python",
   "nbconvert_exporter": "python",
   "pygments_lexer": "ipython3",
   "version": "3.11.2"
  },
  "orig_nbformat": 4
 },
 "nbformat": 4,
 "nbformat_minor": 2
}
